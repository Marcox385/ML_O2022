{
 "cells": [
  {
   "cell_type": "markdown",
   "metadata": {},
   "source": [
    "### IS727272 - Cordero Hernández, Marco Ricardo"
   ]
  },
  {
   "cell_type": "markdown",
   "metadata": {},
   "source": [
    "# Exercise 4.1.2 Incidence AIDS cases, polynomial regression\n",
    "\n",
    "This dataset is formed by one feature (time), and one output (number of cases). We are going to use this data to show how to use a polynomial regression.\n",
    "\n",
    "The steps to follow are:\n",
    "1. Read the data and save the input in 'x' array and the output in 'y' array.\n",
    "2. Plot 'x' vs 'y' to observe the output behavior\n",
    "3. Obtain the linear model calculating W0 and w1 coefficients, the cost parameter, and plot the output obtained (yt) vs the output (y).\n",
    "4. Add a second order feature ($x^2$), obtain the X matrix adding the 'Bias' feature (ones column), and calculate the vector W using the closed-form solution.\n",
    "5. Calculate the cost function and plot the estimation."
   ]
  },
  {
   "cell_type": "code",
   "execution_count": 5,
   "metadata": {},
   "outputs": [
    {
     "data": {
      "text/html": [
       "<div>\n",
       "<style scoped>\n",
       "    .dataframe tbody tr th:only-of-type {\n",
       "        vertical-align: middle;\n",
       "    }\n",
       "\n",
       "    .dataframe tbody tr th {\n",
       "        vertical-align: top;\n",
       "    }\n",
       "\n",
       "    .dataframe thead th {\n",
       "        text-align: right;\n",
       "    }\n",
       "</style>\n",
       "<table border=\"1\" class=\"dataframe\">\n",
       "  <thead>\n",
       "    <tr style=\"text-align: right;\">\n",
       "      <th></th>\n",
       "      <th>Time</th>\n",
       "      <th>Cases</th>\n",
       "    </tr>\n",
       "  </thead>\n",
       "  <tbody>\n",
       "    <tr>\n",
       "      <th>0</th>\n",
       "      <td>1</td>\n",
       "      <td>185</td>\n",
       "    </tr>\n",
       "    <tr>\n",
       "      <th>1</th>\n",
       "      <td>2</td>\n",
       "      <td>200</td>\n",
       "    </tr>\n",
       "    <tr>\n",
       "      <th>2</th>\n",
       "      <td>3</td>\n",
       "      <td>293</td>\n",
       "    </tr>\n",
       "    <tr>\n",
       "      <th>3</th>\n",
       "      <td>4</td>\n",
       "      <td>374</td>\n",
       "    </tr>\n",
       "    <tr>\n",
       "      <th>4</th>\n",
       "      <td>5</td>\n",
       "      <td>554</td>\n",
       "    </tr>\n",
       "    <tr>\n",
       "      <th>5</th>\n",
       "      <td>6</td>\n",
       "      <td>713</td>\n",
       "    </tr>\n",
       "    <tr>\n",
       "      <th>6</th>\n",
       "      <td>7</td>\n",
       "      <td>763</td>\n",
       "    </tr>\n",
       "    <tr>\n",
       "      <th>7</th>\n",
       "      <td>8</td>\n",
       "      <td>857</td>\n",
       "    </tr>\n",
       "    <tr>\n",
       "      <th>8</th>\n",
       "      <td>9</td>\n",
       "      <td>1147</td>\n",
       "    </tr>\n",
       "    <tr>\n",
       "      <th>9</th>\n",
       "      <td>10</td>\n",
       "      <td>1369</td>\n",
       "    </tr>\n",
       "    <tr>\n",
       "      <th>10</th>\n",
       "      <td>11</td>\n",
       "      <td>1563</td>\n",
       "    </tr>\n",
       "    <tr>\n",
       "      <th>11</th>\n",
       "      <td>12</td>\n",
       "      <td>1726</td>\n",
       "    </tr>\n",
       "    <tr>\n",
       "      <th>12</th>\n",
       "      <td>13</td>\n",
       "      <td>2142</td>\n",
       "    </tr>\n",
       "    <tr>\n",
       "      <th>13</th>\n",
       "      <td>14</td>\n",
       "      <td>2525</td>\n",
       "    </tr>\n",
       "    <tr>\n",
       "      <th>14</th>\n",
       "      <td>15</td>\n",
       "      <td>2951</td>\n",
       "    </tr>\n",
       "    <tr>\n",
       "      <th>15</th>\n",
       "      <td>16</td>\n",
       "      <td>3160</td>\n",
       "    </tr>\n",
       "    <tr>\n",
       "      <th>16</th>\n",
       "      <td>17</td>\n",
       "      <td>3819</td>\n",
       "    </tr>\n",
       "    <tr>\n",
       "      <th>17</th>\n",
       "      <td>18</td>\n",
       "      <td>4321</td>\n",
       "    </tr>\n",
       "    <tr>\n",
       "      <th>18</th>\n",
       "      <td>19</td>\n",
       "      <td>4863</td>\n",
       "    </tr>\n",
       "    <tr>\n",
       "      <th>19</th>\n",
       "      <td>20</td>\n",
       "      <td>5192</td>\n",
       "    </tr>\n",
       "    <tr>\n",
       "      <th>20</th>\n",
       "      <td>21</td>\n",
       "      <td>6155</td>\n",
       "    </tr>\n",
       "    <tr>\n",
       "      <th>21</th>\n",
       "      <td>22</td>\n",
       "      <td>6816</td>\n",
       "    </tr>\n",
       "    <tr>\n",
       "      <th>22</th>\n",
       "      <td>23</td>\n",
       "      <td>7491</td>\n",
       "    </tr>\n",
       "    <tr>\n",
       "      <th>23</th>\n",
       "      <td>24</td>\n",
       "      <td>7726</td>\n",
       "    </tr>\n",
       "    <tr>\n",
       "      <th>24</th>\n",
       "      <td>25</td>\n",
       "      <td>8483</td>\n",
       "    </tr>\n",
       "  </tbody>\n",
       "</table>\n",
       "</div>"
      ],
      "text/plain": [
       "    Time  Cases\n",
       "0      1    185\n",
       "1      2    200\n",
       "2      3    293\n",
       "3      4    374\n",
       "4      5    554\n",
       "5      6    713\n",
       "6      7    763\n",
       "7      8    857\n",
       "8      9   1147\n",
       "9     10   1369\n",
       "10    11   1563\n",
       "11    12   1726\n",
       "12    13   2142\n",
       "13    14   2525\n",
       "14    15   2951\n",
       "15    16   3160\n",
       "16    17   3819\n",
       "17    18   4321\n",
       "18    19   4863\n",
       "19    20   5192\n",
       "20    21   6155\n",
       "21    22   6816\n",
       "22    23   7491\n",
       "23    24   7726\n",
       "24    25   8483"
      ]
     },
     "execution_count": 5,
     "metadata": {},
     "output_type": "execute_result"
    }
   ],
   "source": [
    "# 1. Read data\n",
    "import numpy as np\n",
    "import pandas as pd\n",
    "import matplotlib.pyplot as plt\n",
    "from numpy.linalg import pinv\n",
    "import math\n",
    "\n",
    "aidset = pd.read_csv('./Datasets/AIDScases.csv')\n",
    "aidset"
   ]
  },
  {
   "cell_type": "code",
   "execution_count": 6,
   "metadata": {},
   "outputs": [
    {
     "name": "stdout",
     "output_type": "stream",
     "text": [
      "(25,) (25,)\n"
     ]
    }
   ],
   "source": [
    "# Convert to numpy arrays\n",
    "x = np.array(aidset['Time'])\n",
    "y = np.array(aidset['Cases'])\n",
    "\n",
    "print(np.shape(x), np.shape(y))"
   ]
  },
  {
   "cell_type": "code",
   "execution_count": 7,
   "metadata": {},
   "outputs": [
    {
     "data": {
      "text/plain": [
       "Text(0, 0.5, 'No. of Incidences')"
      ]
     },
     "execution_count": 7,
     "metadata": {},
     "output_type": "execute_result"
    },
    {
     "data": {
      "image/png": "[encoded data removed]",
      "text/plain": [
       "<Figure size 432x288 with 1 Axes>"
      ]
     },
     "metadata": {
      "needs_background": "light"
     },
     "output_type": "display_data"
    }
   ],
   "source": [
    "# 2. Plot data\n",
    "# plt.scatter(aidset['Time'], aidset['Cases'])\n",
    "# plt.show()\n",
    "\n",
    "plt.plot(x, y, 'o')\n",
    "plt.title('AIDS Incidences')\n",
    "plt.xlabel('Quarter')\n",
    "plt.ylabel('No. of Incidences')"
   ]
  },
  {
   "cell_type": "code",
   "execution_count": 8,
   "metadata": {},
   "outputs": [],
   "source": [
    "# Cost function\n",
    "def costFunc(y, yt):\n",
    "    r = y - yt\n",
    "    cost = np.dot(r, r) / len(y)\n",
    "    \n",
    "    return cost"
   ]
  },
  {
   "cell_type": "code",
   "execution_count": 9,
   "metadata": {},
   "outputs": [
    {
     "name": "stdout",
     "output_type": "stream",
     "text": [
      "Cost: 541734.0413230766\n"
     ]
    },
    {
     "data": {
      "text/plain": [
       "Text(0.5, 1.0, 'Linear Model, cost = 541734.0413230766')"
      ]
     },
     "execution_count": 9,
     "metadata": {},
     "output_type": "execute_result"
    },
    {
     "data": {
      "image/png": "[encoded data removed]",
      "text/plain": [
       "<Figure size 432x288 with 1 Axes>"
      ]
     },
     "metadata": {
      "needs_background": "light"
     },
     "output_type": "display_data"
    }
   ],
   "source": [
    "# 3. Obtain a w0 and w1 for a linear regression and calculate yt = w0 + w1*x\n",
    "xp = np.average(x) # average x\n",
    "yp = np.average(y) # average y\n",
    "\n",
    "w1 = (np.average(x * y) - np.average(xp) * np.average(yp)) / (np.average(x * x) - np.average(xp) * np.average(xp))\n",
    "w0 = yp - (w1 * xp)\n",
    "\n",
    "yt = w0 + w1 * x # Prediction\n",
    "\n",
    "# Cost calculation\n",
    "cost = costFunc(y, yt)\n",
    "print(f'Cost: {cost}')\n",
    "\n",
    "# Graph\n",
    "plt.plot(y, 'or', yt, 'g')\n",
    "plt.title(f'Linear Model, cost = {cost}')"
   ]
  },
  {
   "cell_type": "markdown",
   "metadata": {},
   "source": [
    "### Polynomial function\n",
    "We can add more powers to X to get a polynomial function: $$f(X,W) = \\sum_{k=0}^{K}w_k x^k$$"
   ]
  },
  {
   "cell_type": "code",
   "execution_count": 10,
   "metadata": {},
   "outputs": [
    {
     "name": "stdout",
     "output_type": "stream",
     "text": [
      "(25, 3)\n",
      "[[  1.   1.   1.]\n",
      " [  1.   2.   4.]\n",
      " [  1.   3.   9.]\n",
      " [  1.   4.  16.]\n",
      " [  1.   5.  25.]\n",
      " [  1.   6.  36.]\n",
      " [  1.   7.  49.]\n",
      " [  1.   8.  64.]\n",
      " [  1.   9.  81.]\n",
      " [  1.  10. 100.]\n",
      " [  1.  11. 121.]\n",
      " [  1.  12. 144.]\n",
      " [  1.  13. 169.]\n",
      " [  1.  14. 196.]\n",
      " [  1.  15. 225.]\n",
      " [  1.  16. 256.]\n",
      " [  1.  17. 289.]\n",
      " [  1.  18. 324.]\n",
      " [  1.  19. 361.]\n",
      " [  1.  20. 400.]\n",
      " [  1.  21. 441.]\n",
      " [  1.  22. 484.]\n",
      " [  1.  23. 529.]\n",
      " [  1.  24. 576.]\n",
      " [  1.  25. 625.]]\n"
     ]
    }
   ],
   "source": [
    "#4. Polynomial features\n",
    "def bias(xf):\n",
    "    xf = np.array(xf).T\n",
    "    n, m = np.shape(xf)\n",
    "    ones = np.ones((n, 1))\n",
    "    X = np.concatenate((ones, xf), axis = 1)\n",
    "    \n",
    "    return X\n",
    "\n",
    "features = [x, x * x]\n",
    "x = bias(features)\n",
    "print(np.shape(x))\n",
    "print(x)"
   ]
  },
  {
   "cell_type": "code",
   "execution_count": 11,
   "metadata": {},
   "outputs": [
    {
     "name": "stdout",
     "output_type": "stream",
     "text": [
      "[343.59130435 -60.13798216  15.62770346]\n",
      "(3,)\n"
     ]
    }
   ],
   "source": [
    "#Calculate W Closed-form solution\n",
    "\n",
    "def closedForm(X, y):\n",
    "    X2 = np.dot(X.T, X)\n",
    "    XY = np.dot(X.T, y)\n",
    "    Xinv = np.linalg.pinv(X2)\n",
    "    \n",
    "    W = np.dot(Xinv, XY)\n",
    "    \n",
    "    return W\n",
    "\n",
    "W = closedForm(x, y)\n",
    "print(W)\n",
    "print(np.shape(W))"
   ]
  },
  {
   "cell_type": "code",
   "execution_count": 8,
   "metadata": {},
   "outputs": [
    {
     "name": "stdout",
     "output_type": "stream",
     "text": [
      "[ 299.08102564  285.82615385  303.82668896  353.08263099  433.59397993\n",
      "  545.36073579  688.38289855  862.66046823 1068.19344482 1304.98182832\n",
      " 1573.02561873 1872.32481605 2202.87942029 2564.68943144 2957.7548495\n",
      " 3382.07567447 3837.65190635 4324.48354515 4842.57059086 5391.91304348\n",
      " 5972.51090301 6584.36416945 7227.47284281 7901.83692308 8607.45641026]\n"
     ]
    }
   ],
   "source": [
    "#Prediction\n",
    "yt = np.dot(W, x.T)\n",
    "print(yt)"
   ]
  },
  {
   "cell_type": "code",
   "execution_count": 9,
   "metadata": {},
   "outputs": [
    {
     "data": {
      "text/plain": [
       "Text(0.5, 1.0, 'Quadratic Model, cost = 15966.213088963223')"
      ]
     },
     "execution_count": 9,
     "metadata": {},
     "output_type": "execute_result"
    },
    {
     "data": {
      "image/png": "[encoded data removed]",
      "text/plain": [
       "<Figure size 432x288 with 1 Axes>"
      ]
     },
     "metadata": {
      "needs_background": "light"
     },
     "output_type": "display_data"
    }
   ],
   "source": [
    "#Cubic model || Graph\n",
    "plt.plot(y, 'or', yt, 'g')\n",
    "cost = costFunc(y, yt)\n",
    "plt.title(f'Quadratic Model, cost = {cost}')"
   ]
  },
  {
   "cell_type": "markdown",
   "metadata": {},
   "source": [
    "### Non-polynomial function\n",
    "\n",
    "The linear regression is not restricted to polynomial functions:\n",
    "\n",
    "\n",
    "$$f(X,W) = w_0 + w_1 x + w_2 x^2 + w_3 sin\\left(\\frac{x-a}{b}\\right)$$"
   ]
  },
  {
   "cell_type": "code",
   "execution_count": 10,
   "metadata": {},
   "outputs": [
    {
     "name": "stdout",
     "output_type": "stream",
     "text": [
      "(25, 4)\n",
      "[[ 1.00000000e+00  1.00000000e+00  1.00000000e+00 -4.98319802e-01]\n",
      " [ 1.00000000e+00  2.00000000e+00  4.00000000e+00 -6.84718859e-01]\n",
      " [ 1.00000000e+00  3.00000000e+00  9.00000000e+00 -8.34252668e-01]\n",
      " [ 1.00000000e+00  4.00000000e+00  1.60000000e+01 -9.38870333e-01]\n",
      " [ 1.00000000e+00  5.00000000e+00  2.50000000e+01 -9.92939240e-01]\n",
      " [ 1.00000000e+00  6.00000000e+00  3.60000000e+01 -9.93548322e-01]\n",
      " [ 1.00000000e+00  7.00000000e+00  4.90000000e+01 -9.40664784e-01]\n",
      " [ 1.00000000e+00  8.00000000e+00  6.40000000e+01 -8.37135876e-01]\n",
      " [ 1.00000000e+00  9.00000000e+00  8.10000000e+01 -6.88535592e-01]\n",
      " [ 1.00000000e+00  1.00000000e+01  1.00000000e+02 -5.02864568e-01]\n",
      " [ 1.00000000e+00  1.10000000e+01  1.21000000e+02 -2.90119326e-01]\n",
      " [ 1.00000000e+00  1.20000000e+01  1.44000000e+02 -6.17540667e-02]\n",
      " [ 1.00000000e+00  1.30000000e+01  1.69000000e+02  1.69936030e-01]\n",
      " [ 1.00000000e+00  1.40000000e+01  1.96000000e+02  3.92476775e-01]\n",
      " [ 1.00000000e+00  1.50000000e+01  2.25000000e+02  5.93886579e-01]\n",
      " [ 1.00000000e+00  1.60000000e+01  2.56000000e+02  7.63321544e-01]\n",
      " [ 1.00000000e+00  1.70000000e+01  2.89000000e+02  8.91659294e-01]\n",
      " [ 1.00000000e+00  1.80000000e+01  3.24000000e+02  9.71990128e-01]\n",
      " [ 1.00000000e+00  1.90000000e+01  3.61000000e+02  9.99989036e-01]\n",
      " [ 1.00000000e+00  2.00000000e+01  4.00000000e+02  9.74148557e-01]\n",
      " [ 1.00000000e+00  2.10000000e+01  4.41000000e+02  8.95859942e-01]\n",
      " [ 1.00000000e+00  2.20000000e+01  4.84000000e+02  7.69338248e-01]\n",
      " [ 1.00000000e+00  2.30000000e+01  5.29000000e+02  6.01395401e-01]\n",
      " [ 1.00000000e+00  2.40000000e+01  5.76000000e+02  4.01073439e-01]\n",
      " [ 1.00000000e+00  2.50000000e+01  6.25000000e+02  1.79157692e-01]]\n",
      "[222.14751047 -47.11731402  15.41670477 -87.67617569]\n",
      "(4,)\n",
      "[ 234.1376757   249.61323244  292.68999479  362.66209089  459.03567481\n",
      "  581.55551518  730.21873683  905.27497562 1107.21293803 1336.73408921\n",
      " 1594.71488615 1882.15958919 2200.14619272 2549.76838598 2932.07666884\n",
      " 3348.0217929  3798.4035731  4283.82782563 4804.67375085 5361.07351715\n",
      " 5952.90514497 6579.79907421 7241.15806134 7936.18933494 8663.94727855]\n"
     ]
    },
    {
     "data": {
      "text/plain": [
       "Text(0.5, 1.0, 'Non-polynomial Model, cost = 14887.821755223367')"
      ]
     },
     "execution_count": 10,
     "metadata": {},
     "output_type": "execute_result"
    },
    {
     "data": {
      "image/png": "[encoded data removed]",
      "text/plain": [
       "<Figure size 432x288 with 1 Axes>"
      ]
     },
     "metadata": {
      "needs_background": "light"
     },
     "output_type": "display_data"
    }
   ],
   "source": [
    "# Non-polynomial function (a = 2660, b = 4.3)\n",
    "x = np.array(aidset['Time'])\n",
    "y = np.array(aidset['Cases'])\n",
    "\n",
    "features = [x, x**2, np.sin((x - 2660)/4.3)]\n",
    "x = bias(features)\n",
    "print(np.shape(x))\n",
    "print(x)\n",
    "\n",
    "W = closedForm(x, y)\n",
    "print(W)\n",
    "print(np.shape(W))\n",
    "\n",
    "yt = np.dot(W, x.T)\n",
    "print(yt)\n",
    "\n",
    "cost = costFunc(y, yt)\n",
    "\n",
    "# Non-polynomial model || Graph\n",
    "plt.plot(y, 'or', yt, 'g')\n",
    "plt.title(f'Non-polynomial Model, cost = {cost}')"
   ]
  }
 ],
 "metadata": {
  "kernelspec": {
   "display_name": "Python 3 (ipykernel)",
   "language": "python",
   "name": "python3"
  },
  "language_info": {
   "codemirror_mode": {
    "name": "ipython",
    "version": 3
   },
   "file_extension": ".py",
   "mimetype": "text/x-python",
   "name": "python",
   "nbconvert_exporter": "python",
   "pygments_lexer": "ipython3",
   "version": "3.9.12"
  }
 },
 "nbformat": 4,
 "nbformat_minor": 2
}
