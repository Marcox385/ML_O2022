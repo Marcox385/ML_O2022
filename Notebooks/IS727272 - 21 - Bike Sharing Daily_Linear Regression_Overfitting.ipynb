{
 "cells": [
  {
   "cell_type": "markdown",
   "metadata": {},
   "source": [
    "### IS727272 - Cordero Hernández, Marco Ricardo"
   ]
  },
  {
   "cell_type": "markdown",
   "metadata": {},
   "source": [
    "# Ejercicio 4.1.5 Bike Sharing Daily, Regression, Gradient Descent, Overfitting"
   ]
  },
  {
   "cell_type": "markdown",
   "metadata": {},
   "source": [
    "El modelo de regresión es un procedimiento estadístico que permite al investigador estimar la relación lineal que relaciona dos o más variables."
   ]
  },
  {
   "cell_type": "markdown",
   "metadata": {},
   "source": [
    "- El algoritmo de programacion para implementar el modelo de regresión lineal es el siguiente: \n",
    "\n",
    "    1. Cargar el dataset, normalizar y dividir los datos en datos de entrenamiento y datos de prueba, añadir la columna de unos para w0.\n",
    "    2. Inicializar W, y calcular el gradiente de W\n",
    "    3. Mientras el gradiente sea más grande que epsilon, calcular:\n",
    "        - El gradiente para el valor actual de W\n",
    "        - Actualizar el valor para el siguiente W\n",
    "        - Cacular el costo y almacenarlo en una variable\n",
    "    4. Obtener la función de costo o error para el último valor de W\n",
    "    5. Predecir la salida con los datos de prueba y obtener el valor del error. \n",
    "\n",
    "- Para comprobar el Overfitting realizar el algoritmo de GD con 9 tamaños de datos de prueba: 0.1, 0.2,..., 0.9, y graficar el costo.\n",
    "\n",
    "- ¿Con qué tamaño de prueba (test_size) tendremos overfitting y con cuál underfiting?\n",
    "- Finalmente utilizar el test size que se eligió y hacer regresión polinomial de grado 1 al 5 y graficar el comportamiento del costo."
   ]
  },
  {
   "cell_type": "markdown",
   "metadata": {},
   "source": [
    "## 1. Cargar el dataset, normalizar y dividir los datos en datos de entrenamiento y datos de prueba, añadir la columna de unos para w0.\n",
    "\n",
    "Para este caso utilizaremos los datos del ejercicio de las Bicis, el dataset de horas. "
   ]
  },
  {
   "cell_type": "code",
   "execution_count": 1,
   "metadata": {},
   "outputs": [],
   "source": [
    "# Import libraries\n",
    "import math\n",
    "import pandas as pd\n",
    "import numpy as np\n",
    "from sklearn.model_selection import train_test_split\n",
    "import matplotlib.pyplot as plt\n",
    "from numpy.linalg import norm\n",
    "from numpy.random import rand\n",
    "import math"
   ]
  },
  {
   "cell_type": "code",
   "execution_count": 2,
   "metadata": {},
   "outputs": [
    {
     "name": "stdout",
     "output_type": "stream",
     "text": [
      "X size: (731, 11) Y size: (731, 1)\n"
     ]
    }
   ],
   "source": [
    "# 1. Load the dataset and convert to numpy arrays\n",
    "\n",
    "def loadCsv(filename):\n",
    "    data = pd.read_csv(filename)\n",
    "    dataset = np.array(data)\n",
    "    m, n = np.shape(dataset)\n",
    "    x = dataset[:, 0:n-1]\n",
    "    y = dataset[:, -1]\n",
    "    y = np.reshape(y ,(m,1))\n",
    "    \n",
    "    return x, y\n",
    "\n",
    "#Testing\n",
    "filename = './Datasets/bike-day.csv'\n",
    "x, y = loadCsv(filename)\n",
    "print('X size:',np.shape(x), 'Y size:',  np.shape(y))"
   ]
  },
  {
   "cell_type": "code",
   "execution_count": 3,
   "metadata": {},
   "outputs": [
    {
     "name": "stdout",
     "output_type": "stream",
     "text": [
      "(731, 11)\n",
      "[[-1.34821315 -1.00136893 -1.60016072 ... -0.67994602  1.25017133\n",
      "  -0.38789169]\n",
      " [-1.34821315 -1.00136893 -1.60016072 ... -0.74065231  0.47911298\n",
      "   0.74960172]\n",
      " [-1.34821315 -1.00136893 -1.60016072 ... -1.749767   -1.33927398\n",
      "   0.74663186]\n",
      " ...\n",
      " [-1.34821315  0.99863295  1.58866019 ... -1.42434419  0.87839173\n",
      "  -0.85355213]\n",
      " [-1.34821315  0.99863295  1.58866019 ... -1.49004895 -1.01566357\n",
      "   2.06944426]\n",
      " [-1.34821315  0.99863295  1.58866019 ... -1.54048197 -0.35406086\n",
      "  -0.46020122]]\n"
     ]
    }
   ],
   "source": [
    "# Normalizar el dataset\n",
    "\n",
    "def normalize(x):\n",
    "    x_norm = (x - np.mean(x, axis=0)) / (np.ndarray.std(x, axis=0)) \n",
    "    return x_norm\n",
    "\n",
    "X_norm = normalize(x)\n",
    "\n",
    "print(np.shape(X_norm))\n",
    "print(X_norm)"
   ]
  },
  {
   "cell_type": "code",
   "execution_count": 4,
   "metadata": {},
   "outputs": [
    {
     "name": "stdout",
     "output_type": "stream",
     "text": [
      "Split X 731 rows into train with 489 and test with 242\n",
      "Split Y 731 rows into train with 489 and test with 242\n"
     ]
    }
   ],
   "source": [
    "# Split datasets into training and testing\n",
    "def splitDataset(x, y,test_size):\n",
    "    xTrain, xTest, yTrain, yTest = train_test_split(x, y, test_size = test_size, random_state = 1)\n",
    "    return xTrain, xTest, yTrain, yTest\n",
    "\n",
    "#Testing\n",
    "test_size = 0.33\n",
    "xTrain, xTest, yTrain, yTest = splitDataset(X_norm, y,test_size)\n",
    "\n",
    "print('Split X', len(x), 'rows into train with', len(xTrain), 'and test with', len(xTest))\n",
    "print('Split Y', len(y), 'rows into train with', len(yTrain), 'and test with', len(yTest))"
   ]
  },
  {
   "cell_type": "code",
   "execution_count": 5,
   "metadata": {},
   "outputs": [
    {
     "name": "stdout",
     "output_type": "stream",
     "text": [
      "(489, 12)\n",
      "(242, 12)\n"
     ]
    }
   ],
   "source": [
    "# Adding column 1 to the X matrix\n",
    "\n",
    "def addOnes(X):\n",
    "    X1=np.array(X)\n",
    "    m , n = np.shape(X1)\n",
    "    ones = np.ones((m, 1))\n",
    "    X1 = np.concatenate((ones, X1), axis=1)\n",
    "    return X1\n",
    "\n",
    "xTr = addOnes(xTrain)\n",
    "xTe = addOnes(xTest)\n",
    "print(np.shape(xTr))\n",
    "print(np.shape(xTe))"
   ]
  },
  {
   "cell_type": "markdown",
   "metadata": {},
   "source": [
    "## 2. Inicializar W, y calcular el gradiente de W\n",
    "\n",
    "\n",
    "El gradiente es: $$ \\nabla J(W) = \\frac{\\partial J(W) }{\\partial W} = \\frac{\\partial}{\\partial W} (Y - XW)^2 = -2X(Y-XW)$$"
   ]
  },
  {
   "cell_type": "code",
   "execution_count": 6,
   "metadata": {},
   "outputs": [
    {
     "name": "stdout",
     "output_type": "stream",
     "text": [
      "489 12\n",
      "[[0.98256008 0.09556146 0.85625172 0.32407212 0.68537617 0.36430507\n",
      "  0.9460736  0.3490946  0.31070899 0.46729909 0.22019216 0.2992722 ]]\n"
     ]
    }
   ],
   "source": [
    "# Initialize W using random values\n",
    "m, n = np.shape(xTr)\n",
    "print(m,n)\n",
    "initw = np.random.rand(1, n)\n",
    "print(initw)"
   ]
  },
  {
   "cell_type": "code",
   "execution_count": 7,
   "metadata": {},
   "outputs": [
    {
     "name": "stdout",
     "output_type": "stream",
     "text": [
      "[[-4512829.32877777]\n",
      " [ -897838.31630809]\n",
      " [-1105142.51900874]\n",
      " [ -619479.51377319]\n",
      " [   97476.93481146]\n",
      " [  131079.04504012]\n",
      " [   59357.92497685]\n",
      " [  712692.45664297]\n",
      " [-1405834.66857318]\n",
      " [-1414592.30766367]\n",
      " [   48915.91614255]\n",
      " [  436361.4674769 ]]\n"
     ]
    }
   ],
   "source": [
    "# Calculating Gradient\n",
    "\n",
    "def gradient(X, Y, W):\n",
    "    residual = Y - np.dot(X,W.T)\n",
    "    grad = -2 * np.dot(X.T, residual)\n",
    "    return grad\n",
    "\n",
    "# Testing gradient function\n",
    "\n",
    "Gradiente = gradient(xTr, yTrain, initw)\n",
    "print(Gradiente)"
   ]
  },
  {
   "cell_type": "markdown",
   "metadata": {},
   "source": [
    "## 3. Iteración del Gradiente Descendente \n",
    "\n",
    "    Mientras la norma del gradiente sea más grande que epsilon, calcular:\n",
    "    \n",
    "       - El gradiente para el valor actual de W\n",
    "       - Actualizar el valor siguiente de W\n",
    "       - Almacenar el valor del error o del costo para ese W\n"
   ]
  },
  {
   "cell_type": "markdown",
   "metadata": {},
   "source": [
    "Primero definiremos la función que evalua el error utilizando MSE: $$MSE(w) = \\frac{1}{N} \\sum_{i=1}^{N} (y_i - x_i w)^2$$"
   ]
  },
  {
   "cell_type": "code",
   "execution_count": 8,
   "metadata": {},
   "outputs": [],
   "source": [
    "# Cost Function\n",
    "\n",
    "def mse(Y, Yt):\n",
    "    residual = Y - Yt\n",
    "    cost = np.dot(residual.T,residual) / len(Y)\n",
    "    return cost"
   ]
  },
  {
   "cell_type": "code",
   "execution_count": 9,
   "metadata": {},
   "outputs": [
    {
     "name": "stdout",
     "output_type": "stream",
     "text": [
      "W [[4526.93683507  496.8498253  1034.77564527  -50.32479094  -54.60200422\n",
      "   170.03900539   41.89095635 -316.18055968  457.07980154  490.21875692\n",
      "  -173.72697084 -174.78700846]]\n",
      "Iterations 1000\n",
      "Error final  747412.0062132964\n"
     ]
    },
    {
     "data": {
      "text/plain": [
       "[<matplotlib.lines.Line2D at 0x1f423e051f0>]"
      ]
     },
     "execution_count": 9,
     "metadata": {},
     "output_type": "execute_result"
    },
    {
     "data": {
      "image/png": "[encoded data removed]",
      "text/plain": [
       "<Figure size 432x288 with 1 Axes>"
      ]
     },
     "metadata": {
      "needs_background": "light"
     },
     "output_type": "display_data"
    }
   ],
   "source": [
    "# Gradient Descent with epsilon using the number of iterations\n",
    "\n",
    "def GD(X, Y, W, alpha, epsilon, iterations):\n",
    "    grad = gradient(X, Y, W)\n",
    "    gradNorm = np.linalg.norm(grad)\n",
    "    Yt = np.dot(X,W.T)\n",
    "    cost = mse(Y,Yt)\n",
    "    it = 0\n",
    "    J = [] #Lista donde guardaremos el valor del error (MSE) en cada iteración\n",
    "    \n",
    "    while gradNorm > epsilon and it < iterations:\n",
    "        \n",
    "        # Calcular gradiente\n",
    "        grad = gradient(X, Y, W)\n",
    "        gradNorm = np.linalg.norm(grad)\n",
    "        \n",
    "        # Actualizar W\n",
    "        W = W - alpha * grad.T\n",
    "        \n",
    "        # Incrementar contador de iteraciones\n",
    "        it += 1\n",
    "        \n",
    "        # Calcular la predicción y el error (MSE)\n",
    "        Yt = np.dot(X, W.T)\n",
    "        cost  = mse(Y,Yt)\n",
    "\n",
    "        # Guardar el vector del error\n",
    "        J.append(float(cost))\n",
    "        \n",
    "    return W, it, J\n",
    "\n",
    "# Testing GD(X, Y, W, alpha, epsilon, iterations)\n",
    "\n",
    "w, iterations, J = GD(xTr, yTrain, initw, 0.00001, 0.01, 1000)\n",
    "\n",
    "print('W', w)\n",
    "print('Iterations', iterations)\n",
    "print('Error final ', J[-1])\n",
    "plt.plot(J)"
   ]
  },
  {
   "cell_type": "markdown",
   "metadata": {},
   "source": [
    "## 4. Medir el MSE del algoritmo\n",
    "\n"
   ]
  },
  {
   "cell_type": "code",
   "execution_count": 10,
   "metadata": {},
   "outputs": [
    {
     "name": "stdout",
     "output_type": "stream",
     "text": [
      "(489, 1) (489, 1)\n",
      "Error (Costo) final:  [[747412.0062133]]\n"
     ]
    }
   ],
   "source": [
    "yt = np.dot(xTr, w.T)\n",
    "costo = mse(yTrain,yt)\n",
    "\n",
    "print(np.shape(yTrain), np.shape(yt))\n",
    "print('Error (Costo) final: ', costo)"
   ]
  },
  {
   "cell_type": "markdown",
   "metadata": {},
   "source": [
    "## 5. Predecir los datos de prueba y calcular su error"
   ]
  },
  {
   "cell_type": "code",
   "execution_count": 11,
   "metadata": {},
   "outputs": [
    {
     "name": "stdout",
     "output_type": "stream",
     "text": [
      "(489, 1) (242, 1)\n",
      "[[773275.48387531]]\n"
     ]
    }
   ],
   "source": [
    "yt = np.dot(xTe, w.T)\n",
    "costo = mse(yTest,yt)\n",
    "\n",
    "print(np.shape(yTrain), np.shape(yt))\n",
    "print(costo)"
   ]
  },
  {
   "cell_type": "markdown",
   "metadata": {},
   "source": [
    "## 6. Overfitting y Underfitting"
   ]
  },
  {
   "cell_type": "code",
   "execution_count": 13,
   "metadata": {},
   "outputs": [
    {
     "name": "stdout",
     "output_type": "stream",
     "text": [
      "[0.1 0.2 0.3 0.4 0.5 0.6 0.7 0.8 0.9]\n"
     ]
    }
   ],
   "source": [
    "# Crear un array que contenga los de tamaños de testing de 0 a 0.9, con un incremento de 0.1\n",
    "testsize = np.arange(0.1, 1, 0.1)\n",
    "\n",
    "print(testsize)"
   ]
  },
  {
   "cell_type": "code",
   "execution_count": 22,
   "metadata": {},
   "outputs": [
    {
     "name": "stdout",
     "output_type": "stream",
     "text": [
      "X size: (731, 11) Y size: (731, 1)\n",
      "Test size:  0.1\n",
      "Costo train:  [[833953.88501503]]\n",
      "Costo test:  [[635576.36292216]]\n",
      "Test size:  0.2\n",
      "Costo train:  [[806179.55258331]]\n",
      "Costo test:  [[1029065.3162128]]\n",
      "Test size:  0.30000000000000004\n",
      "Costo train:  [[897464.30225165]]\n",
      "Costo test:  [[717357.59378691]]\n",
      "Test size:  0.4\n",
      "Costo train:  [[899361.96581744]]\n",
      "Costo test:  [[831016.76216154]]\n",
      "Test size:  0.5\n",
      "Costo train:  [[783490.69662187]]\n",
      "Costo test:  [[1115701.91278284]]\n",
      "Test size:  0.6\n",
      "Costo train:  [[978981.15452683]]\n",
      "Costo test:  [[952621.96540051]]\n",
      "Test size:  0.7000000000000001\n",
      "Costo train:  [[972190.35980728]]\n",
      "Costo test:  [[1044506.85619953]]\n",
      "Test size:  0.8\n",
      "Costo train:  [[1248756.78798596]]\n",
      "Costo test:  [[1155574.25767884]]\n",
      "Test size:  0.9\n",
      "Costo train:  [[1793477.67446639]]\n",
      "Costo test:  [[1851160.6702283]]\n"
     ]
    },
    {
     "data": {
      "text/plain": [
       "[<matplotlib.lines.Line2D at 0x1f424c89ac0>]"
      ]
     },
     "execution_count": 22,
     "metadata": {},
     "output_type": "execute_result"
    },
    {
     "data": {
      "image/png": "[encoded data removed]",
      "text/plain": [
       "<Figure size 432x288 with 1 Axes>"
      ]
     },
     "metadata": {
      "needs_background": "light"
     },
     "output_type": "display_data"
    }
   ],
   "source": [
    "# 1. Por cada elemento del array de tamaños hacer una prueba del Gradiente Descendiente \n",
    "# 2. Almacenar los últimos valores de los costos (errores) del Training y del Testing en listas diferentes\n",
    "# 3. Graficar los costos almacenados con respecto al vector testsize\n",
    "\n",
    "# Inicialización de parámetros:\n",
    "\n",
    "# Learning rate o índice de aprendizaje\n",
    "alpha = 0.00001\n",
    "\n",
    "# Precisión (qué tan cercano a cero debe estar el error)\n",
    "epsilon = 0.01\n",
    "\n",
    "# Número máximo de iteraciones (es útil para que el algoritmo no se cicle)\n",
    "itera = 2000\n",
    "\n",
    "# Incialización de listas para guardar los valores finales de los costos\n",
    "costosTraining = []\n",
    "costosTest = []\n",
    "\n",
    "# Cargar el archivo de nuevo y obtener matrices X y Y\n",
    "filename = './Datasets/bike-day.csv'\n",
    "x, y = loadCsv(filename)\n",
    "print('X size:', np.shape(x), 'Y size:', np.shape(y))\n",
    "\n",
    "# Para cada tamaño de testing hacer el gradiente descendente\n",
    "for tsize in testsize:\n",
    "    \n",
    "    # split X y Y\n",
    "    xTrain, xTest, yTrain, yTest = train_test_split(x, y, test_size = tsize)\n",
    "    \n",
    "    # Acomodar dimensiones de yTrain y YTest\n",
    "    yTrain = yTrain.reshape(-1, 1)\n",
    "    yTest = yTest.reshape(-1, 1)\n",
    "    \n",
    "    # Añadir Unos a xTrain y xTest \n",
    "    xTr = addOnes(xTrain)\n",
    "    xTe = addOnes(xTest)\n",
    "    \n",
    "    # Initizalize w de manera aleatoria\n",
    "    m, n = np.shape(xTr)\n",
    "    initw = np.random.rand(1, n)\n",
    "    \n",
    "    # Obtener W a través del Gradiente Descendente\n",
    "    print(\"Test size: \", tsize)\n",
    "    \n",
    "    w, iterations, J = GD(xTr, yTrain, initw, alpha, epsilon, itera)\n",
    "    \n",
    "    # Calcular el error (costo) de Train y Test\n",
    "    costoTrain = mse(yTrain, np.dot(xTr, w.T))\n",
    "    costoTest = mse(yTest, np.dot(xTe, w.T))\n",
    "    print('Costo train: ', costoTrain)\n",
    "    print('Costo test: ', costoTest)\n",
    "    \n",
    "    # Guardar costos en las listas\n",
    "    costosTraining.append(costoTrain)\n",
    "    costosTest.append(costoTest)\n",
    "    \n",
    "    \n",
    "# Convertir a arrays las listas de los costos\n",
    "costosTraining = np.array(costosTraining)\n",
    "costosTest = np.array(costosTest)\n",
    "\n",
    "# Acomodar sus dimensiones para poder graficar\n",
    "costosTraining = costosTraining.reshape(-1, 1)\n",
    "costosTest = costosTest.reshape(-1, 1)\n",
    "\n",
    "# Graficar los costos con respecto a testsize\n",
    "plt.plot(testsize, costosTraining, 'b')\n",
    "plt.plot(testsize, costosTest, 'r')"
   ]
  },
  {
   "cell_type": "markdown",
   "metadata": {},
   "source": [
    "## 7. Add Polynomial features\n",
    "\n",
    "- Para observar el Underfitting y el Overfitting de estos datos hacer un modelo para cada grado polinomial hasta grado 5.  \n",
    "\n",
    "    - Prueba 1: $ X = [x]$\n",
    "    - Prueba 2: $ X = [x \\quad x^2]$\n",
    "    - Prueba 3: $ X = [x \\quad x^2 \\quad x^3]$\n",
    "    - Prueba 4: $ X = [x \\quad x^2 \\quad x^3 \\quad x^4]$\n",
    "    - Prueba 5: $ X = [x \\quad x^2 \\quad x^3 \\quad x^4 \\quad x^5]$\n",
    "\n",
    "- De cada prueba obtener sus W's correspondientes y su error MSE (Costo)\n",
    "\n",
    "- Graficar el MSE de cada prueba con respecto al grado utilizado\n",
    "\n"
   ]
  },
  {
   "cell_type": "code",
   "execution_count": 35,
   "metadata": {},
   "outputs": [
    {
     "name": "stdout",
     "output_type": "stream",
     "text": [
      "X size: (731, 11) Y size: (731, 1)\n",
      "Grade:  1\n",
      "438 12\n",
      "W:  (1, 12)\n",
      "Iteraciones:  10000\n",
      "Training cost: [[24658019.95206101]]\n",
      "Testing cost: [[22904032.32931948]]\n",
      "Grade:  2\n",
      "438 23\n",
      "W:  (1, 23)\n",
      "Iteraciones:  10000\n",
      "Training cost: [[24148346.04536992]]\n",
      "Testing cost: [[22428452.8168588]]\n",
      "Grade:  3\n",
      "438 34\n",
      "W:  (1, 34)\n",
      "Iteraciones:  10000\n",
      "Training cost: [[16561057.51369905]]\n",
      "Testing cost: [[15621164.97257762]]\n",
      "Grade:  4\n",
      "438 45\n",
      "W:  (1, 45)\n",
      "Iteraciones:  10000\n",
      "Training cost: [[13623920.47214294]]\n",
      "Testing cost: [[13860444.66780076]]\n",
      "Grade:  5\n",
      "438 56\n",
      "W:  (1, 56)\n",
      "Iteraciones:  10000\n",
      "Training cost: [[9060614.08567606]]\n",
      "Testing cost: [[9634775.09618752]]\n"
     ]
    },
    {
     "data": {
      "text/plain": [
       "[<matplotlib.lines.Line2D at 0x1f42988c1c0>]"
      ]
     },
     "execution_count": 35,
     "metadata": {},
     "output_type": "execute_result"
    },
    {
     "data": {
      "image/png": "[encoded data removed]",
      "text/plain": [
       "<Figure size 432x288 with 1 Axes>"
      ]
     },
     "metadata": {
      "needs_background": "light"
     },
     "output_type": "display_data"
    }
   ],
   "source": [
    "# Incializar parámetros\n",
    "alpha = 0.0000000000001\n",
    "epsilon = 0.001\n",
    "itera = 10000\n",
    "seed = 1 # Semilla para funciones aleatorias\n",
    "\n",
    "# Incializar listas para guardar los costos finales\n",
    "costosTraining = []\n",
    "costosTest = []\n",
    "\n",
    "# Tamaño del testing size, observar celda anterior\n",
    "tsize = 0.4\n",
    "\n",
    "# Cargar de nuevo el archivo y obtener X y Y\n",
    "filename = './Datasets/bike-day.csv'\n",
    "x, y = loadCsv(filename)\n",
    "print('X size:', np.shape(x), 'Y size:',  np.shape(y))\n",
    "\n",
    "# Variable para formar matrices polinomiales\n",
    "xtemp = x\n",
    "\n",
    "# Grados que voy a evaluar de 1 a 5\n",
    "poly = range(1, 6)\n",
    "\n",
    "# Para cada grado polinomial realizar el gradiente descendente, obtener W's y calcular el MSE (error o costo)\n",
    "for grade in poly:\n",
    "    print(\"Grade: \", grade) \n",
    "    \n",
    "    # Construir Matriz polinomial de grado \"grade\"\n",
    "    if grade == 1:\n",
    "        xtemp = x\n",
    "    else:\n",
    "        xtemp = np.concatenate((xtemp, x ** grade), axis = 1)\n",
    "        \n",
    "    # Añadir unos a la matriz polinomial\n",
    "    x_1s = addOnes(xtemp)\n",
    "    \n",
    "    # Split dataset en Training and Testing\n",
    "    xTrain, xTest, yTrain, yTest = train_test_split(x_1s, y, test_size = tsize , random_state = seed)\n",
    "    yTrain = yTrain.reshape(-1, 1)\n",
    "    yTest = yTest.reshape(-1, 1)\n",
    "    \n",
    "    # Inicializar W de forma aleatoria\n",
    "    m, n = np.shape(xTrain)\n",
    "    print(m, n)\n",
    "    initw = np.random.rand(1, n)\n",
    "    print('W: ', initw.shape)\n",
    "\n",
    "    # Obtener W y el error MSE (J) a través del GD\n",
    "    w, it, J = GD(xTrain, yTrain, initw, alpha, epsilon, itera)\n",
    "    \n",
    "    # Imprimir la iteración it\n",
    "    print(f'Iteraciones: ', it)\n",
    "    \n",
    "    # Calcular errores MSE de Training y Testing\n",
    "    costoTrain = mse(yTrain, np.dot(xTrain, w.T))\n",
    "    costoTest = mse(yTest, np.dot(xTest, w.T))\n",
    "    \n",
    "    print('Training cost:', costoTrain)\n",
    "    print('Testing cost:', costoTest)\n",
    "    \n",
    "    # Guardar los valores en las listas\n",
    "    costosTraining.append(costoTrain)\n",
    "    costosTest.append(costoTest)\n",
    "    \n",
    "# Convertir a arrays las listas\n",
    "costosTraining = np.array(costosTraining)\n",
    "costosTest = np.array(costosTest)\n",
    "\n",
    "# Adecuar dimensiones\n",
    "costosTraining = costosTraining.reshape(len(costosTraining), 1)\n",
    "costosTest = costosTest.reshape(len(costosTest), 1)\n",
    "\n",
    "# Graficar los errores con respecto al grado\n",
    "plt.plot(poly, costosTraining, 'b')\n",
    "plt.plot(poly, costosTest, 'r')"
   ]
  },
  {
   "cell_type": "markdown",
   "metadata": {},
   "source": [
    "## Conclusiones"
   ]
  },
  {
   "cell_type": "markdown",
   "metadata": {},
   "source": [
    "Escribir conclusiones y observaciones del ejercicio."
   ]
  },
  {
   "cell_type": "markdown",
   "metadata": {},
   "source": [
    "La modificación/alteración de los parámetros para los algoritmos usualmente resultará en distintos resultados, tales como overfitting, underfitting y demás. También, combiene monitorear los cambios en estos ya que su correcta definición potencialmente podrá disminuir (o aumentar) la complejidad computacional de los cálculos que se estarían realizando."
   ]
  }
 ],
 "metadata": {
  "kernelspec": {
   "display_name": "Python 3 (ipykernel)",
   "language": "python",
   "name": "python3"
  },
  "language_info": {
   "codemirror_mode": {
    "name": "ipython",
    "version": 3
   },
   "file_extension": ".py",
   "mimetype": "text/x-python",
   "name": "python",
   "nbconvert_exporter": "python",
   "pygments_lexer": "ipython3",
   "version": "3.9.12"
  }
 },
 "nbformat": 4,
 "nbformat_minor": 2
}
