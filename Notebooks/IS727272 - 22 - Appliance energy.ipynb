{
 "cells": [
  {
   "cell_type": "markdown",
   "id": "8d6b6634",
   "metadata": {},
   "source": [
    "### IS727272 - Cordero Hernández, Marco Ricardo"
   ]
  },
  {
   "cell_type": "markdown",
   "id": "f75c4dbe",
   "metadata": {},
   "source": [
    "Utilizar el dataset: https://archive.ics.uci.edu/ml/datasets/Appliances+energy+prediction, y hacer los mismos pasos. \n",
    "\n",
    "NOTA: La salida es Appliances en la columna 2, y borrar la columna de fechas de la columna 1."
   ]
  },
  {
   "cell_type": "code",
   "execution_count": 1,
   "id": "e87c6676",
   "metadata": {},
   "outputs": [],
   "source": [
    "# Import libraries\n",
    "import math\n",
    "import pandas as pd\n",
    "import numpy as np\n",
    "from sklearn.model_selection import train_test_split\n",
    "import matplotlib.pyplot as plt"
   ]
  },
  {
   "cell_type": "code",
   "execution_count": 2,
   "id": "557c1dd2",
   "metadata": {},
   "outputs": [
    {
     "data": {
      "text/html": [
       "<div>\n",
       "<style scoped>\n",
       "    .dataframe tbody tr th:only-of-type {\n",
       "        vertical-align: middle;\n",
       "    }\n",
       "\n",
       "    .dataframe tbody tr th {\n",
       "        vertical-align: top;\n",
       "    }\n",
       "\n",
       "    .dataframe thead th {\n",
       "        text-align: right;\n",
       "    }\n",
       "</style>\n",
       "<table border=\"1\" class=\"dataframe\">\n",
       "  <thead>\n",
       "    <tr style=\"text-align: right;\">\n",
       "      <th></th>\n",
       "      <th>date</th>\n",
       "      <th>Appliances</th>\n",
       "      <th>lights</th>\n",
       "      <th>T1</th>\n",
       "      <th>RH_1</th>\n",
       "      <th>T2</th>\n",
       "      <th>RH_2</th>\n",
       "      <th>T3</th>\n",
       "      <th>RH_3</th>\n",
       "      <th>T4</th>\n",
       "      <th>...</th>\n",
       "      <th>T9</th>\n",
       "      <th>RH_9</th>\n",
       "      <th>T_out</th>\n",
       "      <th>Press_mm_hg</th>\n",
       "      <th>RH_out</th>\n",
       "      <th>Windspeed</th>\n",
       "      <th>Visibility</th>\n",
       "      <th>Tdewpoint</th>\n",
       "      <th>rv1</th>\n",
       "      <th>rv2</th>\n",
       "    </tr>\n",
       "  </thead>\n",
       "  <tbody>\n",
       "    <tr>\n",
       "      <th>0</th>\n",
       "      <td>2016-01-11 17:00:00</td>\n",
       "      <td>60</td>\n",
       "      <td>30</td>\n",
       "      <td>19.89</td>\n",
       "      <td>47.596667</td>\n",
       "      <td>19.2</td>\n",
       "      <td>44.790000</td>\n",
       "      <td>19.79</td>\n",
       "      <td>44.730000</td>\n",
       "      <td>19.000000</td>\n",
       "      <td>...</td>\n",
       "      <td>17.033333</td>\n",
       "      <td>45.53</td>\n",
       "      <td>6.600000</td>\n",
       "      <td>733.5</td>\n",
       "      <td>92.0</td>\n",
       "      <td>7.000000</td>\n",
       "      <td>63.000000</td>\n",
       "      <td>5.3</td>\n",
       "      <td>13.275433</td>\n",
       "      <td>13.275433</td>\n",
       "    </tr>\n",
       "    <tr>\n",
       "      <th>1</th>\n",
       "      <td>2016-01-11 17:10:00</td>\n",
       "      <td>60</td>\n",
       "      <td>30</td>\n",
       "      <td>19.89</td>\n",
       "      <td>46.693333</td>\n",
       "      <td>19.2</td>\n",
       "      <td>44.722500</td>\n",
       "      <td>19.79</td>\n",
       "      <td>44.790000</td>\n",
       "      <td>19.000000</td>\n",
       "      <td>...</td>\n",
       "      <td>17.066667</td>\n",
       "      <td>45.56</td>\n",
       "      <td>6.483333</td>\n",
       "      <td>733.6</td>\n",
       "      <td>92.0</td>\n",
       "      <td>6.666667</td>\n",
       "      <td>59.166667</td>\n",
       "      <td>5.2</td>\n",
       "      <td>18.606195</td>\n",
       "      <td>18.606195</td>\n",
       "    </tr>\n",
       "    <tr>\n",
       "      <th>2</th>\n",
       "      <td>2016-01-11 17:20:00</td>\n",
       "      <td>50</td>\n",
       "      <td>30</td>\n",
       "      <td>19.89</td>\n",
       "      <td>46.300000</td>\n",
       "      <td>19.2</td>\n",
       "      <td>44.626667</td>\n",
       "      <td>19.79</td>\n",
       "      <td>44.933333</td>\n",
       "      <td>18.926667</td>\n",
       "      <td>...</td>\n",
       "      <td>17.000000</td>\n",
       "      <td>45.50</td>\n",
       "      <td>6.366667</td>\n",
       "      <td>733.7</td>\n",
       "      <td>92.0</td>\n",
       "      <td>6.333333</td>\n",
       "      <td>55.333333</td>\n",
       "      <td>5.1</td>\n",
       "      <td>28.642668</td>\n",
       "      <td>28.642668</td>\n",
       "    </tr>\n",
       "    <tr>\n",
       "      <th>3</th>\n",
       "      <td>2016-01-11 17:30:00</td>\n",
       "      <td>50</td>\n",
       "      <td>40</td>\n",
       "      <td>19.89</td>\n",
       "      <td>46.066667</td>\n",
       "      <td>19.2</td>\n",
       "      <td>44.590000</td>\n",
       "      <td>19.79</td>\n",
       "      <td>45.000000</td>\n",
       "      <td>18.890000</td>\n",
       "      <td>...</td>\n",
       "      <td>17.000000</td>\n",
       "      <td>45.40</td>\n",
       "      <td>6.250000</td>\n",
       "      <td>733.8</td>\n",
       "      <td>92.0</td>\n",
       "      <td>6.000000</td>\n",
       "      <td>51.500000</td>\n",
       "      <td>5.0</td>\n",
       "      <td>45.410389</td>\n",
       "      <td>45.410389</td>\n",
       "    </tr>\n",
       "    <tr>\n",
       "      <th>4</th>\n",
       "      <td>2016-01-11 17:40:00</td>\n",
       "      <td>60</td>\n",
       "      <td>40</td>\n",
       "      <td>19.89</td>\n",
       "      <td>46.333333</td>\n",
       "      <td>19.2</td>\n",
       "      <td>44.530000</td>\n",
       "      <td>19.79</td>\n",
       "      <td>45.000000</td>\n",
       "      <td>18.890000</td>\n",
       "      <td>...</td>\n",
       "      <td>17.000000</td>\n",
       "      <td>45.40</td>\n",
       "      <td>6.133333</td>\n",
       "      <td>733.9</td>\n",
       "      <td>92.0</td>\n",
       "      <td>5.666667</td>\n",
       "      <td>47.666667</td>\n",
       "      <td>4.9</td>\n",
       "      <td>10.084097</td>\n",
       "      <td>10.084097</td>\n",
       "    </tr>\n",
       "  </tbody>\n",
       "</table>\n",
       "<p>5 rows × 29 columns</p>\n",
       "</div>"
      ],
      "text/plain": [
       "                  date  Appliances  lights     T1       RH_1    T2       RH_2  \\\n",
       "0  2016-01-11 17:00:00          60      30  19.89  47.596667  19.2  44.790000   \n",
       "1  2016-01-11 17:10:00          60      30  19.89  46.693333  19.2  44.722500   \n",
       "2  2016-01-11 17:20:00          50      30  19.89  46.300000  19.2  44.626667   \n",
       "3  2016-01-11 17:30:00          50      40  19.89  46.066667  19.2  44.590000   \n",
       "4  2016-01-11 17:40:00          60      40  19.89  46.333333  19.2  44.530000   \n",
       "\n",
       "      T3       RH_3         T4  ...         T9   RH_9     T_out  Press_mm_hg  \\\n",
       "0  19.79  44.730000  19.000000  ...  17.033333  45.53  6.600000        733.5   \n",
       "1  19.79  44.790000  19.000000  ...  17.066667  45.56  6.483333        733.6   \n",
       "2  19.79  44.933333  18.926667  ...  17.000000  45.50  6.366667        733.7   \n",
       "3  19.79  45.000000  18.890000  ...  17.000000  45.40  6.250000        733.8   \n",
       "4  19.79  45.000000  18.890000  ...  17.000000  45.40  6.133333        733.9   \n",
       "\n",
       "   RH_out  Windspeed  Visibility  Tdewpoint        rv1        rv2  \n",
       "0    92.0   7.000000   63.000000        5.3  13.275433  13.275433  \n",
       "1    92.0   6.666667   59.166667        5.2  18.606195  18.606195  \n",
       "2    92.0   6.333333   55.333333        5.1  28.642668  28.642668  \n",
       "3    92.0   6.000000   51.500000        5.0  45.410389  45.410389  \n",
       "4    92.0   5.666667   47.666667        4.9  10.084097  10.084097  \n",
       "\n",
       "[5 rows x 29 columns]"
      ]
     },
     "execution_count": 2,
     "metadata": {},
     "output_type": "execute_result"
    }
   ],
   "source": [
    "# Load dataset\n",
    "df_appl = pd.read_csv('./Datasets/energydata_complete.csv')\n",
    "df_appl.head()"
   ]
  },
  {
   "cell_type": "code",
   "execution_count": 3,
   "id": "75a140bb",
   "metadata": {},
   "outputs": [
    {
     "name": "stdout",
     "output_type": "stream",
     "text": [
      "<class 'pandas.core.frame.DataFrame'>\n",
      "RangeIndex: 19735 entries, 0 to 19734\n",
      "Data columns (total 29 columns):\n",
      " #   Column       Non-Null Count  Dtype  \n",
      "---  ------       --------------  -----  \n",
      " 0   date         19735 non-null  object \n",
      " 1   Appliances   19735 non-null  int64  \n",
      " 2   lights       19735 non-null  int64  \n",
      " 3   T1           19735 non-null  float64\n",
      " 4   RH_1         19735 non-null  float64\n",
      " 5   T2           19735 non-null  float64\n",
      " 6   RH_2         19735 non-null  float64\n",
      " 7   T3           19735 non-null  float64\n",
      " 8   RH_3         19735 non-null  float64\n",
      " 9   T4           19735 non-null  float64\n",
      " 10  RH_4         19735 non-null  float64\n",
      " 11  T5           19735 non-null  float64\n",
      " 12  RH_5         19735 non-null  float64\n",
      " 13  T6           19735 non-null  float64\n",
      " 14  RH_6         19735 non-null  float64\n",
      " 15  T7           19735 non-null  float64\n",
      " 16  RH_7         19735 non-null  float64\n",
      " 17  T8           19735 non-null  float64\n",
      " 18  RH_8         19735 non-null  float64\n",
      " 19  T9           19735 non-null  float64\n",
      " 20  RH_9         19735 non-null  float64\n",
      " 21  T_out        19735 non-null  float64\n",
      " 22  Press_mm_hg  19735 non-null  float64\n",
      " 23  RH_out       19735 non-null  float64\n",
      " 24  Windspeed    19735 non-null  float64\n",
      " 25  Visibility   19735 non-null  float64\n",
      " 26  Tdewpoint    19735 non-null  float64\n",
      " 27  rv1          19735 non-null  float64\n",
      " 28  rv2          19735 non-null  float64\n",
      "dtypes: float64(26), int64(2), object(1)\n",
      "memory usage: 4.4+ MB\n"
     ]
    }
   ],
   "source": [
    "# Verify that there are not null values\n",
    "df_appl.info()"
   ]
  },
  {
   "cell_type": "code",
   "execution_count": 4,
   "id": "475cd842",
   "metadata": {},
   "outputs": [],
   "source": [
    "# Drop the first column\n",
    "\n",
    "df_appl = df_appl.drop(columns = ['date'])"
   ]
  },
  {
   "cell_type": "code",
   "execution_count": 5,
   "id": "bf7cb8dd",
   "metadata": {},
   "outputs": [
    {
     "name": "stdout",
     "output_type": "stream",
     "text": [
      "X shape:  (19735, 27) Y shape:  (19735, 1)\n"
     ]
    }
   ],
   "source": [
    "# Convert to numpy matrix the attributes and the ouput 'cnt'\n",
    "dataset = np.array(df_appl)\n",
    "m, n = np.shape(dataset)\n",
    "x = dataset[:, 1:]\n",
    "y = dataset[:, 0]\n",
    "\n",
    "# Reshape the output\n",
    "y = y.reshape(m, 1)\n",
    "print('X shape: ', np.shape(x), 'Y shape: ', np.shape(y))"
   ]
  },
  {
   "cell_type": "code",
   "execution_count": 6,
   "id": "b5a9d380",
   "metadata": {},
   "outputs": [],
   "source": [
    "# Add the columns of number 1\n",
    "\n",
    "def addones(X):\n",
    "    X1 = np.array(X)\n",
    "    m, n = np.shape(X1)\n",
    "    ones = np.ones((m, 1))\n",
    "    X1 = np.concatenate((ones, X1), axis = 1)\n",
    "    \n",
    "    return X1\n",
    "\n",
    "x = addones(x)"
   ]
  },
  {
   "cell_type": "code",
   "execution_count": 7,
   "id": "33fc7b8a",
   "metadata": {},
   "outputs": [
    {
     "name": "stdout",
     "output_type": "stream",
     "text": [
      "Shape of Training data:  (13222, 28) (13222, 1)\n",
      "Shape of Testing data:  (6513, 28) (6513, 1)\n"
     ]
    }
   ],
   "source": [
    "# Split the dataset into Training and Testing sets, test size of 33%, and random_state= 1\n",
    "\n",
    "X_train, X_test, y_train, y_test = train_test_split(x, y, test_size = 0.33, random_state = 1)\n",
    "print('Shape of Training data: ', np.shape(X_train), np.shape(y_train))\n",
    "print('Shape of Testing data: ', np.shape(X_test), np.shape(y_test))"
   ]
  },
  {
   "cell_type": "markdown",
   "id": "4541e1e2",
   "metadata": {},
   "source": [
    "## 2. Normal Linear Regression"
   ]
  },
  {
   "cell_type": "code",
   "execution_count": 8,
   "id": "f5bdc4bb",
   "metadata": {},
   "outputs": [
    {
     "name": "stdout",
     "output_type": "stream",
     "text": [
      "Error (R2): 0.17032081146949007\n",
      "W: [[-1.10518077e-15  2.05568051e+00 -3.00924473e-01  1.49398991e+01\n",
      "  -1.65328093e+01 -1.27615630e+01  2.59004906e+01  4.54023922e+00\n",
      "  -4.25449341e+00 -1.23671523e+00  1.61232499e+00  1.37831458e-01\n",
      "   7.33314001e+00  3.86001698e-01  1.74885310e+00 -1.45939553e+00\n",
      "   6.78016410e+00 -4.44206073e+00 -1.62275982e+01 -9.55860683e-01\n",
      "  -1.17275308e+01  1.25875044e-01 -1.42162351e+00  1.79676236e+00\n",
      "   1.32522389e-01  6.43724474e+00 -1.01180123e-03 -1.01180123e-03]]\n",
      "W0: [93.40705406]\n",
      "[[ 9.34070541e+01  2.05568051e+00 -3.00924473e-01  1.49398991e+01\n",
      "  -1.65328093e+01 -1.27615630e+01  2.59004906e+01  4.54023922e+00\n",
      "  -4.25449341e+00 -1.23671523e+00  1.61232499e+00  1.37831458e-01\n",
      "   7.33314001e+00  3.86001698e-01  1.74885310e+00 -1.45939553e+00\n",
      "   6.78016410e+00 -4.44206073e+00 -1.62275982e+01 -9.55860683e-01\n",
      "  -1.17275308e+01  1.25875044e-01 -1.42162351e+00  1.79676236e+00\n",
      "   1.32522389e-01  6.43724474e+00 -1.01180123e-03 -1.01180123e-03]]\n"
     ]
    }
   ],
   "source": [
    "# Using the xTrain and yTrain (Training dataset) and Linear Regression function from sklearn library, obtain the model (W's). \n",
    "# Then make predictions using the Testing dataset, and obtain the  𝑅2  score of your predictions.\n",
    "\n",
    "from sklearn.linear_model import LinearRegression\n",
    "# Fit the data to training dataset\n",
    "reg = LinearRegression().fit(X_train, y_train)\n",
    "\n",
    "# Obtain and print the score \n",
    "Costo = reg.score(X_test, y_test)\n",
    "print(f'Error (R2): {Costo}')\n",
    "\n",
    "# Obtain and print the W's coefficients\n",
    "w = reg.coef_\n",
    "print(f'W: {w}')\n",
    "\n",
    "# Obtain and print the intercept\n",
    "intercepto = reg.intercept_\n",
    "print(f'W0: {intercepto}')\n",
    "\n",
    "# Add the intercept value to the W's array and print W\n",
    "w[0][0] = intercepto\n",
    "print(w)"
   ]
  },
  {
   "cell_type": "markdown",
   "id": "21731f32",
   "metadata": {},
   "source": [
    "## Implement $R^2$ Score\n",
    "\n",
    "$$R^2 = 1 - \\frac{\\sum(y_i - \\hat{y}_i)^2}{\\sum(y_i - \\bar{y})^2 }$$"
   ]
  },
  {
   "cell_type": "code",
   "execution_count": 9,
   "id": "e9492f56",
   "metadata": {},
   "outputs": [
    {
     "name": "stdout",
     "output_type": "stream",
     "text": [
      "(6513, 1)\n",
      "0.17032081146949007\n"
     ]
    }
   ],
   "source": [
    "def r2(Y, Yt):\n",
    "    \n",
    "    error = Y - Yt\n",
    "    varianza = (Y - np.average(Y)) ** 2\n",
    "    cost = 1 - (np.sum(error ** 2)) / np.sum(varianza)\n",
    "    \n",
    "    return cost\n",
    "                \n",
    "# Predictions for Testing dataset\n",
    "yt = np.dot(w, X_test.T).T\n",
    "print(np.shape(yt))\n",
    "\n",
    "# Obtain and print the R2 score\n",
    "costo = r2(y_test, yt)\n",
    "print(costo)"
   ]
  },
  {
   "cell_type": "markdown",
   "id": "0d5f7d83",
   "metadata": {},
   "source": [
    "## 3. Gradient Descent with Regularization (Ridge)\n",
    "\n",
    "Cost function for Gradient Descent Regularized:\n",
    "$$\n",
    "J(w) = \\frac{1}{2m}\\big[\\sum_{i=1}^{m}(\\hat y^{(i)}-y^{(i)})^2+\\lambda\\sum_{j=1}^{n}w_j^2 \\big]\n",
    "$$\n",
    "\n",
    "W's update for GD Regularized:\n",
    "$$\n",
    "w_0 = w_0 - \\alpha \\frac{1}{m}\\sum_{i=1}^{m}(\\hat y^{(i)}-y^{(i)})x_0^{(i)}\n",
    "$$\n",
    "$$\n",
    "w_j = w_j - \\alpha \\frac{1}{m} \\big [ \\sum_{i=1}^{m}(\\hat y^{(i)}-y^{(i)})x_j^{(i)} + \\frac{\\lambda}{m}w_j \\big ]\n",
    "$$"
   ]
  },
  {
   "cell_type": "code",
   "execution_count": 10,
   "id": "1459e613",
   "metadata": {},
   "outputs": [
    {
     "name": "stdout",
     "output_type": "stream",
     "text": [
      "R2: 0.17032411671596948\n",
      "[[ 0.00000000e+00  2.05699362e+00 -3.31151108e-01  1.49107557e+01\n",
      "  -1.64296080e+01 -1.27134085e+01  2.58461113e+01  4.53593634e+00\n",
      "  -4.26951878e+00 -1.24224359e+00  1.57847881e+00  1.38209176e-01\n",
      "   7.30566374e+00  3.84810933e-01  1.71715758e+00 -1.45864739e+00\n",
      "   6.76472262e+00 -4.44014856e+00 -1.61348597e+01 -9.58598362e-01\n",
      "  -1.16399749e+01  1.25948086e-01 -1.40828610e+00  1.80024098e+00\n",
      "   1.32353936e-01  6.36331912e+00 -1.02621353e-03 -1.02621354e-03]]\n",
      "[91.70400894]\n",
      "[[ 9.17040089e+01  2.05699362e+00 -3.31151108e-01  1.49107557e+01\n",
      "  -1.64296080e+01 -1.27134085e+01  2.58461113e+01  4.53593634e+00\n",
      "  -4.26951878e+00 -1.24224359e+00  1.57847881e+00  1.38209176e-01\n",
      "   7.30566374e+00  3.84810933e-01  1.71715758e+00 -1.45864739e+00\n",
      "   6.76472262e+00 -4.44014856e+00 -1.61348597e+01 -9.58598362e-01\n",
      "  -1.16399749e+01  1.25948086e-01 -1.40828610e+00  1.80024098e+00\n",
      "   1.32353936e-01  6.36331912e+00 -1.02621353e-03 -1.02621354e-03]]\n"
     ]
    }
   ],
   "source": [
    "# Linear regression con regularizacion \"Ridge\"\n",
    "# Using Ridge function from sklearn library, obtain the model (W's) and then make predictions using the Testing dataset\n",
    "# and obtain the  𝑅2  score of your predictions.\n",
    "\n",
    "from sklearn.linear_model import Ridge\n",
    "\n",
    "# Define the clf method using alpha = 10\n",
    "clf = Ridge(alpha = 10.0)\n",
    "\n",
    "# Fit to the training dataset\n",
    "ridge = clf.fit(X_train, y_train)\n",
    "\n",
    "# Obtain and print the score \n",
    "Score2 = ridge.score(X_test, y_test)\n",
    "print(f'R2: {Score2}')\n",
    "\n",
    "# Obtain and print the W's coefficients\n",
    "w2 = ridge.coef_\n",
    "print(w2)\n",
    "\n",
    "# Obtain and print the intercept\n",
    "intercepto2 = ridge.intercept_\n",
    "print(intercepto2)\n",
    "\n",
    "# Add the intercept value to the W's array and print W\n",
    "w2[0][0] = intercepto2\n",
    "print(w2)"
   ]
  },
  {
   "cell_type": "code",
   "execution_count": 11,
   "id": "9be8bf41",
   "metadata": {},
   "outputs": [
    {
     "name": "stdout",
     "output_type": "stream",
     "text": [
      "(6513, 1)\n",
      "0.17032411671596948\n"
     ]
    }
   ],
   "source": [
    "# Predictions for Testing dataset for Ridge algorithm\n",
    "yt2 = np.dot(w2, X_test.T).T\n",
    "print(np.shape(yt2))\n",
    "\n",
    "# Obtain and print the R2 score for Ridge Algorithm\n",
    "costo2 = r2(y_test, yt2)\n",
    "print(costo2)"
   ]
  },
  {
   "cell_type": "code",
   "execution_count": 12,
   "id": "3011956a",
   "metadata": {},
   "outputs": [
    {
     "data": {
      "text/plain": [
       "[<matplotlib.lines.Line2D at 0x1974f44b880>]"
      ]
     },
     "execution_count": 12,
     "metadata": {},
     "output_type": "execute_result"
    },
    {
     "data": {
      "image/png": "[encoded data removed]",
      "text/plain": [
       "<Figure size 432x288 with 1 Axes>"
      ]
     },
     "metadata": {
      "needs_background": "light"
     },
     "output_type": "display_data"
    }
   ],
   "source": [
    "#Incrementar el valor de alfa de forma logaritmica: 10, 100, 1000, 10000, 100000, 1e6, 1e7\n",
    "#Graficar el comportamiento del score del ridge para cada valor de alpha\n",
    "\n",
    "alphas = [10, 100, 1000, 10000, 100000, 1e6, 1e7, 1e8]\n",
    "J = []\n",
    "\n",
    "\n",
    "for a in alphas:\n",
    "    # Define the clf method using distinct alphas\n",
    "    clf = Ridge(alpha = a)\n",
    "\n",
    "    # Fit to the training dataset\n",
    "    ridge = clf.fit(X_train, y_train)\n",
    "\n",
    "    # Obtain and print the score \n",
    "    Score = ridge.score(X_test, y_test)\n",
    "\n",
    "    # Obtain and print the W's coefficients\n",
    "    w = ridge.coef_\n",
    "\n",
    "    # Obtain and print the intercept\n",
    "    intercepto = ridge.intercept_\n",
    "\n",
    "    # Add the intercept value to the W's array and print W\n",
    "    w[0][0] = intercepto\n",
    "    \n",
    "    # Predictions for Testing dataset for Ridge algorithm\n",
    "    yt = np.dot(w, X_test.T).T\n",
    "\n",
    "    # Obtain and print the R2 score for Ridge Algorithm\n",
    "    costo = r2(y_test, yt)\n",
    "    \n",
    "    J.append(costo)\n",
    "\n",
    "    \n",
    "plt.plot(alphas, J, 'b')"
   ]
  }
 ],
 "metadata": {
  "kernelspec": {
   "display_name": "Python 3 (ipykernel)",
   "language": "python",
   "name": "python3"
  },
  "language_info": {
   "codemirror_mode": {
    "name": "ipython",
    "version": 3
   },
   "file_extension": ".py",
   "mimetype": "text/x-python",
   "name": "python",
   "nbconvert_exporter": "python",
   "pygments_lexer": "ipython3",
   "version": "3.9.12"
  }
 },
 "nbformat": 4,
 "nbformat_minor": 5
}
