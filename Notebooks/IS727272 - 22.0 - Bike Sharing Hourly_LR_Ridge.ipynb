{
 "cells": [
  {
   "cell_type": "markdown",
   "metadata": {},
   "source": [
    "### IS727272 - Cordero Hernández, Marco Ricardo"
   ]
  },
  {
   "cell_type": "markdown",
   "metadata": {},
   "source": [
    "# Exercise 4.1.6 Bike Sharing Hourly, Linear Regression, Ridge\n",
    "\n",
    "The regression model is a statistical procedure that allows a researcher to estimate the linear, or straight line, relationship that relates two or more variables.\n",
    "\n",
    "Sometimes the linear regression models tends to overfit the datasets, it causes that the model can not generalize the learning.\n",
    "\n",
    "For this reason there is an algorithm type called Regularized GD.\n",
    "\n",
    "This algorithm consists in penalizing some w's coefficients to allow the model generalize the learning. \n",
    "\n",
    "### Instructions:\n",
    "\n",
    "1. Load the Bike-sharing hourly dataset\n",
    "2. Drop the columns ['instant', 'dteday', 'casual', 'registered']\n",
    "3. Verify that there are not null values\n",
    "4. Convert to numpy matrix the attributes and the ouput 'cnt' \n",
    "5. Add the columns of number 1\n",
    "6. Split the dataset into Training and Testing sets\n",
    "7. Using the xTrain and yTrain (Training dataset) and Linear Regression function from sklearn library, obtain the model (W's). Then make predictions using the Testing dataset, and obtain the $R^2$ score of your predictions.\n",
    "8. Using Ridge function from sklearn library, obtain the model (W's) and then make predictions using the Testing dataset, and obtain the $R^2$ score of your predictions.\n",
    "9. Incrementar el valor de alfa de forma logaritmica: 10, 100, 1000, 10000, 100000, 1e6, 1e7. Graficar el comportamiento del score del ridge para cada valor de alpha"
   ]
  },
  {
   "cell_type": "markdown",
   "metadata": {},
   "source": [
    "## 1. Preparing data"
   ]
  },
  {
   "cell_type": "code",
   "execution_count": 1,
   "metadata": {},
   "outputs": [],
   "source": [
    "# Import libraries\n",
    "import math\n",
    "import pandas as pd\n",
    "import numpy as np\n",
    "from sklearn.model_selection import train_test_split\n",
    "import matplotlib.pyplot as plt"
   ]
  },
  {
   "cell_type": "code",
   "execution_count": 2,
   "metadata": {},
   "outputs": [
    {
     "data": {
      "text/html": [
       "<div>\n",
       "<style scoped>\n",
       "    .dataframe tbody tr th:only-of-type {\n",
       "        vertical-align: middle;\n",
       "    }\n",
       "\n",
       "    .dataframe tbody tr th {\n",
       "        vertical-align: top;\n",
       "    }\n",
       "\n",
       "    .dataframe thead th {\n",
       "        text-align: right;\n",
       "    }\n",
       "</style>\n",
       "<table border=\"1\" class=\"dataframe\">\n",
       "  <thead>\n",
       "    <tr style=\"text-align: right;\">\n",
       "      <th></th>\n",
       "      <th>instant</th>\n",
       "      <th>dteday</th>\n",
       "      <th>season</th>\n",
       "      <th>yr</th>\n",
       "      <th>mnth</th>\n",
       "      <th>hr</th>\n",
       "      <th>holiday</th>\n",
       "      <th>weekday</th>\n",
       "      <th>workingday</th>\n",
       "      <th>weathersit</th>\n",
       "      <th>temp</th>\n",
       "      <th>atemp</th>\n",
       "      <th>hum</th>\n",
       "      <th>windspeed</th>\n",
       "      <th>casual</th>\n",
       "      <th>registered</th>\n",
       "      <th>cnt</th>\n",
       "    </tr>\n",
       "  </thead>\n",
       "  <tbody>\n",
       "    <tr>\n",
       "      <th>0</th>\n",
       "      <td>1</td>\n",
       "      <td>2011-01-01</td>\n",
       "      <td>1</td>\n",
       "      <td>0</td>\n",
       "      <td>1</td>\n",
       "      <td>0</td>\n",
       "      <td>0</td>\n",
       "      <td>6</td>\n",
       "      <td>0</td>\n",
       "      <td>1</td>\n",
       "      <td>0.24</td>\n",
       "      <td>0.2879</td>\n",
       "      <td>0.81</td>\n",
       "      <td>0.0</td>\n",
       "      <td>3</td>\n",
       "      <td>13</td>\n",
       "      <td>16</td>\n",
       "    </tr>\n",
       "    <tr>\n",
       "      <th>1</th>\n",
       "      <td>2</td>\n",
       "      <td>2011-01-01</td>\n",
       "      <td>1</td>\n",
       "      <td>0</td>\n",
       "      <td>1</td>\n",
       "      <td>1</td>\n",
       "      <td>0</td>\n",
       "      <td>6</td>\n",
       "      <td>0</td>\n",
       "      <td>1</td>\n",
       "      <td>0.22</td>\n",
       "      <td>0.2727</td>\n",
       "      <td>0.80</td>\n",
       "      <td>0.0</td>\n",
       "      <td>8</td>\n",
       "      <td>32</td>\n",
       "      <td>40</td>\n",
       "    </tr>\n",
       "    <tr>\n",
       "      <th>2</th>\n",
       "      <td>3</td>\n",
       "      <td>2011-01-01</td>\n",
       "      <td>1</td>\n",
       "      <td>0</td>\n",
       "      <td>1</td>\n",
       "      <td>2</td>\n",
       "      <td>0</td>\n",
       "      <td>6</td>\n",
       "      <td>0</td>\n",
       "      <td>1</td>\n",
       "      <td>0.22</td>\n",
       "      <td>0.2727</td>\n",
       "      <td>0.80</td>\n",
       "      <td>0.0</td>\n",
       "      <td>5</td>\n",
       "      <td>27</td>\n",
       "      <td>32</td>\n",
       "    </tr>\n",
       "    <tr>\n",
       "      <th>3</th>\n",
       "      <td>4</td>\n",
       "      <td>2011-01-01</td>\n",
       "      <td>1</td>\n",
       "      <td>0</td>\n",
       "      <td>1</td>\n",
       "      <td>3</td>\n",
       "      <td>0</td>\n",
       "      <td>6</td>\n",
       "      <td>0</td>\n",
       "      <td>1</td>\n",
       "      <td>0.24</td>\n",
       "      <td>0.2879</td>\n",
       "      <td>0.75</td>\n",
       "      <td>0.0</td>\n",
       "      <td>3</td>\n",
       "      <td>10</td>\n",
       "      <td>13</td>\n",
       "    </tr>\n",
       "    <tr>\n",
       "      <th>4</th>\n",
       "      <td>5</td>\n",
       "      <td>2011-01-01</td>\n",
       "      <td>1</td>\n",
       "      <td>0</td>\n",
       "      <td>1</td>\n",
       "      <td>4</td>\n",
       "      <td>0</td>\n",
       "      <td>6</td>\n",
       "      <td>0</td>\n",
       "      <td>1</td>\n",
       "      <td>0.24</td>\n",
       "      <td>0.2879</td>\n",
       "      <td>0.75</td>\n",
       "      <td>0.0</td>\n",
       "      <td>0</td>\n",
       "      <td>1</td>\n",
       "      <td>1</td>\n",
       "    </tr>\n",
       "  </tbody>\n",
       "</table>\n",
       "</div>"
      ],
      "text/plain": [
       "   instant      dteday  season  yr  mnth  hr  holiday  weekday  workingday  \\\n",
       "0        1  2011-01-01       1   0     1   0        0        6           0   \n",
       "1        2  2011-01-01       1   0     1   1        0        6           0   \n",
       "2        3  2011-01-01       1   0     1   2        0        6           0   \n",
       "3        4  2011-01-01       1   0     1   3        0        6           0   \n",
       "4        5  2011-01-01       1   0     1   4        0        6           0   \n",
       "\n",
       "   weathersit  temp   atemp   hum  windspeed  casual  registered  cnt  \n",
       "0           1  0.24  0.2879  0.81        0.0       3          13   16  \n",
       "1           1  0.22  0.2727  0.80        0.0       8          32   40  \n",
       "2           1  0.22  0.2727  0.80        0.0       5          27   32  \n",
       "3           1  0.24  0.2879  0.75        0.0       3          10   13  \n",
       "4           1  0.24  0.2879  0.75        0.0       0           1    1  "
      ]
     },
     "execution_count": 2,
     "metadata": {},
     "output_type": "execute_result"
    }
   ],
   "source": [
    "# Load dataset\n",
    "df_hour = pd.read_csv('./Datasets/hourly.csv')\n",
    "df_hour.head()"
   ]
  },
  {
   "cell_type": "code",
   "execution_count": 3,
   "metadata": {},
   "outputs": [
    {
     "name": "stdout",
     "output_type": "stream",
     "text": [
      "<class 'pandas.core.frame.DataFrame'>\n",
      "RangeIndex: 17379 entries, 0 to 17378\n",
      "Data columns (total 17 columns):\n",
      " #   Column      Non-Null Count  Dtype  \n",
      "---  ------      --------------  -----  \n",
      " 0   instant     17379 non-null  int64  \n",
      " 1   dteday      17379 non-null  object \n",
      " 2   season      17379 non-null  int64  \n",
      " 3   yr          17379 non-null  int64  \n",
      " 4   mnth        17379 non-null  int64  \n",
      " 5   hr          17379 non-null  int64  \n",
      " 6   holiday     17379 non-null  int64  \n",
      " 7   weekday     17379 non-null  int64  \n",
      " 8   workingday  17379 non-null  int64  \n",
      " 9   weathersit  17379 non-null  int64  \n",
      " 10  temp        17379 non-null  float64\n",
      " 11  atemp       17379 non-null  float64\n",
      " 12  hum         17379 non-null  float64\n",
      " 13  windspeed   17379 non-null  float64\n",
      " 14  casual      17379 non-null  int64  \n",
      " 15  registered  17379 non-null  int64  \n",
      " 16  cnt         17379 non-null  int64  \n",
      "dtypes: float64(4), int64(12), object(1)\n",
      "memory usage: 2.3+ MB\n"
     ]
    }
   ],
   "source": [
    "# Verify that there are not null values\n",
    "df_hour.info()"
   ]
  },
  {
   "cell_type": "code",
   "execution_count": 4,
   "metadata": {},
   "outputs": [],
   "source": [
    "# Drop the columns ['instant', 'dteday', 'casual', 'registered']\n",
    "\n",
    "df_hour = df_hour.drop(columns = ['instant', 'dteday', 'casual', 'registered'])\n",
    "#df_hour = df_hour.drop(['instant', 'dteday', 'casual', 'registered'], inplace = True, axis = 1)"
   ]
  },
  {
   "cell_type": "code",
   "execution_count": 5,
   "metadata": {},
   "outputs": [
    {
     "name": "stdout",
     "output_type": "stream",
     "text": [
      "X shape:  (17379, 12) Y shape:  (17379, 1)\n"
     ]
    }
   ],
   "source": [
    "# Convert to numpy matrix the attributes and the ouput 'cnt'\n",
    "dataset = np.array(df_hour)\n",
    "m, n = np.shape(dataset)\n",
    "x = dataset[:, 0:n-1]\n",
    "y = dataset[:, -1]\n",
    "\n",
    "# Reshape the output\n",
    "y = y.reshape(m, 1)\n",
    "print('X shape: ', np.shape(x), 'Y shape: ', np.shape(y))"
   ]
  },
  {
   "cell_type": "code",
   "execution_count": 6,
   "metadata": {},
   "outputs": [],
   "source": [
    "# Add the columns of number 1\n",
    "\n",
    "def addones(X):\n",
    "    X1 = np.array(X)\n",
    "    m, n = np.shape(X1)\n",
    "    ones = np.ones((m, 1))\n",
    "    X1 = np.concatenate((ones, X1), axis = 1)\n",
    "    \n",
    "    return X1\n",
    "\n",
    "x = addones(x)"
   ]
  },
  {
   "cell_type": "code",
   "execution_count": 7,
   "metadata": {},
   "outputs": [
    {
     "name": "stdout",
     "output_type": "stream",
     "text": [
      "Shape of Training data:  (11643, 13) (11643, 1)\n",
      "Shape of Testing data:  (5736, 13) (5736, 1)\n"
     ]
    }
   ],
   "source": [
    "# Split the dataset into Training and Testing sets, test size of 33%, and random_state= 1\n",
    "\n",
    "X_train, X_test, y_train, y_test = train_test_split(x, y, test_size = 0.33, random_state = 1)\n",
    "print('Shape of Training data: ', np.shape(X_train), np.shape(y_train))\n",
    "print('Shape of Testing data: ', np.shape(X_test), np.shape(y_test))"
   ]
  },
  {
   "cell_type": "markdown",
   "metadata": {},
   "source": [
    "## 2. Normal Linear Regression"
   ]
  },
  {
   "cell_type": "code",
   "execution_count": 8,
   "metadata": {},
   "outputs": [
    {
     "name": "stdout",
     "output_type": "stream",
     "text": [
      "Error (R2): 0.3966400174284631\n",
      "W: [[ 0.00000000e+00  1.85126892e+01  7.81151861e+01  1.71585299e-01\n",
      "   7.63881341e+00 -2.70804291e+01  1.66918680e+00  3.92795159e+00\n",
      "  -2.72936547e+00  2.10019998e+01  2.96443537e+02 -1.98320492e+02\n",
      "   4.29975972e+01]]\n",
      "W0: [-24.62175314]\n",
      "[[-2.46217531e+01  1.85126892e+01  7.81151861e+01  1.71585299e-01\n",
      "   7.63881341e+00 -2.70804291e+01  1.66918680e+00  3.92795159e+00\n",
      "  -2.72936547e+00  2.10019998e+01  2.96443537e+02 -1.98320492e+02\n",
      "   4.29975972e+01]]\n"
     ]
    }
   ],
   "source": [
    "# Using the xTrain and yTrain (Training dataset) and Linear Regression function from sklearn library, obtain the model (W's). \n",
    "# Then make predictions using the Testing dataset, and obtain the  𝑅2  score of your predictions.\n",
    "\n",
    "from sklearn.linear_model import LinearRegression\n",
    "# Fit the data to training dataset\n",
    "reg = LinearRegression().fit(X_train, y_train)\n",
    "\n",
    "# Obtain and print the score \n",
    "Costo = reg.score(X_test, y_test)\n",
    "print(f'Error (R2): {Costo}')\n",
    "\n",
    "# Obtain and print the W's coefficients\n",
    "w = reg.coef_\n",
    "print(f'W: {w}')\n",
    "\n",
    "# Obtain and print the intercept\n",
    "intercepto = reg.intercept_\n",
    "print(f'W0: {intercepto}')\n",
    "\n",
    "# Add the intercept value to the W's array and print W\n",
    "w[0][0] = intercepto\n",
    "print(w)"
   ]
  },
  {
   "cell_type": "markdown",
   "metadata": {},
   "source": [
    "## Implement $R^2$ Score\n",
    "\n",
    "$$R^2 = 1 - \\frac{\\sum(y_i - \\hat{y}_i)^2}{\\sum(y_i - \\bar{y})^2 }$$\n"
   ]
  },
  {
   "cell_type": "code",
   "execution_count": 9,
   "metadata": {},
   "outputs": [
    {
     "name": "stdout",
     "output_type": "stream",
     "text": [
      "(5736, 1)\n",
      "0.3966400174284632\n"
     ]
    }
   ],
   "source": [
    "def r2(Y, Yt):\n",
    "    \n",
    "    error = Y - Yt\n",
    "    varianza = (Y - np.average(Y)) ** 2\n",
    "    cost = 1 - (np.sum(error ** 2)) / np.sum(varianza)\n",
    "    \n",
    "    return cost\n",
    "                \n",
    "# Predictions for Testing dataset\n",
    "yt = np.dot(w, X_test.T).T\n",
    "print(np.shape(yt))\n",
    "\n",
    "# Obtain and print the R2 score\n",
    "costo = r2(y_test, yt)\n",
    "print(costo)"
   ]
  },
  {
   "cell_type": "markdown",
   "metadata": {},
   "source": [
    "## 3. Gradient Descent with Regularization (Ridge)\n",
    "\n",
    "Cost function for Gradient Descent Regularized:\n",
    "$$\n",
    "J(w) = \\frac{1}{2m}\\big[\\sum_{i=1}^{m}(\\hat y^{(i)}-y^{(i)})^2+\\lambda\\sum_{j=1}^{n}w_j^2 \\big]\n",
    "$$\n",
    "\n",
    "W's update for GD Regularized:\n",
    "$$\n",
    "w_0 = w_0 - \\alpha \\frac{1}{m}\\sum_{i=1}^{m}(\\hat y^{(i)}-y^{(i)})x_0^{(i)}\n",
    "$$\n",
    "$$\n",
    "w_j = w_j - \\alpha \\frac{1}{m} \\big [ \\sum_{i=1}^{m}(\\hat y^{(i)}-y^{(i)})x_j^{(i)} + \\frac{\\lambda}{m}w_j \\big ]\n",
    "$$"
   ]
  },
  {
   "cell_type": "code",
   "execution_count": 10,
   "metadata": {},
   "outputs": [
    {
     "name": "stdout",
     "output_type": "stream",
     "text": [
      "R2: 0.3970991495935524\n",
      "[[ 0.00000000e+00  1.87979917e+01  7.80755631e+01  9.04443011e-02\n",
      "   7.71497657e+00 -2.68777527e+01  1.63243838e+00  4.00689450e+00\n",
      "  -3.80801447e+00  1.17850923e+02  1.82814798e+02 -1.91233474e+02\n",
      "   3.74355198e+01]]\n",
      "[-21.55152971]\n",
      "[[-2.15515297e+01  1.87979917e+01  7.80755631e+01  9.04443011e-02\n",
      "   7.71497657e+00 -2.68777527e+01  1.63243838e+00  4.00689450e+00\n",
      "  -3.80801447e+00  1.17850923e+02  1.82814798e+02 -1.91233474e+02\n",
      "   3.74355198e+01]]\n"
     ]
    }
   ],
   "source": [
    "# Linear regression con regularizacion \"Ridge\"\n",
    "# Using Ridge function from sklearn library, obtain the model (W's) and then make predictions using the Testing dataset\n",
    "# and obtain the  𝑅2  score of your predictions.\n",
    "\n",
    "from sklearn.linear_model import Ridge\n",
    "\n",
    "# Define the clf method using alpha = 10\n",
    "clf = Ridge(alpha = 10.0)\n",
    "\n",
    "# Fit to the training dataset\n",
    "ridge = clf.fit(X_train, y_train)\n",
    "\n",
    "# Obtain and print the score \n",
    "Score2 = ridge.score(X_test, y_test)\n",
    "print(f'R2: {Score2}')\n",
    "\n",
    "# Obtain and print the W's coefficients\n",
    "w2 = ridge.coef_\n",
    "print(w2)\n",
    "\n",
    "# Obtain and print the intercept\n",
    "intercepto2 = ridge.intercept_\n",
    "print(intercepto2)\n",
    "\n",
    "# Add the intercept value to the W's array and print W\n",
    "w2[0][0] = intercepto2\n",
    "print(w2)"
   ]
  },
  {
   "cell_type": "code",
   "execution_count": 11,
   "metadata": {},
   "outputs": [
    {
     "name": "stdout",
     "output_type": "stream",
     "text": [
      "(5736, 1)\n",
      "0.3970991495935524\n"
     ]
    }
   ],
   "source": [
    "# Predictions for Testing dataset for Ridge algorithm\n",
    "yt2 = np.dot(w2, X_test.T).T\n",
    "print(np.shape(yt2))\n",
    "\n",
    "# Obtain and print the R2 score for Ridge Algorithm\n",
    "costo2 = r2(y_test, yt2)\n",
    "print(costo2)"
   ]
  },
  {
   "cell_type": "code",
   "execution_count": 12,
   "metadata": {},
   "outputs": [
    {
     "data": {
      "text/plain": [
       "[<matplotlib.lines.Line2D at 0x1ff91aaa8b0>]"
      ]
     },
     "execution_count": 12,
     "metadata": {},
     "output_type": "execute_result"
    },
    {
     "data": {
      "image/png": "[encoded data removed]",
      "text/plain": [
       "<Figure size 432x288 with 1 Axes>"
      ]
     },
     "metadata": {
      "needs_background": "light"
     },
     "output_type": "display_data"
    }
   ],
   "source": [
    "#Incrementar el valor de alfa de forma logaritmica: 10, 100, 1000, 10000, 100000, 1e6, 1e7\n",
    "#Graficar el comportamiento del score del ridge para cada valor de alpha\n",
    "\n",
    "alphas = [10, 100, 1000, 10000, 100000, 1e6, 1e7, 1e8]\n",
    "J = []\n",
    "\n",
    "\n",
    "for a in alphas:\n",
    "    # Define the clf method using distinct alphas\n",
    "    clf = Ridge(alpha = a)\n",
    "\n",
    "    # Fit to the training dataset\n",
    "    ridge = clf.fit(X_train, y_train)\n",
    "\n",
    "    # Obtain and print the score \n",
    "    Score = ridge.score(X_test, y_test)\n",
    "\n",
    "    # Obtain and print the W's coefficients\n",
    "    w = ridge.coef_\n",
    "\n",
    "    # Obtain and print the intercept\n",
    "    intercepto = ridge.intercept_\n",
    "\n",
    "    # Add the intercept value to the W's array and print W\n",
    "    w[0][0] = intercepto\n",
    "    \n",
    "    # Predictions for Testing dataset for Ridge algorithm\n",
    "    yt = np.dot(w, X_test.T).T\n",
    "\n",
    "    # Obtain and print the R2 score for Ridge Algorithm\n",
    "    costo = r2(y_test, yt)\n",
    "    \n",
    "    J.append(costo)\n",
    "\n",
    "    \n",
    "plt.plot(alphas, J, 'b')"
   ]
  },
  {
   "cell_type": "markdown",
   "metadata": {},
   "source": [
    "# TAREA\n",
    "\n",
    "1. Utilizar el dataset: https://archive.ics.uci.edu/ml/datasets/Appliances+energy+prediction, y hacer los mismos pasos. \n",
    "\n",
    "NOTA: La salida es Appliances en la columna 2, y borrar la columna de fechas de la columna 1."
   ]
  }
 ],
 "metadata": {
  "kernelspec": {
   "display_name": "Python 3 (ipykernel)",
   "language": "python",
   "name": "python3"
  },
  "language_info": {
   "codemirror_mode": {
    "name": "ipython",
    "version": 3
   },
   "file_extension": ".py",
   "mimetype": "text/x-python",
   "name": "python",
   "nbconvert_exporter": "python",
   "pygments_lexer": "ipython3",
   "version": "3.9.12"
  }
 },
 "nbformat": 4,
 "nbformat_minor": 2
}
