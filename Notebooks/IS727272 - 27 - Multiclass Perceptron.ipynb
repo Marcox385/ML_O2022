{
 "cells": [
  {
   "cell_type": "markdown",
   "metadata": {},
   "source": [
    "### IS727272 - Cordero Hernández, Marco Ricardo"
   ]
  },
  {
   "cell_type": "markdown",
   "metadata": {},
   "source": [
    "# 4.3.2 Multiclass Perceptron\n",
    "\n",
    "The multiclass perceptron should be regarded as direct extension of the binary Perceptron. The binary case can be extended as follows:\n",
    "\n",
    "Algorithm:\n",
    "\n",
    "```\n",
    "w(k, n) = 0\n",
    "iterate over epochs:\n",
    "    iterate over observations (i):\n",
    "        y_hat = argmax(x_i w.T)\n",
    "        if y_hat != y_i\n",
    "            w[y] = w[y] + x_i\n",
    "            w[y_hat] = w[y_hat] - x_i\n",
    "```\n",
    "So, if prediction is wrong, we need to lower the score of wrong answer and raise score of right amswer.\n",
    "\n",
    "### Digit Recognizer\n",
    "The data file train.csv and test.csv contain gray-scale images of hand-drawn digits, from zero through nine.\n",
    "\n",
    "Each image is 28 pixels in height and 28 pixels in width, for a total of 784 pixels in total. Each pixel has a single pixel-value associated with it, indicating the lightness or darkness of that pixel, with higher numbers meaning darker. This pixel-value is an integer between 0 and 255, inclusive.\n",
    "\n",
    "The training data set, (train.csv), has 785 columns. The first column, called \"label\", is the digit that was drawn by the user. The rest of the columns contain the pixel-values of the associated image.\n"
   ]
  },
  {
   "cell_type": "code",
   "execution_count": 1,
   "metadata": {},
   "outputs": [],
   "source": [
    "# Import libraries\n",
    "import numpy as np\n",
    "import pandas as pd\n",
    "import matplotlib.pyplot as plt"
   ]
  },
  {
   "cell_type": "code",
   "execution_count": 2,
   "metadata": {},
   "outputs": [
    {
     "data": {
      "text/html": [
       "<div>\n",
       "<style scoped>\n",
       "    .dataframe tbody tr th:only-of-type {\n",
       "        vertical-align: middle;\n",
       "    }\n",
       "\n",
       "    .dataframe tbody tr th {\n",
       "        vertical-align: top;\n",
       "    }\n",
       "\n",
       "    .dataframe thead th {\n",
       "        text-align: right;\n",
       "    }\n",
       "</style>\n",
       "<table border=\"1\" class=\"dataframe\">\n",
       "  <thead>\n",
       "    <tr style=\"text-align: right;\">\n",
       "      <th></th>\n",
       "      <th>label</th>\n",
       "      <th>pixel0</th>\n",
       "      <th>pixel1</th>\n",
       "      <th>pixel2</th>\n",
       "      <th>pixel3</th>\n",
       "      <th>pixel4</th>\n",
       "      <th>pixel5</th>\n",
       "      <th>pixel6</th>\n",
       "      <th>pixel7</th>\n",
       "      <th>pixel8</th>\n",
       "      <th>...</th>\n",
       "      <th>pixel774</th>\n",
       "      <th>pixel775</th>\n",
       "      <th>pixel776</th>\n",
       "      <th>pixel777</th>\n",
       "      <th>pixel778</th>\n",
       "      <th>pixel779</th>\n",
       "      <th>pixel780</th>\n",
       "      <th>pixel781</th>\n",
       "      <th>pixel782</th>\n",
       "      <th>pixel783</th>\n",
       "    </tr>\n",
       "  </thead>\n",
       "  <tbody>\n",
       "    <tr>\n",
       "      <th>0</th>\n",
       "      <td>1</td>\n",
       "      <td>0</td>\n",
       "      <td>0</td>\n",
       "      <td>0</td>\n",
       "      <td>0</td>\n",
       "      <td>0</td>\n",
       "      <td>0</td>\n",
       "      <td>0</td>\n",
       "      <td>0</td>\n",
       "      <td>0</td>\n",
       "      <td>...</td>\n",
       "      <td>0</td>\n",
       "      <td>0</td>\n",
       "      <td>0</td>\n",
       "      <td>0</td>\n",
       "      <td>0</td>\n",
       "      <td>0</td>\n",
       "      <td>0</td>\n",
       "      <td>0</td>\n",
       "      <td>0</td>\n",
       "      <td>0</td>\n",
       "    </tr>\n",
       "    <tr>\n",
       "      <th>1</th>\n",
       "      <td>0</td>\n",
       "      <td>0</td>\n",
       "      <td>0</td>\n",
       "      <td>0</td>\n",
       "      <td>0</td>\n",
       "      <td>0</td>\n",
       "      <td>0</td>\n",
       "      <td>0</td>\n",
       "      <td>0</td>\n",
       "      <td>0</td>\n",
       "      <td>...</td>\n",
       "      <td>0</td>\n",
       "      <td>0</td>\n",
       "      <td>0</td>\n",
       "      <td>0</td>\n",
       "      <td>0</td>\n",
       "      <td>0</td>\n",
       "      <td>0</td>\n",
       "      <td>0</td>\n",
       "      <td>0</td>\n",
       "      <td>0</td>\n",
       "    </tr>\n",
       "    <tr>\n",
       "      <th>2</th>\n",
       "      <td>1</td>\n",
       "      <td>0</td>\n",
       "      <td>0</td>\n",
       "      <td>0</td>\n",
       "      <td>0</td>\n",
       "      <td>0</td>\n",
       "      <td>0</td>\n",
       "      <td>0</td>\n",
       "      <td>0</td>\n",
       "      <td>0</td>\n",
       "      <td>...</td>\n",
       "      <td>0</td>\n",
       "      <td>0</td>\n",
       "      <td>0</td>\n",
       "      <td>0</td>\n",
       "      <td>0</td>\n",
       "      <td>0</td>\n",
       "      <td>0</td>\n",
       "      <td>0</td>\n",
       "      <td>0</td>\n",
       "      <td>0</td>\n",
       "    </tr>\n",
       "    <tr>\n",
       "      <th>3</th>\n",
       "      <td>4</td>\n",
       "      <td>0</td>\n",
       "      <td>0</td>\n",
       "      <td>0</td>\n",
       "      <td>0</td>\n",
       "      <td>0</td>\n",
       "      <td>0</td>\n",
       "      <td>0</td>\n",
       "      <td>0</td>\n",
       "      <td>0</td>\n",
       "      <td>...</td>\n",
       "      <td>0</td>\n",
       "      <td>0</td>\n",
       "      <td>0</td>\n",
       "      <td>0</td>\n",
       "      <td>0</td>\n",
       "      <td>0</td>\n",
       "      <td>0</td>\n",
       "      <td>0</td>\n",
       "      <td>0</td>\n",
       "      <td>0</td>\n",
       "    </tr>\n",
       "    <tr>\n",
       "      <th>4</th>\n",
       "      <td>0</td>\n",
       "      <td>0</td>\n",
       "      <td>0</td>\n",
       "      <td>0</td>\n",
       "      <td>0</td>\n",
       "      <td>0</td>\n",
       "      <td>0</td>\n",
       "      <td>0</td>\n",
       "      <td>0</td>\n",
       "      <td>0</td>\n",
       "      <td>...</td>\n",
       "      <td>0</td>\n",
       "      <td>0</td>\n",
       "      <td>0</td>\n",
       "      <td>0</td>\n",
       "      <td>0</td>\n",
       "      <td>0</td>\n",
       "      <td>0</td>\n",
       "      <td>0</td>\n",
       "      <td>0</td>\n",
       "      <td>0</td>\n",
       "    </tr>\n",
       "  </tbody>\n",
       "</table>\n",
       "<p>5 rows × 785 columns</p>\n",
       "</div>"
      ],
      "text/plain": [
       "   label  pixel0  pixel1  pixel2  pixel3  pixel4  pixel5  pixel6  pixel7  \\\n",
       "0      1       0       0       0       0       0       0       0       0   \n",
       "1      0       0       0       0       0       0       0       0       0   \n",
       "2      1       0       0       0       0       0       0       0       0   \n",
       "3      4       0       0       0       0       0       0       0       0   \n",
       "4      0       0       0       0       0       0       0       0       0   \n",
       "\n",
       "   pixel8  ...  pixel774  pixel775  pixel776  pixel777  pixel778  pixel779  \\\n",
       "0       0  ...         0         0         0         0         0         0   \n",
       "1       0  ...         0         0         0         0         0         0   \n",
       "2       0  ...         0         0         0         0         0         0   \n",
       "3       0  ...         0         0         0         0         0         0   \n",
       "4       0  ...         0         0         0         0         0         0   \n",
       "\n",
       "   pixel780  pixel781  pixel782  pixel783  \n",
       "0         0         0         0         0  \n",
       "1         0         0         0         0  \n",
       "2         0         0         0         0  \n",
       "3         0         0         0         0  \n",
       "4         0         0         0         0  \n",
       "\n",
       "[5 rows x 785 columns]"
      ]
     },
     "execution_count": 2,
     "metadata": {},
     "output_type": "execute_result"
    }
   ],
   "source": [
    "# Load dataset\n",
    "data = pd.read_csv('./Datasets/train.csv')\n",
    "data.head()"
   ]
  },
  {
   "cell_type": "code",
   "execution_count": 3,
   "metadata": {},
   "outputs": [
    {
     "name": "stdout",
     "output_type": "stream",
     "text": [
      "X shape: (42000, 784)\n"
     ]
    },
    {
     "data": {
      "image/png": "[encoded data removed]",
      "text/plain": [
       "<Figure size 1080x1080 with 10 Axes>"
      ]
     },
     "metadata": {
      "needs_background": "light"
     },
     "output_type": "display_data"
    }
   ],
   "source": [
    "# Plot the first row of training data \n",
    "y = data.label\n",
    "x = data.loc[:, 'pixel0':].values\n",
    "m, n = x.shape\n",
    "print(f'X shape: ({m}, {n})')\n",
    "\n",
    "plt.subplots(1, 10, figsize = (15, 15))\n",
    "\n",
    "for i in range(10):\n",
    "    digit = x[i, :].reshape(28, 28)\n",
    "    ax = plt.subplot(1, 10, i + 1)\n",
    "    ax.imshow(digit, cmap = 'hot')"
   ]
  },
  {
   "cell_type": "code",
   "execution_count": 4,
   "metadata": {},
   "outputs": [
    {
     "name": "stdout",
     "output_type": "stream",
     "text": [
      "(10, 785)\n",
      "Correct 28204 from 31500\n",
      "W [[ -234.     0.     0. ...     0.     0.     0.]\n",
      " [  117.     0.     0. ...     0.     0.     0.]\n",
      " [  452.     0.     0. ...     0.     0.     0.]\n",
      " ...\n",
      " [  465.     0.     0. ...     0.     0.     0.]\n",
      " [-1596.     0.     0. ...     0.     0.     0.]\n",
      " [ -300.     0.     0. ...     0.     0.     0.]]\n"
     ]
    }
   ],
   "source": [
    "# Add bias to x\n",
    "X = np.concatenate([np.ones((m, 1)), x], axis = 1)\n",
    "m, n = X.shape\n",
    "y = np.array(y)\n",
    "\n",
    "# Split Dataset\n",
    "from sklearn.model_selection import train_test_split\n",
    "\n",
    "xTrain, xTest, yTrain, yTest = train_test_split(X, y)\n",
    "# print(np.shape(xTrain), np.shape(xTest))\n",
    "\n",
    "yTrain = yTrain.reshape(-1, 1)\n",
    "yTest = yTest.reshape(-1, 1)\n",
    "\n",
    "# Initialize the W matrix (one row per class)\n",
    "k = 10 # [0, 9]\n",
    "m, n = xTrain.shape\n",
    "w = np.zeros((k, n))\n",
    "print(w.shape)\n",
    "\n",
    "# Define number of iterations or epochs\n",
    "epochs = 20\n",
    "\n",
    "# Multiclass Perceptron\n",
    "for i in range(epochs):\n",
    "    correct = 0 # correct classifications counter\n",
    "    yt = [] # prediction\n",
    "    \n",
    "    for j in range(m):\n",
    "        product = np.dot(xTrain[j, :], w.T)\n",
    "        y_hat = np.argmax(product)\n",
    "        yt.append(y_hat)\n",
    "        \n",
    "        if y_hat != yTrain[j]:\n",
    "            w[yTrain[j], :] = w[yTrain[j], :] + xTrain[j, :]\n",
    "            w[y_hat, :] = w[y_hat, :] - xTrain[j, :]\n",
    "        else:\n",
    "            correct += 1\n",
    "    \n",
    "print(f'Correct {correct} from {m}')\n",
    "print('W', w)"
   ]
  },
  {
   "cell_type": "code",
   "execution_count": 5,
   "metadata": {},
   "outputs": [
    {
     "name": "stdout",
     "output_type": "stream",
     "text": [
      "y (31500, 1)\n",
      "yt (31500,)\n",
      "Correct 28204 misclassified 3296\n",
      "Accuracy:  0.8953650793650794\n"
     ]
    }
   ],
   "source": [
    "# Performance measurement for Training\n",
    "yt = np.array(yt)\n",
    "print('y', yTrain.shape)\n",
    "print('yt', yt.shape)\n",
    "print('Correct', correct, 'misclassified', m - correct)\n",
    "print(\"Accuracy: \", correct / len(yTrain))"
   ]
  },
  {
   "cell_type": "code",
   "execution_count": 6,
   "metadata": {},
   "outputs": [
    {
     "name": "stdout",
     "output_type": "stream",
     "text": [
      "(10, 785)\n",
      "Acc: 0.8728571428571429\n"
     ]
    }
   ],
   "source": [
    "# Performance measurement for Testing\n",
    "print(w.shape)\n",
    "product1 = np.dot(xTest, w.T)\n",
    "y_hat1 = np.argmax(product1, axis = 1)\n",
    "y_hat1 = y_hat1.reshape(-1, 1)\n",
    "accuracy = np.sum((y_hat1 == yTest)) / len(yTest)\n",
    "print(f'Acc: {accuracy}')"
   ]
  },
  {
   "cell_type": "markdown",
   "metadata": {},
   "source": [
    "### Confusion Matrix \n",
    "\n",
    "For evaluating the classification for each class we will use the confusion matrix measurement.\n"
   ]
  },
  {
   "cell_type": "code",
   "execution_count": 7,
   "metadata": {},
   "outputs": [
    {
     "name": "stdout",
     "output_type": "stream",
     "text": [
      "[[2940    0   13    8    5   31   21    6   20    6]\n",
      " [   0 3376   30   15    2    9    4   14   71    3]\n",
      " [  17   33 2750   82   27   22   42   33   97   22]\n",
      " [  10   10   94 2843    3  132   10   28   96   39]\n",
      " [   6   12   22    4 2826    7   32   22   35  156]\n",
      " [  37   12   25  129   33 2327   56    7  159   34]\n",
      " [  18    6   49    8   26   48 2940    2   24    1]\n",
      " [   3    8   39   25   22    5    1 2993   14  168]\n",
      " [  16   48   68  130   19  135   26   12 2555   57]\n",
      " [  13   12   11   42  150   32    0  148   67 2654]]\n"
     ]
    }
   ],
   "source": [
    "# Obtainig the metrics for the confusion matrix\n",
    "from sklearn.metrics import confusion_matrix\n",
    "cm = confusion_matrix(yTrain, yt)\n",
    "print(cm)"
   ]
  },
  {
   "cell_type": "code",
   "execution_count": 8,
   "metadata": {},
   "outputs": [
    {
     "name": "stdout",
     "output_type": "stream",
     "text": [
      "[[1034    0    4    4    2   11   14    2    9    2]\n",
      " [   0 1067    3   36    0    2    2    6   44    0]\n",
      " [   8    4  856   34    6    2   26    9   93   14]\n",
      " [   6    2   15  964    0   23    3    5   52   16]\n",
      " [  10    0    9    4  660    4   28    8   45  182]\n",
      " [  13    1    4   76    3  756   19    5   85   14]\n",
      " [   9    0    8    0    2   14  969    0   13    0]\n",
      " [   2    2    8   15    2    2    3 1000   15   74]\n",
      " [   5    9    7   25    2   29    5    2  900   13]\n",
      " [   1    1    2   19    4    6    0   29   38  959]]\n"
     ]
    }
   ],
   "source": [
    "# # Obtainig the metrics for the other confusion matrix\n",
    "cm_1 = confusion_matrix(yTest, y_hat1)\n",
    "print(cm_1)"
   ]
  },
  {
   "cell_type": "code",
   "execution_count": 9,
   "metadata": {},
   "outputs": [],
   "source": [
    "# Function for plotting the confusion matrix\n",
    "def plot_confusion_matrix(values, classes):\n",
    "    import itertools\n",
    "    m, n = values.shape\n",
    "\n",
    "    accuracy = np.trace(values) / float(np.sum(values))\n",
    "    misclass = 1 - accuracy\n",
    "\n",
    "    plt.figure(figsize=(10, 10))\n",
    "    plt.imshow(values, interpolation='nearest', cmap=plt.get_cmap('Blues'))\n",
    "    plt.title('Confusion matrix')\n",
    "    plt.colorbar()\n",
    "\n",
    "    marks = np.arange(len(classes))\n",
    "    plt.xticks(marks, classes, rotation=45)\n",
    "    plt.yticks(marks, classes)\n",
    "\n",
    "    thresh = values.max() / 2\n",
    "    for i, j in itertools.product(range(m), range(n)):\n",
    "        plt.text(j, i, \"{:,}\".format(values[i, j]),\n",
    "                 horizontalalignment=\"center\",\n",
    "                 color=\"white\" if values[i, j] > thresh else \"black\")\n",
    "\n",
    "\n",
    "    plt.tight_layout()\n",
    "    plt.ylabel('Predicted label')\n",
    "    plt.xlabel('True label\\naccuracy={:0.4f}; misclass={:0.4f}'.format(accuracy, misclass))\n",
    "    plt.show()"
   ]
  },
  {
   "cell_type": "code",
   "execution_count": 10,
   "metadata": {},
   "outputs": [
    {
     "data": {
      "image/png": "[encoded data removed]",
      "text/plain": [
       "<Figure size 720x720 with 2 Axes>"
      ]
     },
     "metadata": {
      "needs_background": "light"
     },
     "output_type": "display_data"
    }
   ],
   "source": [
    "# Plotting confusion matrix for k = 10\n",
    "\n",
    "mat = confusion_matrix(yTrain, yt)\n",
    "plot_confusion_matrix(values = mat, classes = ['0', '1', '2', '3', '4', '5', '6', '7', '8', '9'])"
   ]
  }
 ],
 "metadata": {
  "kernelspec": {
   "display_name": "Python 3 (ipykernel)",
   "language": "python",
   "name": "python3"
  },
  "language_info": {
   "codemirror_mode": {
    "name": "ipython",
    "version": 3
   },
   "file_extension": ".py",
   "mimetype": "text/x-python",
   "name": "python",
   "nbconvert_exporter": "python",
   "pygments_lexer": "ipython3",
   "version": "3.9.12"
  }
 },
 "nbformat": 4,
 "nbformat_minor": 2
}
