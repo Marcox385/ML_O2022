{
 "cells": [
  {
   "cell_type": "markdown",
   "metadata": {},
   "source": [
    "### IS727272 - Cordero Hernández, Marco Ricardo"
   ]
  },
  {
   "cell_type": "markdown",
   "metadata": {},
   "source": [
    "# 5. Funciones\n",
    "\n",
    "- Las funciones pueden ser utilizadas para definir código reutilizable, organizar y simplificar código.\n",
    "\n",
    "- La definición de una función consiste en el nombre de la función, parámetros y cuerpo.\n",
    "\n",
    "- El encabezado de una función comienza con la palabra reservada def, seguido del nombre de la función, los parámetros y al final dos puntos (:)\n",
    "\n",
    "- Los parámetros de una función son los valores que se le asignan a la función cuando es invocada. Este valor se le llama argumento.\n",
    "\n",
    "- Algunas funciones regresan un valor (return), mientras otras sólo hacen algunas operaciones.\n",
    "\n",
    "- La función termina cuando la instrucción return es ejecutada.\n",
    "\n",
    "- Sintaxis:\n",
    "\n",
    "        def functionName(list of parameters):\n",
    "            #Instrucciones"
   ]
  },
  {
   "cell_type": "code",
   "execution_count": 1,
   "metadata": {},
   "outputs": [],
   "source": [
    "def saludar():\n",
    "    print('Buenos días')"
   ]
  },
  {
   "cell_type": "code",
   "execution_count": 2,
   "metadata": {},
   "outputs": [
    {
     "name": "stdout",
     "output_type": "stream",
     "text": [
      "Buenos días\n"
     ]
    }
   ],
   "source": [
    "saludar()"
   ]
  },
  {
   "cell_type": "code",
   "execution_count": 3,
   "metadata": {},
   "outputs": [],
   "source": [
    "def saludar(nombre):\n",
    "    print(f'Buenos días {nombre}')"
   ]
  },
  {
   "cell_type": "code",
   "execution_count": 4,
   "metadata": {},
   "outputs": [
    {
     "name": "stdout",
     "output_type": "stream",
     "text": [
      "Buenos días Luis\n"
     ]
    }
   ],
   "source": [
    "saludar('Luis')"
   ]
  },
  {
   "cell_type": "code",
   "execution_count": 5,
   "metadata": {},
   "outputs": [],
   "source": [
    "def suma(n1, n2):\n",
    "    return n1 + n2"
   ]
  },
  {
   "cell_type": "code",
   "execution_count": 6,
   "metadata": {},
   "outputs": [
    {
     "name": "stdout",
     "output_type": "stream",
     "text": [
      "1005\n"
     ]
    }
   ],
   "source": [
    "print(suma(5, 1000))"
   ]
  },
  {
   "cell_type": "code",
   "execution_count": 7,
   "metadata": {},
   "outputs": [],
   "source": [
    "colores = ['rojo', 'verde', 'azul']\n",
    "\n",
    "def incluir_color(colores, color):\n",
    "    colores.append(color)"
   ]
  },
  {
   "cell_type": "code",
   "execution_count": 8,
   "metadata": {},
   "outputs": [
    {
     "name": "stdout",
     "output_type": "stream",
     "text": [
      "['rojo', 'verde', 'azul', 'negro']\n"
     ]
    }
   ],
   "source": [
    "color = 'negro'\n",
    "incluir_color(colores, color)\n",
    "\n",
    "print(colores)"
   ]
  },
  {
   "cell_type": "markdown",
   "metadata": {},
   "source": [
    "## 5.1 Funciones Avanzadas\n",
    "\n",
    "### 5.1.1 Función lambda\n",
    "\n",
    "Se trata de crear funciones de manera rápida, just in time, sobre la marcha, para prototipos ligeros que requieren únicamente de una pequeña operación o comprobación. Por lo tanto, toda función lambda también puede expresarse como una convencional (pero no viceversa).\n",
    "\n",
    "- Sintaxis:\n",
    "        \n",
    "        f = lambda argumentos: resultado"
   ]
  },
  {
   "cell_type": "code",
   "execution_count": 9,
   "metadata": {},
   "outputs": [
    {
     "name": "stdout",
     "output_type": "stream",
     "text": [
      "1 2\n"
     ]
    }
   ],
   "source": [
    "def a(x, y):\n",
    "    return x + y\n",
    "\n",
    "print(1, 2)"
   ]
  },
  {
   "cell_type": "code",
   "execution_count": 10,
   "metadata": {},
   "outputs": [
    {
     "data": {
      "text/plain": [
       "3"
      ]
     },
     "execution_count": 10,
     "metadata": {},
     "output_type": "execute_result"
    }
   ],
   "source": [
    "r = lambda x, y: x + y\n",
    "r(1, 2) # Aún así debe imprimirse el mediante print"
   ]
  },
  {
   "cell_type": "markdown",
   "metadata": {},
   "source": [
    "### 5.1.2 Función filter\n",
    "\n",
    "Esta función filtra una lista utilizando una función condicional definida por el usuario.\n",
    "\n",
    "- Sintaxis:\n",
    "\n",
    "        filter(conditional_funcion, iterable_object)"
   ]
  },
  {
   "cell_type": "code",
   "execution_count": 11,
   "metadata": {},
   "outputs": [],
   "source": [
    "def positivo(numero):\n",
    "    return numero > 0"
   ]
  },
  {
   "cell_type": "code",
   "execution_count": 12,
   "metadata": {},
   "outputs": [
    {
     "data": {
      "text/plain": [
       "True"
      ]
     },
     "execution_count": 12,
     "metadata": {},
     "output_type": "execute_result"
    }
   ],
   "source": [
    "positivo(5)"
   ]
  },
  {
   "cell_type": "code",
   "execution_count": 13,
   "metadata": {},
   "outputs": [
    {
     "data": {
      "text/plain": [
       "False"
      ]
     },
     "execution_count": 13,
     "metadata": {},
     "output_type": "execute_result"
    }
   ],
   "source": [
    "positivo(-3)"
   ]
  },
  {
   "cell_type": "code",
   "execution_count": 14,
   "metadata": {},
   "outputs": [],
   "source": [
    "numeros =[4, -2, 8, -3, -5, -7, 1, 9]\n",
    "filtro = filter(positivo, numeros)"
   ]
  },
  {
   "cell_type": "code",
   "execution_count": 15,
   "metadata": {},
   "outputs": [
    {
     "name": "stdout",
     "output_type": "stream",
     "text": [
      "[4, 8, 1, 9]\n"
     ]
    }
   ],
   "source": [
    "print(list(filtro))"
   ]
  },
  {
   "cell_type": "code",
   "execution_count": 17,
   "metadata": {},
   "outputs": [
    {
     "name": "stdout",
     "output_type": "stream",
     "text": [
      "range(-5, 5)\n",
      "[-5, -4, -3, -2, -1]\n"
     ]
    }
   ],
   "source": [
    "lista_numeros = range(-5, 5)\n",
    "print(lista_numeros)\n",
    "\n",
    "funcion_condicional = lambda x : x < 0\n",
    "filtro = filter(funcion_condicional, lista_numeros)\n",
    "\n",
    "print(list(filtro))"
   ]
  },
  {
   "cell_type": "code",
   "execution_count": 18,
   "metadata": {},
   "outputs": [
    {
     "name": "stdout",
     "output_type": "stream",
     "text": [
      "[-5, -4, -3, -2, -1]\n"
     ]
    }
   ],
   "source": [
    "menores_que_cero = list(filter(lambda x: x < 0, range(-5, 5)))\n",
    "print(menores_que_cero)"
   ]
  },
  {
   "cell_type": "markdown",
   "metadata": {},
   "source": [
    "### 5.1.3 Función Map\n",
    "\n",
    "Esta función aplica una función específica a cada elemento de una lista.\n",
    "\n",
    "- Sintaxis: \n",
    "    \n",
    "        map(funcion, lista)"
   ]
  },
  {
   "cell_type": "code",
   "execution_count": 19,
   "metadata": {},
   "outputs": [
    {
     "name": "stdout",
     "output_type": "stream",
     "text": [
      "[0, 1, 4, 9, 16, 25, 36, 49, 64, 81]\n"
     ]
    }
   ],
   "source": [
    "lista_numeros = range(10)\n",
    "mapeo = list(map(lambda x: x * x, lista_numeros))\n",
    "\n",
    "print(mapeo)"
   ]
  },
  {
   "cell_type": "markdown",
   "metadata": {},
   "source": [
    "## EJERCICIO 1 \n",
    "\n",
    "Escribir un programa que lea como entrada un número N del 0 al 15 y obtenga como resultado una lista de los N números fibonacci y una lista de sus cubos de cada número.\n",
    "\n"
   ]
  },
  {
   "cell_type": "code",
   "execution_count": 5,
   "metadata": {},
   "outputs": [],
   "source": [
    "def fib(n):\n",
    "    if (n <= 0):\n",
    "        return 1\n",
    "    \n",
    "    return fib(n - 1) + fib(n - 2)"
   ]
  },
  {
   "cell_type": "code",
   "execution_count": 11,
   "metadata": {},
   "outputs": [
    {
     "name": "stdout",
     "output_type": "stream",
     "text": [
      "Ingrea un número [0, 15]: 10\n",
      "Números fibonacci hasta 10\n",
      "0\n",
      "1\n",
      "1\n",
      "2\n",
      "3\n",
      "5\n",
      "8\n",
      "13\n",
      "21\n",
      "34\n",
      "55\n",
      "Cubos hasta 10: [0, 1, 8, 27, 64, 125, 216, 343, 512, 729, 1000]\n"
     ]
    }
   ],
   "source": [
    "n = int(input('Ingrea un número [0, 15]: '))\n",
    "\n",
    "print(f'Números fibonacci hasta {n}')\n",
    "for i in range(n + 1):\n",
    "    print(0 if (i == 0) else 1 if (i == 1) else fib(i - 2))\n",
    "else:\n",
    "    print(f'Cubos hasta {n}: {list(map(lambda x : x ** 3, range(n + 1)))}')"
   ]
  }
 ],
 "metadata": {
  "kernelspec": {
   "display_name": "Python 3 (ipykernel)",
   "language": "python",
   "name": "python3"
  },
  "language_info": {
   "codemirror_mode": {
    "name": "ipython",
    "version": 3
   },
   "file_extension": ".py",
   "mimetype": "text/x-python",
   "name": "python",
   "nbconvert_exporter": "python",
   "pygments_lexer": "ipython3",
   "version": "3.9.12"
  }
 },
 "nbformat": 4,
 "nbformat_minor": 2
}
