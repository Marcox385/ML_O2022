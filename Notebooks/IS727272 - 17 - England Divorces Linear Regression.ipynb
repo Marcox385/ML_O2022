{
 "cells": [
  {
   "cell_type": "markdown",
   "metadata": {},
   "source": [
    "### IS727272 - Cordero Hernández, Marco Ricardo"
   ]
  },
  {
   "cell_type": "markdown",
   "metadata": {},
   "source": [
    "# Exercise 4.1 England Divorces, Linear Regression"
   ]
  },
  {
   "cell_type": "markdown",
   "metadata": {},
   "source": [
    "Objective: Calculate w0 and w1 from data of England divorces."
   ]
  },
  {
   "cell_type": "markdown",
   "metadata": {},
   "source": [
    "Particular objectives:\n",
    "1. Read the data from a csv file and convert the data to numpy arrays.\n",
    "2. Plot the data\n",
    "3. Define the average function\n",
    "4. Calculate w0 and w1.\n",
    "5. Plot the line: Y = w0 + w1 * x in the previous graph.\n",
    "6. Calculate the MSE\n",
    "7. Predict the number of divorces of the years 1990 and 2000"
   ]
  },
  {
   "cell_type": "code",
   "execution_count": 1,
   "metadata": {},
   "outputs": [],
   "source": [
    "#Import libraries\n",
    "import numpy as np\n",
    "import pandas as pd\n",
    "import matplotlib.pyplot as plt"
   ]
  },
  {
   "cell_type": "code",
   "execution_count": 2,
   "metadata": {},
   "outputs": [
    {
     "data": {
      "text/html": [
       "<div>\n",
       "<style scoped>\n",
       "    .dataframe tbody tr th:only-of-type {\n",
       "        vertical-align: middle;\n",
       "    }\n",
       "\n",
       "    .dataframe tbody tr th {\n",
       "        vertical-align: top;\n",
       "    }\n",
       "\n",
       "    .dataframe thead th {\n",
       "        text-align: right;\n",
       "    }\n",
       "</style>\n",
       "<table border=\"1\" class=\"dataframe\">\n",
       "  <thead>\n",
       "    <tr style=\"text-align: right;\">\n",
       "      <th></th>\n",
       "      <th>year</th>\n",
       "      <th>divorces</th>\n",
       "    </tr>\n",
       "  </thead>\n",
       "  <tbody>\n",
       "    <tr>\n",
       "      <th>0</th>\n",
       "      <td>1975</td>\n",
       "      <td>120.5</td>\n",
       "    </tr>\n",
       "    <tr>\n",
       "      <th>1</th>\n",
       "      <td>1976</td>\n",
       "      <td>126.7</td>\n",
       "    </tr>\n",
       "    <tr>\n",
       "      <th>2</th>\n",
       "      <td>1977</td>\n",
       "      <td>129.1</td>\n",
       "    </tr>\n",
       "    <tr>\n",
       "      <th>3</th>\n",
       "      <td>1978</td>\n",
       "      <td>143.7</td>\n",
       "    </tr>\n",
       "    <tr>\n",
       "      <th>4</th>\n",
       "      <td>1979</td>\n",
       "      <td>138.7</td>\n",
       "    </tr>\n",
       "    <tr>\n",
       "      <th>5</th>\n",
       "      <td>1980</td>\n",
       "      <td>148.3</td>\n",
       "    </tr>\n",
       "  </tbody>\n",
       "</table>\n",
       "</div>"
      ],
      "text/plain": [
       "   year  divorces\n",
       "0  1975     120.5\n",
       "1  1976     126.7\n",
       "2  1977     129.1\n",
       "3  1978     143.7\n",
       "4  1979     138.7\n",
       "5  1980     148.3"
      ]
     },
     "execution_count": 2,
     "metadata": {},
     "output_type": "execute_result"
    }
   ],
   "source": [
    "#1. Read the data from a csv file and convert the data to numpy arrays.\n",
    "# divor_set = np.loadtxt('./Datasets/divorces.csv', delimiter = ',', skiprows = 1)\n",
    "divor_set = pd.read_csv('./Datasets/divorces.csv')\n",
    "divor_set"
   ]
  },
  {
   "cell_type": "code",
   "execution_count": 3,
   "metadata": {},
   "outputs": [
    {
     "data": {
      "image/png": "[encoded data removed]",
      "text/plain": [
       "<Figure size 432x288 with 1 Axes>"
      ]
     },
     "metadata": {
      "needs_background": "light"
     },
     "output_type": "display_data"
    }
   ],
   "source": [
    "#2. Plot the data\n",
    "plt.scatter(divor_set['year'], divor_set['divorces'])\n",
    "plt.show()"
   ]
  },
  {
   "cell_type": "code",
   "execution_count": 4,
   "metadata": {},
   "outputs": [
    {
     "name": "stdout",
     "output_type": "stream",
     "text": [
      "1977.5\n"
     ]
    }
   ],
   "source": [
    "#3. Define the average function\n",
    "def average(x):\n",
    "    # return sum(x)/len(x)\n",
    "    return np.average(x)\n",
    "\n",
    "x = np.array(divor_set['year'])\n",
    "y = np.array(divor_set['divorces'])\n",
    "\n",
    "#Probando funcion average\n",
    "x_avg = average(x)\n",
    "print(x_avg)"
   ]
  },
  {
   "cell_type": "code",
   "execution_count": 5,
   "metadata": {},
   "outputs": [
    {
     "name": "stdout",
     "output_type": "stream",
     "text": [
      "w0 = -10577.900000562204 w1 = 5.417142857427158\n"
     ]
    }
   ],
   "source": [
    "#4. Calculate w0 and w1\n",
    "\n",
    "w1 = (average(x * y) - average(x) * average(y)) / (average(x * x) - average(x) * average(x))\n",
    "w0 = average(y) - w1 * average(x)\n",
    "\n",
    "print('w0 =', w0, 'w1 =', w1)"
   ]
  },
  {
   "cell_type": "code",
   "execution_count": 6,
   "metadata": {},
   "outputs": [
    {
     "data": {
      "text/plain": [
       "<matplotlib.collections.PathCollection at 0x1d746347670>"
      ]
     },
     "execution_count": 6,
     "metadata": {},
     "output_type": "execute_result"
    },
    {
     "data": {
      "image/png": "[encoded data removed]",
      "text/plain": [
       "<Figure size 432x288 with 1 Axes>"
      ]
     },
     "metadata": {
      "needs_background": "light"
     },
     "output_type": "display_data"
    }
   ],
   "source": [
    "#5. Plot the line: Y = w0 + w1 * x in the previous graph.\n",
    "\n",
    "Y = w0 + w1 * x\n",
    "\n",
    "plt.plot(x, Y)\n",
    "plt.scatter(divor_set['year'], divor_set['divorces'])"
   ]
  },
  {
   "cell_type": "code",
   "execution_count": 7,
   "metadata": {},
   "outputs": [
    {
     "name": "stdout",
     "output_type": "stream",
     "text": [
      "MSE =  10.862476190474043\n"
     ]
    }
   ],
   "source": [
    "#6. Calculate the MSE\n",
    "\n",
    "MSE = (1/len(x)) * np.sum((y - Y)**2)\n",
    "\n",
    "print('MSE = ', MSE)"
   ]
  },
  {
   "cell_type": "code",
   "execution_count": 8,
   "metadata": {},
   "outputs": [
    {
     "name": "stdout",
     "output_type": "stream",
     "text": [
      "1990 Divorces = 202.21428571784054\n",
      "2000 Divorces = 256.3857142921115\n"
     ]
    }
   ],
   "source": [
    "#7. Predict the number of divorces of the years 1990 and 2000\n",
    "\n",
    "y1990 = w0 + w1 * 1990\n",
    "y2000 = w0 + w1 * 2000\n",
    "\n",
    "print('1990 Divorces =', y1990)\n",
    "print('2000 Divorces =', y2000)"
   ]
  }
 ],
 "metadata": {
  "kernelspec": {
   "display_name": "Python 3 (ipykernel)",
   "language": "python",
   "name": "python3"
  },
  "language_info": {
   "codemirror_mode": {
    "name": "ipython",
    "version": 3
   },
   "file_extension": ".py",
   "mimetype": "text/x-python",
   "name": "python",
   "nbconvert_exporter": "python",
   "pygments_lexer": "ipython3",
   "version": "3.9.12"
  }
 },
 "nbformat": 4,
 "nbformat_minor": 2
}
