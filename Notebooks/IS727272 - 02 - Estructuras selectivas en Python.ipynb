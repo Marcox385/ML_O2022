{
 "cells": [
  {
   "cell_type": "markdown",
   "metadata": {},
   "source": [
    "### IS727272 - Cordero Hernández, Marco Ricardo"
   ]
  },
  {
   "cell_type": "markdown",
   "metadata": {},
   "source": [
    "# 2. Estructuras Selectivas\n",
    "\n",
    "- Una expresión booleana es una expression que evalúa sobre un valor booleano: Verdadero (True = 1) o Falso (False = 0).\n",
    "\n",
    "- La variable que guarda un valor booleano (True, False) es una variable de tipo booleano.\n",
    "\n",
    "- Las palabras True y False son palabras reservadas en Python y no pueden ser utilizadas como identificadores.\n",
    "\n",
    "## 2.1 Estructuras selectivas simples\n",
    "\n",
    "- Sintaxis:\n",
    "\n",
    "if boolean-expression:\n",
    "\n",
    "    instrucciones\n",
    "\n",
    "- Ejemplo:\n",
    "\n",
    "    if radio >= 0:\n",
    "        area = radio * radio * math.pi\n",
    "        print(\"El area de un circulo de radio: \", radio, \"es\", area)"
   ]
  },
  {
   "cell_type": "code",
   "execution_count": 1,
   "metadata": {},
   "outputs": [
    {
     "name": "stdout",
     "output_type": "stream",
     "text": [
      "El área de un círculo con radio 5 es 78.53981633974483\n"
     ]
    }
   ],
   "source": [
    "import math\n",
    "\n",
    "radio = 5\n",
    "if (radio >= 0):\n",
    "    area = math.pi * radio ** 2\n",
    "    print(\"El área de un círculo con radio\",radio,\"es\",area)"
   ]
  },
  {
   "cell_type": "markdown",
   "metadata": {},
   "source": [
    "## 2.2 Estructuras selectivas dobles\n",
    "\n",
    "- Sintaxis:\n",
    "\n",
    "if boolean-expression: \n",
    "    \n",
    "    instrucciones para el caso verdadero\n",
    "\n",
    "else:\n",
    "\n",
    "    instrucciones para el caso falso\n",
    "\n",
    "- Ejemplo:\n",
    "\n",
    "    if radio >= 0:\n",
    "        area = radio * radio * math.pi\n",
    "        print(\"El area de un circulo de radio: \", radio, \"es\", area)\n",
    "    else:\n",
    "        print(\"Valor de radio negativo\")"
   ]
  },
  {
   "cell_type": "code",
   "execution_count": 2,
   "metadata": {},
   "outputs": [
    {
     "name": "stdout",
     "output_type": "stream",
     "text": [
      "Valor de radio negativo\n"
     ]
    }
   ],
   "source": [
    "radio = -2\n",
    "\n",
    "if (radio >= 0):\n",
    "  area = math.pi * radio ** 2\n",
    "  print(\"El área de un círculo de radio: \", radio, \"es\", area)\n",
    "else:\n",
    "  print(\"Valor de radio negativo\")"
   ]
  },
  {
   "cell_type": "markdown",
   "metadata": {},
   "source": [
    "## 2.3 Estructuras selectivas múltiples\n",
    "\n",
    "- Sintaxis:\n",
    "\n",
    "if boolean-expression: \n",
    "    \n",
    "    instrucciones para el caso verdadero\n",
    "\n",
    "else:\n",
    "\n",
    "    instrucciones para el caso falso\n",
    "\n",
    "    if boolean-expression:\n",
    "        \n",
    "        instrucciones para el caso verdadero\n",
    "        \n",
    "    else:\n",
    "        ....\n",
    "\n",
    "- Es lo mismo que:\n",
    "\n",
    "if boolean-expression: \n",
    "    \n",
    "    instrucciones para el caso verdadero\n",
    "\n",
    "elif boolean-expression: \n",
    "\n",
    "    instrucciones para el caso verdadero\n",
    "    \n",
    "elif boolean-expression: \n",
    "\n",
    "    instrucciones para el caso verdadero\n",
    "\n",
    "else:\n",
    "\n",
    "    instrucciones para el caso falso (no se cumplió ninguna condición anterior)\n",
    "    \n",
    "\n",
    "- Ejemplo:\n",
    "\n",
    "    if score >= 90.0:\n",
    "        grade = 'A'\n",
    "    elif score >= 80.0:\n",
    "        grade = 'B'\n",
    "    elif score >= 70.0:\n",
    "        grade = 'C'\n",
    "    elif score >= 60.0:\n",
    "        grade = 'D'\n",
    "    else:\n",
    "        grade = 'F'\n",
    "        "
   ]
  },
  {
   "cell_type": "code",
   "execution_count": 3,
   "metadata": {},
   "outputs": [
    {
     "name": "stdout",
     "output_type": "stream",
     "text": [
      "La calificación es F\n"
     ]
    }
   ],
   "source": [
    "score = 38.5\n",
    "\n",
    "if (score >= 90.0):\n",
    "  grade = 'A'\n",
    "elif (score >= 80.0):\n",
    "  grade = 'B'\n",
    "elif (score >= 70.0):\n",
    "  grade = 'C'\n",
    "elif (score >= 60.0):\n",
    "  grade = 'D'\n",
    "else:\n",
    "  grade = 'F'\n",
    "\n",
    "print(\"La calificación es\",grade)"
   ]
  },
  {
   "cell_type": "markdown",
   "metadata": {},
   "source": [
    "## 2.4 Operadores lógicos o booleanos\n",
    "\n",
    "- not --> logical negation\n",
    "- and --> logical conjuction\n",
    "- or --> logical disjunction"
   ]
  },
  {
   "cell_type": "markdown",
   "metadata": {},
   "source": [
    "### Ejercicio 1 \n",
    "\n",
    "Dado un año, determinar si es bisiesto. Un año es bisiesto si es divisible entre 4 pero no es divisible entre 100, o si es divisible entre 400."
   ]
  },
  {
   "cell_type": "code",
   "execution_count": 4,
   "metadata": {},
   "outputs": [
    {
     "name": "stdout",
     "output_type": "stream",
     "text": [
      "Introduce un año: 2022\n",
      "El año 2022 no es bisiesto\n"
     ]
    }
   ],
   "source": [
    "year = int(input(\"Introduce un año: \"))\n",
    "leap = False\n",
    "\n",
    "if (year % 4 == 0 and year % 100 != 0 or year % 400 == 0):\n",
    "    leap = True\n",
    "\n",
    "print(\"El año %d\" % year, \"no\" if(not leap) else \"\\b\", \"es bisiesto\")"
   ]
  },
  {
   "cell_type": "markdown",
   "metadata": {},
   "source": [
    "## 2. 5 Números aleatorios\n",
    "\n",
    "La función randint(a,b), se utiliza para generar un número entero aleatorio entre a y b.\n",
    "\n",
    "Esta función se encuentra en la librería random, por lo que es necesario importarla al inicio del programa con:\n",
    "\n",
    "    import random\n",
    "\n",
    "Y al utilizarla en el programa se deberá emplear la siguiente sintaxis: \n",
    "\n",
    "    random.randint(a,b)\n",
    "    \n",
    "La función random(), genera un número aletorio de tipo flotante entre 0 y 1.0, excluyendo el 1.0, y al utilizarla en el programa se deberá emplear la siguiente sintaxis: \n",
    "\n",
    "    random.random()\n",
    "\n"
   ]
  },
  {
   "cell_type": "markdown",
   "metadata": {},
   "source": [
    "### Ejercicio 2\n",
    "\n",
    "Suponer que quieren desarrollar un programa para jugar a la lotería, el programa genera aleatoriamente un número de 2 dígitos, pide al usuario ingresar un número de 2 dígitos y determina si el usuario es ganador de acuerdo a las siguientes reglas:\n",
    "\n",
    "- Si el usuario coincide exactamente en el orden de los números gana $10,000.00$\n",
    "\n",
    "- Si todos los dígitos del usuario coinciden con los números de la lotería, gana $3,000$\n",
    "\n",
    "- Si un dígito del usuario coincide con un número de la lotería el premio es de $1,000$\n"
   ]
  },
  {
   "cell_type": "code",
   "execution_count": 5,
   "metadata": {},
   "outputs": [
    {
     "name": "stdout",
     "output_type": "stream",
     "text": [
      "Ingresa un número de dos dígitos: 38\n",
      "¡No ganas nada!\n",
      "El digito era 71\n"
     ]
    }
   ],
   "source": [
    "from random import randint\n",
    "\n",
    "# Método 1\n",
    "digit = randint(10,99)\n",
    "entry = int(input(\"Ingresa un número de dos dígitos: \"))\n",
    "\n",
    "if (entry == digit):\n",
    "    print(\"¡Ganas $10.000!\")\n",
    "elif ((digit//10 == entry//10 and digit%10 == entry%10) or (digit//10 == entry%10 and digit%10 == entry//10)):\n",
    "    print(\"¡Ganas $3000!\")\n",
    "elif (digit//10 == entry//10 or digit//10 == entry%10 or digit%10 == entry//10 or digit%10 == entry%10):\n",
    "    print(\"¡Ganas $1000!\")\n",
    "else:\n",
    "    print(\"¡No ganas nada!\")\n",
    "print(\"El digito era\",digit)\n",
    "    \n",
    "    \n",
    "# Método 2\n",
    "# digit = str(randint(10,99))\n",
    "# entry = input(\"Ingresa un número de dos dígitos: \")\n",
    "\n",
    "# if (entry == digit):\n",
    "#     print(\"¡Ganas $10.000!\")\n",
    "# else:\n",
    "#     digit, entry, ds = list(digit), list(entry), digit\n",
    "#     digit.sort(); entry.sort()\n",
    "#     digits, single = True, False\n",
    "    \n",
    "#     for i, j in zip(digit, entry):\n",
    "#         if (i != j):\n",
    "#             digits = False\n",
    "#         else:\n",
    "#             single = True\n",
    "    \n",
    "#     if (digits):\n",
    "#         print(\"¡Ganas $3000!\")\n",
    "#     elif (single):\n",
    "#         print(\"¡Ganas $1000!\")\n",
    "#     else:\n",
    "#         print(\"¡No ganas nada!\")\n",
    "# print(\"El digito era\",ds)"
   ]
  }
 ],
 "metadata": {
  "kernelspec": {
   "display_name": "Python 3 (ipykernel)",
   "language": "python",
   "name": "python3"
  },
  "language_info": {
   "codemirror_mode": {
    "name": "ipython",
    "version": 3
   },
   "file_extension": ".py",
   "mimetype": "text/x-python",
   "name": "python",
   "nbconvert_exporter": "python",
   "pygments_lexer": "ipython3",
   "version": "3.9.12"
  }
 },
 "nbformat": 4,
 "nbformat_minor": 2
}
