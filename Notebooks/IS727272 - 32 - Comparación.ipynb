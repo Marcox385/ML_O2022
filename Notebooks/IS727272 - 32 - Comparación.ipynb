{
 "cells": [
  {
   "cell_type": "markdown",
   "id": "99ab123e",
   "metadata": {},
   "source": [
    "### IS727272 - Cordero Hernández, Marco Ricardo"
   ]
  },
  {
   "cell_type": "markdown",
   "id": "3c43c7bb",
   "metadata": {},
   "source": [
    "# DT_2 Bike Sharing hourly, comparing Regression algorithms"
   ]
  },
  {
   "cell_type": "markdown",
   "id": "c5659bab",
   "metadata": {},
   "source": [
    "Instrucciones:  \n",
    "1. Construir el algoritmo de GD de Regresión lineal\n",
    "2. Regresión lineal con la librería\n",
    "3. Regresión DT\n",
    "4. Comparar resultados"
   ]
  },
  {
   "cell_type": "markdown",
   "id": "66741c54",
   "metadata": {},
   "source": [
    "## 1. Regresión lineal con GD  \n",
    "## 1.1 Lectura del dataset, normalizar datos, agregar columna de 1's y dividir los datos en entrenamiento y prueba"
   ]
  },
  {
   "cell_type": "code",
   "execution_count": 1,
   "id": "c42031fe",
   "metadata": {},
   "outputs": [
    {
     "data": {
      "text/html": [
       "<div>\n",
       "<style scoped>\n",
       "    .dataframe tbody tr th:only-of-type {\n",
       "        vertical-align: middle;\n",
       "    }\n",
       "\n",
       "    .dataframe tbody tr th {\n",
       "        vertical-align: top;\n",
       "    }\n",
       "\n",
       "    .dataframe thead th {\n",
       "        text-align: right;\n",
       "    }\n",
       "</style>\n",
       "<table border=\"1\" class=\"dataframe\">\n",
       "  <thead>\n",
       "    <tr style=\"text-align: right;\">\n",
       "      <th></th>\n",
       "      <th>instant</th>\n",
       "      <th>dteday</th>\n",
       "      <th>season</th>\n",
       "      <th>yr</th>\n",
       "      <th>mnth</th>\n",
       "      <th>hr</th>\n",
       "      <th>holiday</th>\n",
       "      <th>weekday</th>\n",
       "      <th>workingday</th>\n",
       "      <th>weathersit</th>\n",
       "      <th>temp</th>\n",
       "      <th>atemp</th>\n",
       "      <th>hum</th>\n",
       "      <th>windspeed</th>\n",
       "      <th>casual</th>\n",
       "      <th>registered</th>\n",
       "      <th>cnt</th>\n",
       "    </tr>\n",
       "  </thead>\n",
       "  <tbody>\n",
       "    <tr>\n",
       "      <th>0</th>\n",
       "      <td>1</td>\n",
       "      <td>2011-01-01</td>\n",
       "      <td>1</td>\n",
       "      <td>0</td>\n",
       "      <td>1</td>\n",
       "      <td>0</td>\n",
       "      <td>0</td>\n",
       "      <td>6</td>\n",
       "      <td>0</td>\n",
       "      <td>1</td>\n",
       "      <td>0.24</td>\n",
       "      <td>0.2879</td>\n",
       "      <td>0.81</td>\n",
       "      <td>0.0</td>\n",
       "      <td>3</td>\n",
       "      <td>13</td>\n",
       "      <td>16</td>\n",
       "    </tr>\n",
       "    <tr>\n",
       "      <th>1</th>\n",
       "      <td>2</td>\n",
       "      <td>2011-01-01</td>\n",
       "      <td>1</td>\n",
       "      <td>0</td>\n",
       "      <td>1</td>\n",
       "      <td>1</td>\n",
       "      <td>0</td>\n",
       "      <td>6</td>\n",
       "      <td>0</td>\n",
       "      <td>1</td>\n",
       "      <td>0.22</td>\n",
       "      <td>0.2727</td>\n",
       "      <td>0.80</td>\n",
       "      <td>0.0</td>\n",
       "      <td>8</td>\n",
       "      <td>32</td>\n",
       "      <td>40</td>\n",
       "    </tr>\n",
       "    <tr>\n",
       "      <th>2</th>\n",
       "      <td>3</td>\n",
       "      <td>2011-01-01</td>\n",
       "      <td>1</td>\n",
       "      <td>0</td>\n",
       "      <td>1</td>\n",
       "      <td>2</td>\n",
       "      <td>0</td>\n",
       "      <td>6</td>\n",
       "      <td>0</td>\n",
       "      <td>1</td>\n",
       "      <td>0.22</td>\n",
       "      <td>0.2727</td>\n",
       "      <td>0.80</td>\n",
       "      <td>0.0</td>\n",
       "      <td>5</td>\n",
       "      <td>27</td>\n",
       "      <td>32</td>\n",
       "    </tr>\n",
       "    <tr>\n",
       "      <th>3</th>\n",
       "      <td>4</td>\n",
       "      <td>2011-01-01</td>\n",
       "      <td>1</td>\n",
       "      <td>0</td>\n",
       "      <td>1</td>\n",
       "      <td>3</td>\n",
       "      <td>0</td>\n",
       "      <td>6</td>\n",
       "      <td>0</td>\n",
       "      <td>1</td>\n",
       "      <td>0.24</td>\n",
       "      <td>0.2879</td>\n",
       "      <td>0.75</td>\n",
       "      <td>0.0</td>\n",
       "      <td>3</td>\n",
       "      <td>10</td>\n",
       "      <td>13</td>\n",
       "    </tr>\n",
       "    <tr>\n",
       "      <th>4</th>\n",
       "      <td>5</td>\n",
       "      <td>2011-01-01</td>\n",
       "      <td>1</td>\n",
       "      <td>0</td>\n",
       "      <td>1</td>\n",
       "      <td>4</td>\n",
       "      <td>0</td>\n",
       "      <td>6</td>\n",
       "      <td>0</td>\n",
       "      <td>1</td>\n",
       "      <td>0.24</td>\n",
       "      <td>0.2879</td>\n",
       "      <td>0.75</td>\n",
       "      <td>0.0</td>\n",
       "      <td>0</td>\n",
       "      <td>1</td>\n",
       "      <td>1</td>\n",
       "    </tr>\n",
       "  </tbody>\n",
       "</table>\n",
       "</div>"
      ],
      "text/plain": [
       "   instant      dteday  season  yr  mnth  hr  holiday  weekday  workingday  \\\n",
       "0        1  2011-01-01       1   0     1   0        0        6           0   \n",
       "1        2  2011-01-01       1   0     1   1        0        6           0   \n",
       "2        3  2011-01-01       1   0     1   2        0        6           0   \n",
       "3        4  2011-01-01       1   0     1   3        0        6           0   \n",
       "4        5  2011-01-01       1   0     1   4        0        6           0   \n",
       "\n",
       "   weathersit  temp   atemp   hum  windspeed  casual  registered  cnt  \n",
       "0           1  0.24  0.2879  0.81        0.0       3          13   16  \n",
       "1           1  0.22  0.2727  0.80        0.0       8          32   40  \n",
       "2           1  0.22  0.2727  0.80        0.0       5          27   32  \n",
       "3           1  0.24  0.2879  0.75        0.0       3          10   13  \n",
       "4           1  0.24  0.2879  0.75        0.0       0           1    1  "
      ]
     },
     "execution_count": 1,
     "metadata": {},
     "output_type": "execute_result"
    }
   ],
   "source": [
    "# Leer el dataset\n",
    "import pandas as pd\n",
    "import numpy as np\n",
    "\n",
    "dataset = pd.read_csv('./Datasets/hourly-1.csv')\n",
    "dataset.head()"
   ]
  },
  {
   "cell_type": "code",
   "execution_count": 2,
   "id": "a78e1693",
   "metadata": {},
   "outputs": [
    {
     "name": "stdout",
     "output_type": "stream",
     "text": [
      "<class 'pandas.core.frame.DataFrame'>\n",
      "RangeIndex: 17379 entries, 0 to 17378\n",
      "Data columns (total 17 columns):\n",
      " #   Column      Non-Null Count  Dtype  \n",
      "---  ------      --------------  -----  \n",
      " 0   instant     17379 non-null  int64  \n",
      " 1   dteday      17379 non-null  object \n",
      " 2   season      17379 non-null  int64  \n",
      " 3   yr          17379 non-null  int64  \n",
      " 4   mnth        17379 non-null  int64  \n",
      " 5   hr          17379 non-null  int64  \n",
      " 6   holiday     17379 non-null  int64  \n",
      " 7   weekday     17379 non-null  int64  \n",
      " 8   workingday  17379 non-null  int64  \n",
      " 9   weathersit  17379 non-null  int64  \n",
      " 10  temp        17379 non-null  float64\n",
      " 11  atemp       17379 non-null  float64\n",
      " 12  hum         17379 non-null  float64\n",
      " 13  windspeed   17379 non-null  float64\n",
      " 14  casual      17379 non-null  int64  \n",
      " 15  registered  17379 non-null  int64  \n",
      " 16  cnt         17379 non-null  int64  \n",
      "dtypes: float64(4), int64(12), object(1)\n",
      "memory usage: 2.3+ MB\n"
     ]
    }
   ],
   "source": [
    "dataset.info()"
   ]
  },
  {
   "cell_type": "code",
   "execution_count": 3,
   "id": "7372f055",
   "metadata": {},
   "outputs": [
    {
     "name": "stdout",
     "output_type": "stream",
     "text": [
      "(17379, 14) (17379, 1)\n"
     ]
    }
   ],
   "source": [
    "# Convertir dataset a matrices numpy X y Y\n",
    "data = np.array(dataset)\n",
    "X = data[:, 2:-1]\n",
    "y = data[:, -1]\n",
    "y = y.reshape(-1, 1)\n",
    "\n",
    "print(X.shape, y.shape)"
   ]
  },
  {
   "cell_type": "code",
   "execution_count": 4,
   "id": "ef3dd9ee",
   "metadata": {},
   "outputs": [
    {
     "name": "stdout",
     "output_type": "stream",
     "text": [
      "[[0.06776017 0.         0.06776017 ... 0.         0.2032805  0.88088217]\n",
      " [0.0297645  0.         0.0297645  ... 0.         0.23811604 0.95246416]\n",
      " [0.03540488 0.         0.03540488 ... 0.         0.1770244  0.95593174]\n",
      " ...\n",
      " [0.01152511 0.01152511 0.13830135 ... 0.00189242 0.08067579 0.95658433]\n",
      " [0.01794181 0.01794181 0.21530168 ... 0.00240958 0.23324348 0.86120671]\n",
      " [0.02136098 0.02136098 0.25633171 ... 0.00286878 0.25633171 0.7903561 ]]\n"
     ]
    }
   ],
   "source": [
    "# Normalizar X\n",
    "from sklearn.preprocessing import normalize\n",
    "\n",
    "X_norm = normalize(X)\n",
    "print(X_norm)"
   ]
  },
  {
   "cell_type": "code",
   "execution_count": 5,
   "id": "8f9650d9",
   "metadata": {},
   "outputs": [
    {
     "name": "stdout",
     "output_type": "stream",
     "text": [
      "(17379, 15)\n"
     ]
    }
   ],
   "source": [
    "# Add ones\n",
    "X1 = np.concatenate((np.ones((len(X_norm), 1)), X_norm), axis = 1)\n",
    "print(X1.shape)"
   ]
  },
  {
   "cell_type": "code",
   "execution_count": 6,
   "id": "9ee62ec4",
   "metadata": {},
   "outputs": [
    {
     "name": "stdout",
     "output_type": "stream",
     "text": [
      "(12165, 15) (12165, 1)\n",
      "(5214, 15) (5214, 1)\n"
     ]
    }
   ],
   "source": [
    "# Split dataset\n",
    "from sklearn.model_selection import train_test_split\n",
    "\n",
    "X_train, X_test, y_train, y_test = train_test_split(X1, y, test_size = 0.3, random_state = 0)\n",
    "print(X_train.shape, y_train.shape)\n",
    "print(X_test.shape, y_test.shape)"
   ]
  },
  {
   "cell_type": "markdown",
   "id": "99cba169",
   "metadata": {},
   "source": [
    "### 1.2 Gradient Descente Algorithm"
   ]
  },
  {
   "cell_type": "code",
   "execution_count": 7,
   "id": "0924bbac",
   "metadata": {},
   "outputs": [
    {
     "name": "stdout",
     "output_type": "stream",
     "text": [
      "[[0.25716103 0.38314758 0.5949711  0.95047878 0.29415943 0.45023515\n",
      "  0.41479247 0.45503689 0.55203315 0.48371094 0.01708485 0.61966525\n",
      "  0.59366816 0.47137187 0.06625693]]\n"
     ]
    }
   ],
   "source": [
    "import matplotlib.pyplot as plt\n",
    "\n",
    "# Initialize W\n",
    "m, n = np.shape(X_train)\n",
    "initw = np.random.rand(1, n)\n",
    "print(initw)\n",
    "\n",
    "# Función de gradiente\n",
    "def gradient(X, Y, W):\n",
    "    residual = Y - np.dot(X, W.T) # Salida - Predicción\n",
    "    grad = -2 * np.dot(X.T, residual)\n",
    "    return grad\n",
    "\n",
    "# Función de costo\n",
    "def mse(Y, Yt):\n",
    "    m = len(Y)\n",
    "    residual = Y- Yt\n",
    "    cost = (1 / m) * (np.dot(residual.T, residual))\n",
    "    return cost\n",
    "\n",
    "# Gradiente descendete\n",
    "def GD(X, Y, W, alpha, iterations):\n",
    "    it = 0\n",
    "    J = []\n",
    "    \n",
    "    while it < iterations:\n",
    "        grad = gradient(X, Y, W)\n",
    "        W = W - np.dot(alpha, grad.T)\n",
    "        Yt = np.dot(X, W.T)\n",
    "        costo = mse(Y, Yt)\n",
    "        J.append(costo)\n",
    "        \n",
    "        it += 1\n",
    "    \n",
    "    return W, it, J"
   ]
  },
  {
   "cell_type": "code",
   "execution_count": 8,
   "id": "6dae8bf8",
   "metadata": {},
   "outputs": [
    {
     "name": "stdout",
     "output_type": "stream",
     "text": [
      "W: [[141.50023409473076 -80.60565638364211 -17.79124082087134\n",
      "  -190.9198241760711 -232.98246890242385 -1.5164596567369228\n",
      "  -115.59882671014525 -24.848713750963192 -61.786082406680904\n",
      "  -16.727742511009176 -16.796904041307016 -28.247147111378393\n",
      "  -6.578589987880712 129.53762480315328 111.17800612089162]]\n"
     ]
    },
    {
     "data": {
      "image/png": "[encoded data removed]",
      "text/plain": [
       "<Figure size 432x288 with 1 Axes>"
      ]
     },
     "metadata": {
      "needs_background": "light"
     },
     "output_type": "display_data"
    }
   ],
   "source": [
    "# Testing de GD\n",
    "w, iterations, J = GD(X_train, y_train, initw, 0.00001, 200)\n",
    "J = np.array(J).reshape(-1, 1)\n",
    "print('W:', w)\n",
    "plt.plot(J)\n",
    "\n",
    "yt = np.dot(X_train, w.T) # Predicción\n",
    "yt_Te = np.dot(X_test, w.T)\n",
    "costoTR = mse(y_train, yt)\n",
    "costoTE = mse(y_test, yt_Te)"
   ]
  },
  {
   "cell_type": "code",
   "execution_count": 9,
   "id": "4970b02f",
   "metadata": {},
   "outputs": [
    {
     "name": "stdout",
     "output_type": "stream",
     "text": [
      "MSE final Training: [[20473.46116276295]]\n",
      "MSE final Testing: [[20931.99205904996]]\n",
      "R2 final Training: 0.37655806156703064\n",
      "R2 final Testing: 0.36645849658202834\n"
     ]
    }
   ],
   "source": [
    "from sklearn.metrics import r2_score\n",
    "\n",
    "r2_tr = r2_score(y_train, yt)\n",
    "r2_te = r2_score(y_test, yt_Te)\n",
    "\n",
    "# Crear listas para guardar valores de R2 de cada algoritmo\n",
    "R2_train = []\n",
    "R2_test = []\n",
    "\n",
    "R2_train.append(r2_tr)\n",
    "R2_test.append(r2_te)\n",
    "\n",
    "print('MSE final Training:', costoTR)\n",
    "print('MSE final Testing:', costoTE)\n",
    "print('R2 final Training:', r2_tr)\n",
    "print('R2 final Testing:', r2_te)"
   ]
  },
  {
   "cell_type": "markdown",
   "id": "92a1fdef",
   "metadata": {},
   "source": [
    "## 2. Regresión con librería"
   ]
  },
  {
   "cell_type": "code",
   "execution_count": 10,
   "id": "eab51efe",
   "metadata": {},
   "outputs": [
    {
     "name": "stdout",
     "output_type": "stream",
     "text": [
      "Error (R2) Train: 0.5378835112508444\n",
      "Error (R2) Test: 0.5307625368622304\n"
     ]
    }
   ],
   "source": [
    "from sklearn.linear_model import LinearRegression\n",
    "X_train, X_test, y_train, y_test = train_test_split(X_norm, y, test_size = 0.3, random_state = 0)\n",
    "reg = LinearRegression().fit(X_train, y_train)\n",
    "\n",
    "costo1 = reg.score(X_train, y_train)\n",
    "costo2 = reg.score(X_test, y_test)\n",
    "\n",
    "R2_train.append(costo1)\n",
    "R2_test.append(costo2)\n",
    "\n",
    "print('Error (R2) Train:', costo1)\n",
    "print('Error (R2) Test:', costo2)"
   ]
  },
  {
   "cell_type": "markdown",
   "id": "127dbf20",
   "metadata": {},
   "source": [
    "## 3. Decision Tree Regression"
   ]
  },
  {
   "cell_type": "code",
   "execution_count": 11,
   "id": "98f39d00",
   "metadata": {},
   "outputs": [],
   "source": [
    "from sklearn.tree import DecisionTreeRegressor\n",
    "from sklearn import tree\n",
    "\n",
    "# dtreg = DecisionTreeRegressor(max_depth = 5)\n",
    "dtreg = DecisionTreeRegressor()\n",
    "DT_reg = dtreg.fit(X_train, y_train)\n",
    "\n",
    "# fig = plt.figure(figsize = (25, 20))\n",
    "# tree.plot_tree(DT_reg)\n",
    "# plt.show"
   ]
  },
  {
   "cell_type": "code",
   "execution_count": 12,
   "id": "bbede45d",
   "metadata": {},
   "outputs": [
    {
     "name": "stdout",
     "output_type": "stream",
     "text": [
      "Error (R2) Train: 1.0\n",
      "Error (R2) Test: 0.9930127782382235\n"
     ]
    }
   ],
   "source": [
    "costo1dt = DT_reg.score(X_train, y_train)\n",
    "costo2dt = DT_reg.score(X_test, y_test)\n",
    "\n",
    "print('Error (R2) Train:', costo1dt)\n",
    "print('Error (R2) Test:', costo2dt)\n",
    "\n",
    "R2_train.append(costo1dt)\n",
    "R2_test.append(costo2dt)"
   ]
  },
  {
   "cell_type": "markdown",
   "id": "bc088724",
   "metadata": {},
   "source": [
    "## 4. Comparing R2 Score"
   ]
  },
  {
   "cell_type": "code",
   "execution_count": 13,
   "id": "e47aa274",
   "metadata": {},
   "outputs": [
    {
     "data": {
      "image/png": "[encoded data removed]",
      "text/plain": [
       "<Figure size 432x288 with 1 Axes>"
      ]
     },
     "metadata": {
      "needs_background": "light"
     },
     "output_type": "display_data"
    }
   ],
   "source": [
    "XX = ['GD', 'LinearReg', 'DT']\n",
    "X_axis = np.arange(len(XX))\n",
    "plt.bar(X_axis - 0.2, R2_train, 0.4, label = 'Train')\n",
    "plt.bar(X_axis + 0.2, R2_train, 0.4, label = 'Test')\n",
    "\n",
    "plt.xticks(X_axis, XX)\n",
    "plt.xlabel('Algoritmos')\n",
    "plt.ylabel('R2')\n",
    "plt.title('R2_score')\n",
    "plt.legend()\n",
    "plt.show()"
   ]
  }
 ],
 "metadata": {
  "kernelspec": {
   "display_name": "Python 3 (ipykernel)",
   "language": "python",
   "name": "python3"
  },
  "language_info": {
   "codemirror_mode": {
    "name": "ipython",
    "version": 3
   },
   "file_extension": ".py",
   "mimetype": "text/x-python",
   "name": "python",
   "nbconvert_exporter": "python",
   "pygments_lexer": "ipython3",
   "version": "3.9.12"
  }
 },
 "nbformat": 4,
 "nbformat_minor": 5
}
