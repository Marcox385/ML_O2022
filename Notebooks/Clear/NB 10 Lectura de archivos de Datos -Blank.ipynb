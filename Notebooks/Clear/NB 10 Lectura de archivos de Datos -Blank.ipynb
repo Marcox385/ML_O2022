{
 "cells": [
  {
   "cell_type": "markdown",
   "metadata": {},
   "source": [
    "# 10. Lectura de archivos de Datos\n",
    "\n",
    "En Python es posible leer los archivos más comunes para guardar datos. Este documento explica algunos ejemplos de código básico para lectura de datos.\n",
    "\n",
    "## 10.1 Lectura de archivos de texto simples\n",
    "\n",
    "Del siguiente link: https://archive.ics.uci.edu/ml/datasets/iris descarga la base de datos llamada \"iris.data\" y guardala en el mismo folder donde se encuentre este notebook de Jupyter.\n",
    "\n",
    "Para leer archivos de texto utilizamos la instrucción $open()$:"
   ]
  },
  {
   "cell_type": "code",
   "execution_count": null,
   "metadata": {},
   "outputs": [],
   "source": []
  },
  {
   "cell_type": "markdown",
   "metadata": {},
   "source": [
    "## 10.2 Lectura de archivos tipo CSV\n",
    "\n",
    "Cuando el archivo tiene un formato en sus datos y estos se encuentran separadaos por algún caracter en específico se utiliza la librería Pandas."
   ]
  },
  {
   "cell_type": "code",
   "execution_count": null,
   "metadata": {},
   "outputs": [],
   "source": []
  },
  {
   "cell_type": "code",
   "execution_count": null,
   "metadata": {},
   "outputs": [],
   "source": []
  },
  {
   "cell_type": "markdown",
   "metadata": {},
   "source": [
    "## 10.3 Lectura de archivos de Excel\n",
    "\n",
    "Los archivos de Excel requieren más parámetros para ser leidos, por ejemplo la hoja en que se encuentran los datos o si tiene encabezados.\n"
   ]
  },
  {
   "cell_type": "code",
   "execution_count": null,
   "metadata": {},
   "outputs": [],
   "source": [
    "#Without header\n"
   ]
  },
  {
   "cell_type": "code",
   "execution_count": null,
   "metadata": {},
   "outputs": [],
   "source": [
    "#With header\n"
   ]
  },
  {
   "cell_type": "code",
   "execution_count": null,
   "metadata": {},
   "outputs": [],
   "source": []
  }
 ],
 "metadata": {
  "kernelspec": {
   "display_name": "Python 3",
   "language": "python",
   "name": "python3"
  },
  "language_info": {
   "codemirror_mode": {
    "name": "ipython",
    "version": 3
   },
   "file_extension": ".py",
   "mimetype": "text/x-python",
   "name": "python",
   "nbconvert_exporter": "python",
   "pygments_lexer": "ipython3",
   "version": "3.6.5"
  }
 },
 "nbformat": 4,
 "nbformat_minor": 2
}
