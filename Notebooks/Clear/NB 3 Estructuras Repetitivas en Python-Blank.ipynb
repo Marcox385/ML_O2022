{
 "cells": [
  {
   "cell_type": "markdown",
   "metadata": {},
   "source": [
    "# 3. Estructuras Repetitivas \n",
    "\n",
    "- Un bucle (loop) puede ser usado para decirle a un programa que se ejecute repetidamente.\n",
    "\n",
    "- Existen dos instrucciones en Python para las estructuras repetitivas: While y For.\n",
    "\n",
    "## 3.1 Bucle WHILE \n",
    "\n",
    "Un bucle While ejecuta un conjunto de instrucciones repetidamente mientras su condición sea verdadera.\n",
    "\n",
    "- Sintaxis:\n",
    "\n",
    "        while loop-continuation-condition:\n",
    "            Instrucciones\n",
    "\n",
    "- Ejemplo:\n",
    "        \n",
    "        count = 0\n",
    "        while count < 10:\n",
    "            print(\"Programar es divertido!\")\n",
    "            count = count + 1"
   ]
  },
  {
   "cell_type": "code",
   "execution_count": null,
   "metadata": {},
   "outputs": [],
   "source": [
    "#Bucle While\n"
   ]
  },
  {
   "cell_type": "markdown",
   "metadata": {},
   "source": [
    "### Ejercicio 1: Adivinando Números\n",
    "\n",
    "- Escribir un programa que genere un entero entre 0 y 100. El programa pide al usuario que ingrese números continuamente hasta que el número coincida con el número generado aleatoriamente. Para cada entrada del usuario, el programa reportará si es demasiado alto o demasiado pequeño, de tal forma que el usuario puede escoger la siguiente entrada inteligentemente.\n"
   ]
  },
  {
   "cell_type": "code",
   "execution_count": null,
   "metadata": {},
   "outputs": [],
   "source": []
  },
  {
   "cell_type": "markdown",
   "metadata": {},
   "source": [
    "## 3.2 Bucle FOR\n",
    "\n",
    "- El bucle FOR hace iteraciones a través de cada valor en una secuencia.\n",
    "\n",
    "- Sintaxis:\n",
    "\n",
    "        i = initialValue\n",
    "        while i < endValue:\n",
    "            # Instrucciones\n",
    "            i += 1\n",
    "\n",
    "        for i in range(initialValue, endValue):\n",
    "            # Instrucciones\n",
    "        \n",
    "        for var in sequence:\n",
    "            #Instrucciones\n",
    "            \n",
    "- La función $range(a, b)$ regresa la secuencia de enteros de a hasta b-.\n",
    " \n",
    "- Ejemplo:\n",
    "\n",
    "        for v in range(4, 8):\n",
    "            print(v)\n",
    "\n",
    "- La función $range(a, b, k)$ regresa una secuencia de números que inicia en $a$, incrementa en $k$, y el valor límite es $b$.\n",
    "\n",
    "- Ejemplo:\n",
    "        \n",
    "        for v in range(3, 9, 2):\n",
    "            print(v)\n"
   ]
  },
  {
   "cell_type": "code",
   "execution_count": null,
   "metadata": {},
   "outputs": [],
   "source": []
  },
  {
   "cell_type": "markdown",
   "metadata": {},
   "source": [
    "### Ejercicio 2\n",
    "\n",
    "Escribir un programa que imprima todos los números Armstrong entre 1 y 500. Si la suma de los cubos de cada dígito del número es igual al número en sí mismo, entonces el número se llama número de Armstrong.\n",
    "\n",
    "Por ejemplo, \n",
    "\n",
    "$153 = ( 1 * 1 * 1 ) + ( 5 * 5 * 5 ) + ( 3 * 3 * 3 )$\n",
    "\n"
   ]
  },
  {
   "cell_type": "code",
   "execution_count": null,
   "metadata": {},
   "outputs": [],
   "source": []
  },
  {
   "cell_type": "markdown",
   "metadata": {},
   "source": [
    "## 3.3 Bucles anidados\n",
    "\n",
    "- Consisten de un bucle exterior y uno o más bucles interiores. Cada vez que el bucle exterior se repite, el bucle interior se reinicia y comienza como si fuera nuevo.\n",
    "\n",
    "\n",
    "### Ejercicio 3\n",
    "\n",
    "Escribir un programa que imprima la tabla de multiplicaciones del 1 al 10.\n"
   ]
  },
  {
   "cell_type": "code",
   "execution_count": null,
   "metadata": {},
   "outputs": [],
   "source": []
  },
  {
   "cell_type": "code",
   "execution_count": null,
   "metadata": {},
   "outputs": [],
   "source": []
  }
 ],
 "metadata": {
  "kernelspec": {
   "display_name": "Python 3",
   "language": "python",
   "name": "python3"
  },
  "language_info": {
   "codemirror_mode": {
    "name": "ipython",
    "version": 3
   },
   "file_extension": ".py",
   "mimetype": "text/x-python",
   "name": "python",
   "nbconvert_exporter": "python",
   "pygments_lexer": "ipython3",
   "version": "3.6.5"
  }
 },
 "nbformat": 4,
 "nbformat_minor": 2
}
