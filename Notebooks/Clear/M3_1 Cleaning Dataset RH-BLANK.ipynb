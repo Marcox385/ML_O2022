{
 "cells": [
  {
   "cell_type": "markdown",
   "id": "9cb49a80",
   "metadata": {},
   "source": [
    "# M3_1 Limpieza de Datasets, Recursos Humanos"
   ]
  },
  {
   "cell_type": "markdown",
   "id": "5df8ac5f",
   "metadata": {},
   "source": [
    "El dataset de Recursos Humanos tiene diferentes características de los empleados de un sector de un país. Los dueños de las empresas quieren saber de acuerdo a las características de los empleados si están se quedarán en el empleo o se irán. La salida a evaluar será 'Attrition' (Deserción), que contiene dos valores 'Yes' (para los empleados que se van), y 'No' (para los empleados que se quedan)."
   ]
  },
  {
   "cell_type": "markdown",
   "id": "bb56b829",
   "metadata": {},
   "source": [
    "## 1. Leer dataset y desplegar la información"
   ]
  },
  {
   "cell_type": "code",
   "execution_count": null,
   "id": "48a8b552",
   "metadata": {},
   "outputs": [],
   "source": [
    "#Importar las librerias a utilizar, pandas, numpy, seaborn y matplotlib\n",
    "import pandas as pd\n",
    "import numpy as np\n",
    "import seaborn as sns\n",
    "import matplotlib.pyplot as plt"
   ]
  },
  {
   "cell_type": "code",
   "execution_count": null,
   "id": "3f202153",
   "metadata": {},
   "outputs": [],
   "source": [
    "#Leer el dataset, asegurarse que el archivo esté en la misma carpeta que el Notebook\n"
   ]
  },
  {
   "cell_type": "code",
   "execution_count": null,
   "id": "3828f1f0",
   "metadata": {},
   "outputs": [],
   "source": [
    "#Desplegar el dataset y observar sus características\n"
   ]
  },
  {
   "cell_type": "code",
   "execution_count": null,
   "id": "fa7e852c",
   "metadata": {},
   "outputs": [],
   "source": [
    "#Desplegar la información del dataset\n"
   ]
  },
  {
   "cell_type": "code",
   "execution_count": null,
   "id": "1416d8e7",
   "metadata": {},
   "outputs": [],
   "source": [
    "df_employee.describe()"
   ]
  },
  {
   "cell_type": "markdown",
   "id": "6dc6362a",
   "metadata": {},
   "source": [
    "## 2. Visualización del Dataset"
   ]
  },
  {
   "cell_type": "markdown",
   "id": "f8b43f78",
   "metadata": {},
   "source": [
    "### 2.1 Modificación de valores binarios"
   ]
  },
  {
   "cell_type": "code",
   "execution_count": null,
   "id": "24e8033e",
   "metadata": {},
   "outputs": [],
   "source": [
    "#Desplegar las columnas con valores binarios\n"
   ]
  },
  {
   "cell_type": "code",
   "execution_count": null,
   "id": "cffc4a29",
   "metadata": {},
   "outputs": [],
   "source": [
    "#Reemplazar las columnas 'Attrition', 'Over18', y 'Overtime' por enteros para poder visualizar los datos\n"
   ]
  },
  {
   "cell_type": "code",
   "execution_count": null,
   "id": "2bf7470e",
   "metadata": {},
   "outputs": [],
   "source": [
    "#Revisar si faltan datos\n"
   ]
  },
  {
   "cell_type": "code",
   "execution_count": null,
   "id": "aba722e6",
   "metadata": {},
   "outputs": [],
   "source": [
    "#Revisar los histogramas de cada columna\n",
    "#En cada gráfica visualizar aquéllas columnas donde se repita el mismo valor en todos los datos\n"
   ]
  },
  {
   "cell_type": "code",
   "execution_count": null,
   "id": "572e5e96",
   "metadata": {},
   "outputs": [],
   "source": [
    "#En este caso en las columnas 'EmployeeCount', 'Over18','StandardHours', se repite el mismo valor en todos los registros\n",
    "#Y la columna 'EmployeeNumber', es diferente para cada empleado, por lo que también es necesario eliminar\n"
   ]
  },
  {
   "cell_type": "code",
   "execution_count": null,
   "id": "6fa8a3b4",
   "metadata": {},
   "outputs": [],
   "source": [
    "df_employee"
   ]
  },
  {
   "cell_type": "markdown",
   "id": "04b4465c",
   "metadata": {},
   "source": [
    "## 3. Análisis de las características (features) que más influyen en la salida "
   ]
  },
  {
   "cell_type": "code",
   "execution_count": null,
   "id": "3be5ad5f",
   "metadata": {},
   "outputs": [],
   "source": [
    "#Primero vamos a contabilizar cuántos empleados se van y cuántos se quedan\n",
    "\n"
   ]
  },
  {
   "cell_type": "code",
   "execution_count": null,
   "id": "ec4ba519",
   "metadata": {},
   "outputs": [],
   "source": [
    "#Y observaremos que nuestro dataset está desbalanceado\n",
    "\n",
    "print('Total = ', len(df_employee))\n",
    "print('Número de empleados que dejan la empresa = ', len(df_sevan))\n",
    "print('Porcentaje de empleados que dejan la empresa = ', len(df_sevan)/len(df_employee)*100, '%')\n",
    "\n",
    "print('Número de empleados que se quedan en la empresa = ', len(df_sequedan))\n",
    "print('Número de empleados que permanecen en la empresa = ', len(df_sequedan)/len(df_employee)*100, '%')"
   ]
  },
  {
   "cell_type": "code",
   "execution_count": null,
   "id": "10f557d5",
   "metadata": {},
   "outputs": [],
   "source": [
    "df_sevan.describe()"
   ]
  },
  {
   "cell_type": "code",
   "execution_count": null,
   "id": "081ca023",
   "metadata": {},
   "outputs": [],
   "source": [
    "df_sequedan.describe()"
   ]
  },
  {
   "cell_type": "code",
   "execution_count": null,
   "id": "98c65a81",
   "metadata": {},
   "outputs": [],
   "source": [
    "#Realizar un análisis de correlación\n",
    "\n"
   ]
  },
  {
   "cell_type": "code",
   "execution_count": null,
   "id": "a2256010",
   "metadata": {},
   "outputs": [],
   "source": [
    "#Graficar un histograma que cuente cuántos empleados se quedan y se van de acuerdo a su edad\n"
   ]
  },
  {
   "cell_type": "code",
   "execution_count": null,
   "id": "2e1dc443",
   "metadata": {},
   "outputs": [],
   "source": [
    "#Haremos lo mismo pero ahora con respecto a 'JobRole', 'MaritalStatus', 'JobInvolvement','JobLevel'\n"
   ]
  },
  {
   "cell_type": "code",
   "execution_count": null,
   "id": "1efd85aa",
   "metadata": {},
   "outputs": [],
   "source": [
    "#ANOTACIONES\n",
    "\n",
    "# Los empleados solteros tienden a irse en comparación con los casados y divorciados\n",
    "# Los representantes de ventas tienden a irse en comparación con cualquier otro departamento\n",
    "# Los empleados menos involucrados tienden a dejar la empresa\n",
    "# Los menos experimentados (nivel laboral bajo) tienden a dejar la empresa"
   ]
  },
  {
   "cell_type": "code",
   "execution_count": null,
   "id": "63513e4a",
   "metadata": {},
   "outputs": [],
   "source": [
    "#Ahora observaremos cómo influye la distancia del trabajo a la casa de los trabajadores \n",
    "\n"
   ]
  },
  {
   "cell_type": "code",
   "execution_count": null,
   "id": "acec9865",
   "metadata": {},
   "outputs": [],
   "source": [
    "#Graficar si influye los años que estan con su actual manager \n",
    "\n"
   ]
  },
  {
   "cell_type": "code",
   "execution_count": null,
   "id": "e07b8589",
   "metadata": {},
   "outputs": [],
   "source": [
    "#Observar si influyen el número total de años que trabajan \n",
    "\n"
   ]
  },
  {
   "cell_type": "code",
   "execution_count": null,
   "id": "576b680e",
   "metadata": {},
   "outputs": [],
   "source": [
    "# Veamos el Gender vs. Monthly Income\n"
   ]
  },
  {
   "cell_type": "code",
   "execution_count": null,
   "id": "f89d056b",
   "metadata": {},
   "outputs": [],
   "source": [
    "# Veamos el monthly income vs. job role\n"
   ]
  },
  {
   "cell_type": "markdown",
   "id": "9811fc76",
   "metadata": {},
   "source": [
    "# 4. Crear los datasets de entrenamiento y prueba"
   ]
  },
  {
   "cell_type": "code",
   "execution_count": null,
   "id": "b2c9bb8b",
   "metadata": {},
   "outputs": [],
   "source": [
    "df_employee.head(3)"
   ]
  },
  {
   "cell_type": "code",
   "execution_count": null,
   "id": "ca069ad5",
   "metadata": {},
   "outputs": [],
   "source": [
    "df_employee.info()"
   ]
  },
  {
   "cell_type": "code",
   "execution_count": null,
   "id": "a43a7c55",
   "metadata": {},
   "outputs": [],
   "source": [
    "#Obtener los features que son categóricos\n"
   ]
  },
  {
   "cell_type": "code",
   "execution_count": null,
   "id": "277ae90a",
   "metadata": {},
   "outputs": [],
   "source": [
    "x_cat.info()"
   ]
  },
  {
   "cell_type": "code",
   "execution_count": null,
   "id": "a77964e2",
   "metadata": {},
   "outputs": [],
   "source": [
    "#Convertir mis variables categóricas a una matriz OneHot\n"
   ]
  },
  {
   "cell_type": "code",
   "execution_count": null,
   "id": "eb184af0",
   "metadata": {},
   "outputs": [],
   "source": [
    "x_cat"
   ]
  },
  {
   "cell_type": "code",
   "execution_count": null,
   "id": "3c180702",
   "metadata": {},
   "outputs": [],
   "source": [
    "x_cat.shape"
   ]
  },
  {
   "cell_type": "code",
   "execution_count": null,
   "id": "51879132",
   "metadata": {},
   "outputs": [],
   "source": [
    "#Borrar de mi base de datos principal, las variables categóricas, y que me queden solo los datos numéricos\n"
   ]
  },
  {
   "cell_type": "code",
   "execution_count": null,
   "id": "2c17d158",
   "metadata": {},
   "outputs": [],
   "source": [
    "x_numerical.shape"
   ]
  },
  {
   "cell_type": "code",
   "execution_count": null,
   "id": "f834e48a",
   "metadata": {},
   "outputs": [],
   "source": [
    "#Convertir a dataframe mi matriz x_cat\n"
   ]
  },
  {
   "cell_type": "code",
   "execution_count": null,
   "id": "aae50bbc",
   "metadata": {},
   "outputs": [],
   "source": [
    "#Vamos a eliminar de x_numerical la columna de 'Attrition', porque será nuestra salida\n"
   ]
  },
  {
   "cell_type": "code",
   "execution_count": null,
   "id": "180d78a6",
   "metadata": {},
   "outputs": [],
   "source": [
    "#Vamos a juntar mi DF numerico con el DF categorico\n"
   ]
  },
  {
   "cell_type": "markdown",
   "id": "acebdbb2",
   "metadata": {},
   "source": [
    "## Escalamiento de datos de la matriz X"
   ]
  },
  {
   "cell_type": "code",
   "execution_count": null,
   "id": "5a982001",
   "metadata": {},
   "outputs": [],
   "source": [
    "#Utilizaremos la función MinMaxScaler de sklearn.preprocessing para hacer un escalamiento de mi matriz X\n",
    "\n",
    "\n",
    "X"
   ]
  },
  {
   "cell_type": "code",
   "execution_count": null,
   "id": "5c868395",
   "metadata": {},
   "outputs": [],
   "source": [
    "#Obtener la salida 'Attrition' de mi dataset en forma numérica\n",
    "\n",
    "\n",
    "Y"
   ]
  },
  {
   "cell_type": "code",
   "execution_count": null,
   "id": "99518cf4",
   "metadata": {},
   "outputs": [],
   "source": []
  }
 ],
 "metadata": {
  "kernelspec": {
   "display_name": "Python 3 (ipykernel)",
   "language": "python",
   "name": "python3"
  },
  "language_info": {
   "codemirror_mode": {
    "name": "ipython",
    "version": 3
   },
   "file_extension": ".py",
   "mimetype": "text/x-python",
   "name": "python",
   "nbconvert_exporter": "python",
   "pygments_lexer": "ipython3",
   "version": "3.9.12"
  }
 },
 "nbformat": 4,
 "nbformat_minor": 5
}
