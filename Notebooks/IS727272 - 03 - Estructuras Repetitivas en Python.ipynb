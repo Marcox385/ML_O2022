{
 "cells": [
  {
   "cell_type": "markdown",
   "metadata": {},
   "source": [
    "### IS727272 - Cordero Hernández, Marco Ricardo"
   ]
  },
  {
   "cell_type": "markdown",
   "metadata": {},
   "source": [
    "# 3. Estructuras Repetitivas \n",
    "\n",
    "- Un bucle (loop) puede ser usado para decirle a un programa que se ejecute repetidamente.\n",
    "\n",
    "- Existen dos instrucciones en Python para las estructuras repetitivas: While y For.\n",
    "\n",
    "## 3.1 Bucle WHILE \n",
    "\n",
    "Un bucle While ejecuta un conjunto de instrucciones repetidamente mientras su condición sea verdadera.\n",
    "\n",
    "- Sintaxis:\n",
    "\n",
    "        while loop-continuation-condition:\n",
    "            Instrucciones\n",
    "\n",
    "- Ejemplo:\n",
    "        \n",
    "        count = 0\n",
    "        while count < 10:\n",
    "            print(\"Programar es divertido!\")\n",
    "            count = count + 1"
   ]
  },
  {
   "cell_type": "code",
   "execution_count": 1,
   "metadata": {},
   "outputs": [
    {
     "name": "stdout",
     "output_type": "stream",
     "text": [
      "Programar es divertido!\n",
      "Programar es divertido!\n",
      "Programar es divertido!\n",
      "Programar es divertido!\n",
      "Programar es divertido!\n",
      "Programar es divertido!\n",
      "Programar es divertido!\n",
      "Programar es divertido!\n",
      "Programar es divertido!\n",
      "Programar es divertido!\n"
     ]
    }
   ],
   "source": [
    "#Bucle While\n",
    "count = 0\n",
    "while count < 10:\n",
    "    print(\"Programar es divertido!\")\n",
    "    count = count + 1"
   ]
  },
  {
   "cell_type": "markdown",
   "metadata": {},
   "source": [
    "### Ejercicio 1: Adivinando Números\n",
    "\n",
    "- Escribir un programa que genere un entero entre 0 y 100. El programa pide al usuario que ingrese números continuamente hasta que el número coincida con el número generado aleatoriamente. Para cada entrada del usuario, el programa reportará si es demasiado alto o demasiado pequeño, de tal forma que el usuario puede escoger la siguiente entrada inteligentemente.\n"
   ]
  },
  {
   "cell_type": "code",
   "execution_count": 3,
   "metadata": {},
   "outputs": [
    {
     "name": "stdout",
     "output_type": "stream",
     "text": [
      "Ingresa tu elección [0, 100]: 50\n",
      "Demasiado alto\n",
      "\n",
      "Ingresa tu elección [0, 100]: 40\n",
      "Demasiado alto\n",
      "\n",
      "Ingresa tu elección [0, 100]: 20\n",
      "Demasiado alto\n",
      "\n",
      "Ingresa tu elección [0, 100]: 15\n",
      "Demasiado alto\n",
      "\n",
      "Ingresa tu elección [0, 100]: 5\n",
      "Demasiado alto\n",
      "\n",
      "Ingresa tu elección [0, 100]: 1\n",
      "Demasiado alto\n",
      "\n",
      "Ingresa tu elección [0, 100]: 0\n",
      "Número adivinado\n"
     ]
    }
   ],
   "source": [
    "from random import randint\n",
    "\n",
    "n = randint(0, 100)\n",
    "while True:\n",
    "    guess = int(input('Ingresa tu elección [0, 100]: '))\n",
    "    \n",
    "    if (0 > guess or guess > 100):\n",
    "        print('Rango incorrecto')\n",
    "    elif (guess > n):\n",
    "        print(\"Demasiado alto\")\n",
    "    elif (guess < n):\n",
    "        print(\"Demasiado pequeño\")\n",
    "    else:\n",
    "        print(\"Número adivinado\")\n",
    "        break\n",
    "    \n",
    "    print()"
   ]
  },
  {
   "cell_type": "markdown",
   "metadata": {},
   "source": [
    "## 3.2 Bucle FOR\n",
    "\n",
    "- El bucle FOR hace iteraciones a través de cada valor en una secuencia.\n",
    "\n",
    "- Sintaxis:\n",
    "\n",
    "        i = initialValue\n",
    "        while i < endValue:\n",
    "            # Instrucciones\n",
    "            i += 1\n",
    "\n",
    "        for i in range(initialValue, endValue):\n",
    "            # Instrucciones\n",
    "        \n",
    "        for var in sequence:\n",
    "            #Instrucciones\n",
    "            \n",
    "- La función $range(a, b)$ regresa la secuencia de enteros de a hasta b-.\n",
    " \n",
    "- Ejemplo:\n",
    "\n",
    "        for v in range(4, 8):\n",
    "            print(v)\n",
    "\n",
    "- La función $range(a, b, k)$ regresa una secuencia de números que inicia en $a$, incrementa en $k$, y el valor límite es $b$.\n",
    "\n",
    "- Ejemplo:\n",
    "        \n",
    "        for v in range(3, 9, 2):\n",
    "            print(v)\n"
   ]
  },
  {
   "cell_type": "code",
   "execution_count": 4,
   "metadata": {},
   "outputs": [
    {
     "name": "stdout",
     "output_type": "stream",
     "text": [
      "3\n",
      "5\n",
      "7\n"
     ]
    }
   ],
   "source": [
    "for v in range(3, 9, 2):\n",
    "    print(v)"
   ]
  },
  {
   "cell_type": "markdown",
   "metadata": {},
   "source": [
    "### Ejercicio 2\n",
    "\n",
    "Escribir un programa que imprima todos los números Armstrong entre 1 y 500. Si la suma de los cubos de cada dígito del número es igual al número en sí mismo, entonces el número se llama número de Armstrong.\n",
    "\n",
    "Por ejemplo, \n",
    "\n",
    "$153 = ( 1 * 1 * 1 ) + ( 5 * 5 * 5 ) + ( 3 * 3 * 3 )$\n",
    "\n"
   ]
  },
  {
   "cell_type": "code",
   "execution_count": 14,
   "metadata": {},
   "outputs": [
    {
     "name": "stdout",
     "output_type": "stream",
     "text": [
      "1\n",
      "153\n",
      "370\n",
      "371\n",
      "407\n"
     ]
    }
   ],
   "source": [
    "for i in range(1, 501):\n",
    "    holder = [int(j)**3 for j in list(str(i))]\n",
    "    if (sum(holder) == i):\n",
    "        print(i)"
   ]
  },
  {
   "cell_type": "markdown",
   "metadata": {},
   "source": [
    "## 3.3 Bucles anidados\n",
    "\n",
    "- Consisten de un bucle exterior y uno o más bucles interiores. Cada vez que el bucle exterior se repite, el bucle interior se reinicia y comienza como si fuera nuevo.\n",
    "\n",
    "\n",
    "### Ejercicio 3\n",
    "\n",
    "Escribir un programa que imprima la tabla de multiplicaciones del 1 al 10.\n"
   ]
  },
  {
   "cell_type": "code",
   "execution_count": 21,
   "metadata": {},
   "outputs": [
    {
     "name": "stdout",
     "output_type": "stream",
     "text": [
      "\t1\t2\t3\t4\t5\t6\t7\t8\t9\t10\t\n",
      "1\t1\t2\t3\t4\t5\t6\t7\t8\t9\t10\n",
      "2\t2\t4\t6\t8\t10\t12\t14\t16\t18\t20\n",
      "3\t3\t6\t9\t12\t15\t18\t21\t24\t27\t30\n",
      "4\t4\t8\t12\t16\t20\t24\t28\t32\t36\t40\n",
      "5\t5\t10\t15\t20\t25\t30\t35\t40\t45\t50\n",
      "6\t6\t12\t18\t24\t30\t36\t42\t48\t54\t60\n",
      "7\t7\t14\t21\t28\t35\t42\t49\t56\t63\t70\n",
      "8\t8\t16\t24\t32\t40\t48\t56\t64\t72\t80\n",
      "9\t9\t18\t27\t36\t45\t54\t63\t72\t81\t90\n",
      "10\t10\t20\t30\t40\t50\t60\t70\t80\t90\t100\n"
     ]
    }
   ],
   "source": [
    "print('\\t', end='')\n",
    "for t in range(10):\n",
    "    print(f'{t+1}\\t', end='')\n",
    "else:\n",
    "    print()\n",
    "\n",
    "for i in range(10):\n",
    "    print(f'{i + 1}', end='')\n",
    "    \n",
    "    for j in range(10):\n",
    "        print(f'\\t{(i+1) * (j+1)}', end='')\n",
    "    else:\n",
    "        print()"
   ]
  }
 ],
 "metadata": {
  "kernelspec": {
   "display_name": "Python 3 (ipykernel)",
   "language": "python",
   "name": "python3"
  },
  "language_info": {
   "codemirror_mode": {
    "name": "ipython",
    "version": 3
   },
   "file_extension": ".py",
   "mimetype": "text/x-python",
   "name": "python",
   "nbconvert_exporter": "python",
   "pygments_lexer": "ipython3",
   "version": "3.9.12"
  }
 },
 "nbformat": 4,
 "nbformat_minor": 2
}
