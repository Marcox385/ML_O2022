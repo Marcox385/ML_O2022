{
 "cells": [
  {
   "cell_type": "markdown",
   "id": "9a2bf744",
   "metadata": {},
   "source": [
    "### IS727272 - Cordero Hernández, Marco Ricardo"
   ]
  },
  {
   "cell_type": "markdown",
   "id": "2d794195",
   "metadata": {},
   "source": [
    "# Actividad de práctica de Regresión Logística"
   ]
  },
  {
   "cell_type": "markdown",
   "id": "065e5efb",
   "metadata": {},
   "source": [
    "## Parte 0: Funciones requeridas"
   ]
  },
  {
   "cell_type": "code",
   "execution_count": 1,
   "id": "11317cd1",
   "metadata": {},
   "outputs": [],
   "source": [
    "# Normalizador \n",
    "def normalize(x):\n",
    "    x_norm = (x - np.mean(x, axis = 0)) / np.std(x, axis = 0)\n",
    "    return x_norm\n",
    "\n",
    "# 1's\n",
    "def Bias(X):\n",
    "    ones = np.ones((len(X), 1))\n",
    "    X1 = np.concatenate((ones, X), axis = 1)\n",
    "    return X1\n",
    "\n",
    "# Función logística \n",
    "def h(x, w):\n",
    "    wx = np.dot(x, w.T)\n",
    "    z = 1 / (1 + np.exp(-wx))\n",
    "    return z\n",
    "\n",
    "# Función de costo\n",
    "def cost(x, y, w):\n",
    "    m, n = np.shape(x)\n",
    "    c = (-1 / m)*np.sum(y * np.log(h(x, w)) + (1 - y) * np.log((1 - h(x, w))))\n",
    "    return c\n",
    "\n",
    "# Gradiente\n",
    "def grad(x, y, w):\n",
    "    m, n = np.shape(x)\n",
    "    g = (1 / m) * np.dot(x.T,(h(x, w)-y))\n",
    "    return g\n",
    "\n",
    "# Gradiente descendiente\n",
    "def gd(x, y, w, alpha = 0.001, its = 1000):\n",
    "    it = 0\n",
    "    costo = 0\n",
    "    J = {}\n",
    "    while it < its:\n",
    "        # Gradient\n",
    "        gradiente = grad(x, y, w)\n",
    "            \n",
    "        # Cost function\n",
    "        costo = cost(x, y, w)\n",
    "            \n",
    "        # Updating w\n",
    "        w = w - alpha * gradiente.T\n",
    "                \n",
    "        # Storing cost\n",
    "        J[it] = costo\n",
    "   \n",
    "        it += 1\n",
    "              \n",
    "    return w, J\n",
    "\n",
    "# Precisión\n",
    "def accuracy(x, y, w):\n",
    "    \n",
    "    Ynew = list(map(lambda x: 1 if x >= 0.5 else 0, h(x, w)))\n",
    "               \n",
    "    Ynew = np.array(Ynew)\n",
    "    Ynew = Ynew.reshape(-1,1)\n",
    "    suma = (y == Ynew).sum()\n",
    "    \n",
    "    a = suma/len(y)\n",
    "    \n",
    "    return a, suma\n",
    "\n",
    "# Predicción\n",
    "def predict(p, threshold):\n",
    "    return list(map(lambda x: 1 if x >= threshold else 0, p))\n",
    "\n",
    "# Valores para matriz\n",
    "def values(y, pred):\n",
    "    tp = tn = fn = fp = 0\n",
    "    \n",
    "    for i in range(len(y)):\n",
    "        tp += 1 if (y[i] and pred[i]) else 0\n",
    "        fp += 1 if (not y[i] and pred[i]) else 0\n",
    "        tn += 1 if (not y[i] and not pred[i]) else 0\n",
    "        fn += 1 if (y[i] and not pred[i]) else 0\n",
    "    \n",
    "    V = {'TP': tp, 'TN': tn, 'FN': fn, 'FP': fp}\n",
    "    return V\n",
    "\n",
    "# TPR\n",
    "def tpr(V):\n",
    "    return V['TP'] / (V['TP'] + V['FN'])\n",
    "\n",
    "# FPR\n",
    "def fpr(V):    \n",
    "    return V['FP'] / (V['FP'] + V['TN'])\n",
    "\n",
    "# Curva ROC\n",
    "def ROC(y, p):\n",
    "    thrs = np.arange(0, 1, 0.005)\n",
    "    TPR = np.zeros(len(thrs))\n",
    "    FPR = np.zeros(len(thrs))\n",
    "    \n",
    "    for i in range(len(thrs)):\n",
    "        pred = predict(p, thrs[i])\n",
    "        TPR[i] = tpr(values(y, pred))\n",
    "        FPR[i] = fpr(values(y, pred))\n",
    "    \n",
    "    return TPR, FPR\n",
    "\n",
    "# Matriz de confusión\n",
    "def plot_confusion_matrix(values, classes):\n",
    "    import itertools\n",
    "    m, n = values.shape\n",
    "\n",
    "    accuracy = np.trace(values) / float(np.sum(values))\n",
    "    misclass = 1 - accuracy\n",
    "\n",
    "    plt.figure(figsize=(5, 5))\n",
    "    plt.imshow(values, interpolation='nearest', cmap=plt.get_cmap('Blues'))\n",
    "    plt.title('Confusion matrix')\n",
    "    plt.colorbar()\n",
    "\n",
    "    marks = np.arange(len(classes))\n",
    "    plt.xticks(marks, classes, rotation=45)\n",
    "    plt.yticks(marks, classes)\n",
    "\n",
    "    thresh = values.max() / 2\n",
    "    for i, j in itertools.product(range(m), range(n)):\n",
    "        plt.text(j, i, \"{:,}\".format(values[i, j]),\n",
    "                 horizontalalignment=\"center\",\n",
    "                 color=\"white\" if values[i, j] > thresh else \"black\")\n",
    "    plt.tight_layout()\n",
    "    plt.ylabel('Predicted label')\n",
    "    plt.xlabel('True label\\naccuracy={:0.4f}; misclass={:0.4f}'.format(accuracy, misclass))\n",
    "    plt.show()"
   ]
  },
  {
   "cell_type": "code",
   "execution_count": 2,
   "id": "07b0a8e1",
   "metadata": {},
   "outputs": [],
   "source": [
    "# Librerías y módulos\n",
    "import numpy as np\n",
    "import pandas as pd\n",
    "from sklearn.model_selection import train_test_split\n",
    "import matplotlib.pyplot as plt\n",
    "from sklearn.metrics import confusion_matrix\n",
    "from sklearn.linear_model import LogisticRegression"
   ]
  },
  {
   "cell_type": "markdown",
   "id": "cbd0f174",
   "metadata": {},
   "source": [
    "## Parte 1: Water potability"
   ]
  },
  {
   "cell_type": "code",
   "execution_count": 3,
   "id": "7f9c587b",
   "metadata": {},
   "outputs": [
    {
     "name": "stdout",
     "output_type": "stream",
     "text": [
      "Rows: 3276; Cols: 10\n"
     ]
    },
    {
     "data": {
      "text/plain": [
       "ph                 491\n",
       "Hardness             0\n",
       "Solids               0\n",
       "Chloramines          0\n",
       "Sulfate            781\n",
       "Conductivity         0\n",
       "Organic_carbon       0\n",
       "Trihalomethanes    162\n",
       "Turbidity            0\n",
       "Potability           0\n",
       "dtype: int64"
      ]
     },
     "execution_count": 3,
     "metadata": {},
     "output_type": "execute_result"
    }
   ],
   "source": [
    "# Lectura del dataset\n",
    "df_wp = pd.read_csv('./Datasets/water_potability.csv')\n",
    "df_wp.head()\n",
    "\n",
    "data_wp = np.array(df_wp)\n",
    "row, col = np.shape(data_wp)\n",
    "print(f'Rows: {row}; Cols: {col}')\n",
    "\n",
    "# Checar nulos\n",
    "df_wp.isna().sum(axis = 0)"
   ]
  },
  {
   "cell_type": "code",
   "execution_count": 4,
   "id": "70547258",
   "metadata": {},
   "outputs": [
    {
     "data": {
      "text/plain": [
       "ph                 0\n",
       "Hardness           0\n",
       "Solids             0\n",
       "Chloramines        0\n",
       "Sulfate            0\n",
       "Conductivity       0\n",
       "Organic_carbon     0\n",
       "Trihalomethanes    0\n",
       "Turbidity          0\n",
       "Potability         0\n",
       "dtype: int64"
      ]
     },
     "execution_count": 4,
     "metadata": {},
     "output_type": "execute_result"
    }
   ],
   "source": [
    "# Se encontraron nulos en ph, Sulfate y Trihalomethanes; se deben rellenar\n",
    "def fill_null(ds, col):\n",
    "    ds[col].fillna(value = int(ds[col].mean()), inplace = True)\n",
    "\n",
    "    \n",
    "fill_null(df_wp, 'ph')\n",
    "fill_null(df_wp, 'Sulfate')\n",
    "fill_null(df_wp, 'Trihalomethanes')\n",
    "\n",
    "\n",
    "# Verificación\n",
    "df_wp.isna().sum(axis = 0)"
   ]
  },
  {
   "cell_type": "code",
   "execution_count": 5,
   "id": "d48bc8e4",
   "metadata": {},
   "outputs": [
    {
     "name": "stdout",
     "output_type": "stream",
     "text": [
      "X: (3276, 9)\n",
      "Y: (3276, 1)\n"
     ]
    }
   ],
   "source": [
    "# Dado el contexto del dataset, se ha determinado que Potability será la salida (Y)\n",
    "data_wp = np.array(df_wp)\n",
    "\n",
    "x_wp = data_wp[:, : -1]\n",
    "y_wp = data_wp[:, -1]\n",
    "y_wp = y_wp.reshape(-1, 1)\n",
    "\n",
    "print(f'X: {np.shape(x_wp)}\\nY: {np.shape(y_wp)}')"
   ]
  },
  {
   "cell_type": "code",
   "execution_count": 6,
   "id": "f5c0dda2",
   "metadata": {},
   "outputs": [
    {
     "name": "stdout",
     "output_type": "stream",
     "text": [
      "(3276, 9)\n"
     ]
    }
   ],
   "source": [
    "# Normalizar x\n",
    "X_wp_norm = normalize(x_wp)\n",
    "print(np.shape(X_wp_norm))"
   ]
  },
  {
   "cell_type": "code",
   "execution_count": 7,
   "id": "d987d43e",
   "metadata": {},
   "outputs": [
    {
     "name": "stdout",
     "output_type": "stream",
     "text": [
      "(3276, 10)\n",
      "Split X 3276 rows into train with 2194 and test with 1082\n",
      "Split Y 3276 rows into train with 2194 and test with 1082\n",
      "xTrain shape: (2194, 10) yTrain shape: (2194, 1)\n",
      "xTest shape: (1082, 10) yTest shape: (1082, 1)\n"
     ]
    }
   ],
   "source": [
    "# Preparar y bifurcar datos\n",
    "x_wp = Bias(X_wp_norm)\n",
    "print(np.shape(x_wp))\n",
    "\n",
    "test_size = 0.33\n",
    "xTrain_wp, xTest_wp, yTrain_wp, yTest_wp = train_test_split(x_wp, y_wp,test_size = test_size)\n",
    "print('Split X', len(x_wp), 'rows into train with', len(xTrain_wp), 'and test with', len(xTest_wp))\n",
    "print('Split Y', len(y_wp), 'rows into train with', len(yTrain_wp), 'and test with', len(yTest_wp))\n",
    "\n",
    "yTrain_wp = yTrain_wp.reshape(-1,1)\n",
    "yTest_wp = yTest_wp.reshape(-1,1)\n",
    "\n",
    "print('xTrain shape:',np.shape(xTrain_wp), 'yTrain shape:', np.shape(yTrain_wp))\n",
    "print('xTest shape:', np.shape(xTest_wp), 'yTest shape:', np.shape(yTest_wp))"
   ]
  },
  {
   "cell_type": "code",
   "execution_count": 8,
   "id": "e544a41a",
   "metadata": {},
   "outputs": [
    {
     "name": "stdout",
     "output_type": "stream",
     "text": [
      "Initial Cost (training data): 0.6931471805599453\n",
      "Cost after training (training data): 0.6670208212506439\n",
      "Cost after training (testing data): 0.6685205486488206\n",
      "W: [[-0.41008623  0.0065311  -0.03035836  0.05531924  0.04490138 -0.03435561\n",
      "  -0.04652737 -0.04689643  0.01183504  0.01126765]]\n"
     ]
    },
    {
     "data": {
      "image/png": "[encoded data removed]",
      "text/plain": [
       "<Figure size 432x288 with 1 Axes>"
      ]
     },
     "metadata": {
      "needs_background": "light"
     },
     "output_type": "display_data"
    }
   ],
   "source": [
    "# Gradiente descendiente\n",
    "alpha = 0.01\n",
    "its = 1000\n",
    "\n",
    "m, n = np.shape(x_wp)\n",
    "w = np.zeros((1, n))\n",
    "\n",
    "print('Initial Cost (training data):', cost(xTrain_wp, yTrain_wp, w))\n",
    "\n",
    "# Gradient\n",
    "w, J = gd(xTrain_wp, yTrain_wp, w, alpha, its)\n",
    "\n",
    "print('Cost after training (training data):', cost(xTrain_wp, yTrain_wp, w))\n",
    "print('Cost after training (testing data):', cost(xTest_wp, yTest_wp, w))\n",
    "\n",
    "print('W:',w)\n",
    "\n",
    "# Plot the cost over the iterations\n",
    "plt.plot(J.keys(), J.values())\n",
    "plt.xlabel('Iterations')\n",
    "plt.ylabel('Cost');"
   ]
  },
  {
   "cell_type": "code",
   "execution_count": 9,
   "id": "f4e7f01f",
   "metadata": {},
   "outputs": [
    {
     "name": "stdout",
     "output_type": "stream",
     "text": [
      "Training accuracy: 0.6103008204193254 1339 out of 2194\n",
      "Testing accuracy: 0.6090573012939002 659 out of 1082\n"
     ]
    }
   ],
   "source": [
    "# Precisión\n",
    "accTrain_wp, tptnTrain_wp = accuracy(xTrain_wp, yTrain_wp, w)\n",
    "accTest_wp, tptnTest_wp = accuracy(xTest_wp, yTest_wp, w)\n",
    "print('Training accuracy:', accTrain_wp, tptnTrain_wp, 'out of', len(yTrain_wp))\n",
    "print('Testing accuracy:', accTest_wp, tptnTest_wp, 'out of', len(yTest_wp))"
   ]
  },
  {
   "cell_type": "code",
   "execution_count": 10,
   "id": "10c56fcd",
   "metadata": {},
   "outputs": [
    {
     "data": {
      "image/png": "[encoded data removed]",
      "text/plain": [
       "<Figure size 432x288 with 1 Axes>"
      ]
     },
     "metadata": {
      "needs_background": "light"
     },
     "output_type": "display_data"
    }
   ],
   "source": [
    "# ROC\n",
    "# Entrenamiento\n",
    "Tpr_wp, Fpr_wp = ROC(yTrain_wp, h(xTrain_wp, w))\n",
    "plt.plot([0, 1], [0, 1], 'k--')\n",
    "plt.plot(Fpr_wp, Tpr_wp, '-', label = \"Train\")\n",
    "\n",
    "# Test\n",
    "Tpr1_wp, Fpr1_wp = ROC(yTest_wp, h(xTest_wp, w))\n",
    "plt.plot(Fpr1_wp, Tpr1_wp, '-', label = \"Test\")\n",
    "\n",
    "plt.xlabel('FPR')\n",
    "plt.ylabel('TPR');\n",
    "plt.legend()\n",
    "plt.title('Receiver Operating Characteristic');"
   ]
  },
  {
   "cell_type": "code",
   "execution_count": 11,
   "id": "942acaf8",
   "metadata": {},
   "outputs": [
    {
     "name": "stdout",
     "output_type": "stream",
     "text": [
      "AUC Training:  0.5567723141560647\n",
      "AUC Testing:  0.5476526150015961\n"
     ]
    }
   ],
   "source": [
    "# AUC\n",
    "rectangle_roc_wp = 0\n",
    "rectangle_roc1_wp = 0\n",
    "\n",
    "for i in range(len(Tpr_wp) - 1):\n",
    "    rectangle_roc_wp += (Fpr_wp[i] - Fpr_wp[i + 1]) * Tpr_wp[i]\n",
    "else:\n",
    "    print('AUC Training: ', rectangle_roc_wp)\n",
    "\n",
    "for i in range(len(Tpr_wp) - 1):\n",
    "    rectangle_roc1_wp += (Fpr1_wp[i] - Fpr1_wp[i + 1]) * Tpr1_wp[i]\n",
    "else:\n",
    "    print('AUC Testing: ', rectangle_roc1_wp)"
   ]
  },
  {
   "cell_type": "code",
   "execution_count": 12,
   "id": "ec8100b5",
   "metadata": {},
   "outputs": [
    {
     "name": "stdout",
     "output_type": "stream",
     "text": [
      "[[1339    0]\n",
      " [ 855    0]]\n"
     ]
    },
    {
     "data": {
      "image/png": "[encoded data removed]",
      "text/plain": [
       "<Figure size 360x360 with 2 Axes>"
      ]
     },
     "metadata": {
      "needs_background": "light"
     },
     "output_type": "display_data"
    }
   ],
   "source": [
    "# Matriz de confusión\n",
    "pred_wp = predict(h(xTrain_wp, w), 0.5)\n",
    "cm_wp = confusion_matrix(yTrain_wp, pred_wp)\n",
    "print(cm_wp)\n",
    "\n",
    "plot_confusion_matrix(values = cm_wp, classes = ['0', '1'])"
   ]
  },
  {
   "cell_type": "code",
   "execution_count": 13,
   "id": "83165621",
   "metadata": {},
   "outputs": [
    {
     "name": "stderr",
     "output_type": "stream",
     "text": [
      "C:\\ProgramData\\Anaconda3\\lib\\site-packages\\sklearn\\utils\\validation.py:993: DataConversionWarning: A column-vector y was passed when a 1d array was expected. Please change the shape of y to (n_samples, ), for example using ravel().\n",
      "  y = column_or_1d(y, warn=True)\n"
     ]
    }
   ],
   "source": [
    "# Implementación desde SKLEARN\n",
    "LR_wp = LogisticRegression(solver='lbfgs')\n",
    "LR_wp.fit(xTrain_wp, yTrain_wp)\n",
    "LR_wp_score = LR_wp.score(xTest_wp, yTest_wp)"
   ]
  },
  {
   "cell_type": "code",
   "execution_count": 14,
   "id": "85c4f283",
   "metadata": {},
   "outputs": [
    {
     "name": "stdout",
     "output_type": "stream",
     "text": [
      "Puntuación: 0.6090573012939002\t\tPuntuación sklearn: 0.6090573012939002\n"
     ]
    }
   ],
   "source": [
    "# Comparación\n",
    "print(f'Puntuación: {accTest_wp}\\t\\tPuntuación sklearn: {LR_wp_score}')"
   ]
  },
  {
   "cell_type": "markdown",
   "id": "33f5d8a1",
   "metadata": {},
   "source": [
    "## Parte 2: Spambase"
   ]
  },
  {
   "cell_type": "code",
   "execution_count": 15,
   "id": "66880c0c",
   "metadata": {},
   "outputs": [
    {
     "name": "stdout",
     "output_type": "stream",
     "text": [
      "Rows: 4601; Cols: 58\n"
     ]
    },
    {
     "data": {
      "text/plain": [
       "0     0\n",
       "1     0\n",
       "2     0\n",
       "3     0\n",
       "4     0\n",
       "5     0\n",
       "6     0\n",
       "7     0\n",
       "8     0\n",
       "9     0\n",
       "10    0\n",
       "11    0\n",
       "12    0\n",
       "13    0\n",
       "14    0\n",
       "15    0\n",
       "16    0\n",
       "17    0\n",
       "18    0\n",
       "19    0\n",
       "20    0\n",
       "21    0\n",
       "22    0\n",
       "23    0\n",
       "24    0\n",
       "25    0\n",
       "26    0\n",
       "27    0\n",
       "28    0\n",
       "29    0\n",
       "30    0\n",
       "31    0\n",
       "32    0\n",
       "33    0\n",
       "34    0\n",
       "35    0\n",
       "36    0\n",
       "37    0\n",
       "38    0\n",
       "39    0\n",
       "40    0\n",
       "41    0\n",
       "42    0\n",
       "43    0\n",
       "44    0\n",
       "45    0\n",
       "46    0\n",
       "47    0\n",
       "48    0\n",
       "49    0\n",
       "50    0\n",
       "51    0\n",
       "52    0\n",
       "53    0\n",
       "54    0\n",
       "55    0\n",
       "56    0\n",
       "57    0\n",
       "dtype: int64"
      ]
     },
     "execution_count": 15,
     "metadata": {},
     "output_type": "execute_result"
    }
   ],
   "source": [
    "# Lectura del dataset\n",
    "df_sp = pd.read_csv('./Datasets/spambase.data', header = None)\n",
    "df_sp.head()\n",
    "\n",
    "data_sp = np.array(df_sp)\n",
    "row, col = np.shape(data_sp)\n",
    "print(f'Rows: {row}; Cols: {col}')\n",
    "\n",
    "# Checar nulos\n",
    "df_sp.isna().sum(axis = 0)"
   ]
  },
  {
   "cell_type": "code",
   "execution_count": 16,
   "id": "6cef9a83",
   "metadata": {},
   "outputs": [
    {
     "name": "stdout",
     "output_type": "stream",
     "text": [
      "X: (3276, 9)\n",
      "Y: (3276, 1)\n"
     ]
    }
   ],
   "source": [
    "# Dada la información del dataset, se entiende que la última columna es el resultado\n",
    "data_sp = np.array(df_wp)\n",
    "\n",
    "x_sp = data_sp[:, : -1]\n",
    "y_sp = data_sp[:, -1]\n",
    "y_sp = y_sp.reshape(-1, 1)\n",
    "\n",
    "print(f'X: {np.shape(x_sp)}\\nY: {np.shape(y_sp)}')"
   ]
  },
  {
   "cell_type": "code",
   "execution_count": 17,
   "id": "faba1bb5",
   "metadata": {},
   "outputs": [
    {
     "name": "stdout",
     "output_type": "stream",
     "text": [
      "(3276, 9)\n"
     ]
    }
   ],
   "source": [
    "# Normalizar x\n",
    "X_sp_norm = normalize(x_sp)\n",
    "print(np.shape(X_sp_norm))"
   ]
  },
  {
   "cell_type": "code",
   "execution_count": 18,
   "id": "2cbfdb14",
   "metadata": {},
   "outputs": [
    {
     "name": "stdout",
     "output_type": "stream",
     "text": [
      "(3276, 10)\n",
      "Split X 3276 rows into train with 2194 and test with 1082\n",
      "Split Y 3276 rows into train with 2194 and test with 1082\n",
      "xTrain shape: (2194, 10) yTrain shape: (2194, 1)\n",
      "xTest shape: (1082, 10) yTest shape: (1082, 1)\n"
     ]
    }
   ],
   "source": [
    "# Preparar y bifurcar datos\n",
    "x_sp = Bias(X_sp_norm)\n",
    "print(np.shape(x_sp))\n",
    "\n",
    "xTrain_sp, xTest_sp, yTrain_sp, yTest_sp = train_test_split(x_sp, y_sp,test_size = test_size)\n",
    "print('Split X', len(x_sp), 'rows into train with', len(xTrain_sp), 'and test with', len(xTest_sp))\n",
    "print('Split Y', len(y_sp), 'rows into train with', len(yTrain_sp), 'and test with', len(yTest_sp))\n",
    "\n",
    "yTrain_sp = yTrain_sp.reshape(-1,1)\n",
    "yTest_sp = yTest_sp.reshape(-1,1)\n",
    "\n",
    "print('xTrain shape:',np.shape(xTrain_sp), 'yTrain shape:', np.shape(yTrain_sp))\n",
    "print('xTest shape:', np.shape(xTest_sp), 'yTest shape:', np.shape(yTest_sp))"
   ]
  },
  {
   "cell_type": "code",
   "execution_count": 19,
   "id": "27e4693e",
   "metadata": {},
   "outputs": [
    {
     "name": "stdout",
     "output_type": "stream",
     "text": [
      "Initial Cost (training data): 0.6931471805599453\n",
      "Cost after training (training data): 0.6677998282516671\n",
      "Cost after training (testing data): 0.6687795233469315\n",
      "W: [[-0.39771043 -0.0483199  -0.04518195  0.0548357   0.02775887 -0.02023465\n",
      "  -0.00897108 -0.07298211  0.03886435 -0.01453563]]\n"
     ]
    },
    {
     "data": {
      "image/png": "[encoded data removed]",
      "text/plain": [
       "<Figure size 432x288 with 1 Axes>"
      ]
     },
     "metadata": {
      "needs_background": "light"
     },
     "output_type": "display_data"
    }
   ],
   "source": [
    "# Gradiente descendiente\n",
    "alpha = 0.01\n",
    "its = 1000\n",
    "\n",
    "m, n = np.shape(x_sp)\n",
    "w = np.zeros((1, n))\n",
    "\n",
    "print('Initial Cost (training data):', cost(xTrain_sp, yTrain_sp, w))\n",
    "\n",
    "# Gradient\n",
    "w, J = gd(xTrain_sp, yTrain_sp, w, alpha, its)\n",
    "\n",
    "print('Cost after training (training data):', cost(xTrain_sp, yTrain_sp, w))\n",
    "print('Cost after training (testing data):', cost(xTest_sp, yTest_sp, w))\n",
    "\n",
    "print('W:',w)\n",
    "\n",
    "# Plot the cost over the iterations\n",
    "plt.plot(J.keys(), J.values())\n",
    "plt.xlabel('Iterations')\n",
    "plt.ylabel('Cost');"
   ]
  },
  {
   "cell_type": "code",
   "execution_count": 20,
   "id": "e615f774",
   "metadata": {},
   "outputs": [
    {
     "name": "stdout",
     "output_type": "stream",
     "text": [
      "Training accuracy: 0.6061987237921604 1330 out of 2194\n",
      "Testing accuracy: 0.6118299445471349 662 out of 1082\n"
     ]
    }
   ],
   "source": [
    "# Precisión\n",
    "accTrain_sp, tptnTrain_sp = accuracy(xTrain_sp, yTrain_sp, w)\n",
    "accTest_sp, tptnTest_sp = accuracy(xTest_sp, yTest_sp, w)\n",
    "print('Training accuracy:', accTrain_sp, tptnTrain_sp, 'out of', len(yTrain_sp))\n",
    "print('Testing accuracy:', accTest_sp, tptnTest_sp, 'out of', len(yTest_sp))"
   ]
  },
  {
   "cell_type": "code",
   "execution_count": 21,
   "id": "8d949a06",
   "metadata": {},
   "outputs": [
    {
     "data": {
      "image/png": "[encoded data removed]",
      "text/plain": [
       "<Figure size 432x288 with 1 Axes>"
      ]
     },
     "metadata": {
      "needs_background": "light"
     },
     "output_type": "display_data"
    }
   ],
   "source": [
    "# ROC\n",
    "# Entrenamiento\n",
    "Tpr_sp, Fpr_sp = ROC(yTrain_sp, h(xTrain_sp, w))\n",
    "plt.plot([0, 1], [0, 1], 'k--')\n",
    "plt.plot(Fpr_sp, Tpr_sp, '-', label = \"Train\")\n",
    "\n",
    "# Test\n",
    "Tpr1_sp, Fpr1_sp = ROC(yTest_sp, h(xTest_sp, w))\n",
    "plt.plot(Fpr1_sp, Tpr1_sp, '-', label = \"Test\")\n",
    "\n",
    "plt.xlabel('FPR')\n",
    "plt.ylabel('TPR');\n",
    "plt.legend()\n",
    "plt.title('Receiver Operating Characteristic');"
   ]
  },
  {
   "cell_type": "code",
   "execution_count": 22,
   "id": "11b7cff0",
   "metadata": {},
   "outputs": [
    {
     "name": "stdout",
     "output_type": "stream",
     "text": [
      "AUC Training:  0.5599642565999876\n",
      "AUC Testing:  0.5278571841071842\n"
     ]
    }
   ],
   "source": [
    "# AUC\n",
    "rectangle_roc_sp = 0\n",
    "rectangle_roc1_sp = 0\n",
    "\n",
    "for i in range(len(Tpr_sp) - 1):\n",
    "    rectangle_roc_sp += (Fpr_sp[i] - Fpr_sp[i + 1]) * Tpr_sp[i]\n",
    "else:\n",
    "    print('AUC Training: ', rectangle_roc_sp)\n",
    "\n",
    "for i in range(len(Tpr_sp) - 1):\n",
    "    rectangle_roc1_sp += (Fpr1_sp[i] - Fpr1_sp[i + 1]) * Tpr1_sp[i]\n",
    "else:\n",
    "    print('AUC Testing: ', rectangle_roc1_sp)"
   ]
  },
  {
   "cell_type": "code",
   "execution_count": 23,
   "id": "b42829c0",
   "metadata": {},
   "outputs": [
    {
     "name": "stdout",
     "output_type": "stream",
     "text": [
      "[[1330    2]\n",
      " [ 862    0]]\n"
     ]
    },
    {
     "data": {
      "image/png": "[encoded data removed]",
      "text/plain": [
       "<Figure size 360x360 with 2 Axes>"
      ]
     },
     "metadata": {
      "needs_background": "light"
     },
     "output_type": "display_data"
    }
   ],
   "source": [
    "# Matriz de confusión\n",
    "pred_sp = predict(h(xTrain_sp, w), 0.5)\n",
    "cm_sp = confusion_matrix(yTrain_sp, pred_sp)\n",
    "print(cm_sp)\n",
    "\n",
    "plot_confusion_matrix(values = cm_sp, classes = ['0', '1'])"
   ]
  },
  {
   "cell_type": "code",
   "execution_count": 24,
   "id": "8db9d03c",
   "metadata": {},
   "outputs": [
    {
     "name": "stderr",
     "output_type": "stream",
     "text": [
      "C:\\ProgramData\\Anaconda3\\lib\\site-packages\\sklearn\\utils\\validation.py:993: DataConversionWarning: A column-vector y was passed when a 1d array was expected. Please change the shape of y to (n_samples, ), for example using ravel().\n",
      "  y = column_or_1d(y, warn=True)\n"
     ]
    }
   ],
   "source": [
    "# Implementación desde SKLEARN\n",
    "LR_sp = LogisticRegression(solver='lbfgs')\n",
    "LR_sp.fit(xTrain_sp, yTrain_sp)\n",
    "LR_sp_score = LR_sp.score(xTest_sp, yTest_sp)"
   ]
  },
  {
   "cell_type": "code",
   "execution_count": 25,
   "id": "8fa21095",
   "metadata": {},
   "outputs": [
    {
     "name": "stdout",
     "output_type": "stream",
     "text": [
      "Puntuación: 0.6118299445471349\t\tPuntuación sklearn: 0.6118299445471349\n"
     ]
    }
   ],
   "source": [
    "# Comparación\n",
    "print(f'Puntuación: {accTest_sp}\\t\\tPuntuación sklearn: {LR_sp_score}')"
   ]
  },
  {
   "cell_type": "markdown",
   "id": "831c7ae3",
   "metadata": {},
   "source": [
    "¿Por qué el modelo de un dataset tiene mejor desempeño que el otro?\n",
    "Los datos del segundo dataset están construidos de una mejor manera"
   ]
  }
 ],
 "metadata": {
  "kernelspec": {
   "display_name": "Python 3 (ipykernel)",
   "language": "python",
   "name": "python3"
  },
  "language_info": {
   "codemirror_mode": {
    "name": "ipython",
    "version": 3
   },
   "file_extension": ".py",
   "mimetype": "text/x-python",
   "name": "python",
   "nbconvert_exporter": "python",
   "pygments_lexer": "ipython3",
   "version": "3.9.12"
  }
 },
 "nbformat": 4,
 "nbformat_minor": 5
}
