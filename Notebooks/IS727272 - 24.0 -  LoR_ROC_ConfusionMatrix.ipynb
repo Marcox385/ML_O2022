{
 "cells": [
  {
   "cell_type": "markdown",
   "metadata": {},
   "source": [
    "### IS727272 - Cordero Hernández, Marco Ricardo"
   ]
  },
  {
   "cell_type": "markdown",
   "metadata": {},
   "source": [
    "# Exercise 4.2.2 Logistic Regression, ROC curve, Confusion Matrix"
   ]
  },
  {
   "attachments": {
    "image.png": {
     "image/png": "[encoded data removed]"
    }
   },
   "cell_type": "markdown",
   "metadata": {},
   "source": [
    "The Accuracy measurement must be used very carefuly when the classes are imbalanced.\n",
    "\n",
    "There are other measurements called Sensitivity (Se) and Specificity (Sp):\n",
    "$$S_e = \\frac{TP}{TP+FN}$$,  $$  S_p = \\frac{TN}{TN+FP}$$\n",
    "\n",
    "The AUC (area under curve) of the ROC (receiving operating curve) Curve is a probability curve that represents the measure of separability. If it is near to 1, it has a good measure of separability.\n",
    "\n",
    "The Confusion matrix is a table that is often used to describe the performance of a classification model.\n",
    "\n",
    "![image.png](attachment:image.png)"
   ]
  },
  {
   "cell_type": "markdown",
   "metadata": {},
   "source": [
    "## 1. Load Dataset: Haberman's Survival\n",
    "\n",
    "The dataset used for this exercise can be downloaded from: https://archive.ics.uci.edu/ml/datasets/Haberman%27s+Survival\n",
    "\n",
    "What is this dataset about?\n",
    "\n",
    "Load dataset to obtain the X and Y matrices. "
   ]
  },
  {
   "cell_type": "code",
   "execution_count": 1,
   "metadata": {},
   "outputs": [],
   "source": [
    "# Import libraries\n",
    "import numpy as np\n",
    "import pandas as pd\n",
    "from sklearn.model_selection import train_test_split\n",
    "import matplotlib.pyplot as plt"
   ]
  },
  {
   "cell_type": "code",
   "execution_count": 2,
   "metadata": {},
   "outputs": [
    {
     "name": "stdout",
     "output_type": "stream",
     "text": [
      "Rows: 306 Columns: 4\n",
      "x: (306, 3)\n",
      "y: (306, 1)\n"
     ]
    }
   ],
   "source": [
    "# 1. Load dataset\n",
    "data = pd.read_csv('./Datasets/haberman.data', header = None)\n",
    "data.head()\n",
    "\n",
    "dataset = np.array(data)\n",
    "m, n = np.shape(dataset)\n",
    "print('Rows:', m, 'Columns:', n)\n",
    "\n",
    "x = dataset[:, 0:3]\n",
    "y = dataset[:, -1]\n",
    "y = y.reshape(-1, 1)\n",
    "print('x:', np.shape(x))\n",
    "print('y:', np.shape(y))\n",
    "\n",
    "# Change outputs\n",
    "y = np.where(y == 1, 0, y)\n",
    "y = np.where(y == 2, 1, y)"
   ]
  },
  {
   "cell_type": "code",
   "execution_count": 3,
   "metadata": {},
   "outputs": [],
   "source": [
    "# Normalize\n",
    "def normalize(x):\n",
    "    x_norm = (x - np.mean(x, axis=0)) / np.std(x,axis=0)\n",
    "    return x_norm\n",
    "\n",
    "X_norm = normalize(x)"
   ]
  },
  {
   "cell_type": "markdown",
   "metadata": {},
   "source": [
    "## 2. Prepare data\n",
    "\n",
    "This step requires to add Bias, and then split dataset. We will define the Bias function to add the intercept column to the features matrix (input).\n",
    "\n",
    "For spliting dataset we will use the train_test_split() function. Be sure to import the function before use it."
   ]
  },
  {
   "cell_type": "code",
   "execution_count": 4,
   "metadata": {},
   "outputs": [
    {
     "name": "stdout",
     "output_type": "stream",
     "text": [
      "(306, 3)\n",
      "x shape:  (306, 4)\n",
      "Split X 306 rows into train with 244 and test with 62\n",
      "Split Y 306 rows into train with 244 and test with 62\n",
      "xTrain shape: (244, 4) yTrain shape: (244, 1)\n",
      "xTest shape: (62, 4) yTest shape: (62, 1)\n"
     ]
    }
   ],
   "source": [
    "# 2. Prepare data: add Bias and split dataset\n",
    "\n",
    "print(np.shape(X_norm))\n",
    "\n",
    "def Bias(X):\n",
    "    ones = np.ones((len(X),1))\n",
    "    X1 = np.concatenate((ones, X), axis=1)\n",
    "    return X1\n",
    "\n",
    "x = Bias(X_norm)\n",
    "\n",
    "print('x shape: ', np.shape(x))\n",
    "\n",
    "test_size = 0.2\n",
    "xTrain, xTest, yTrain, yTest = train_test_split(x, y,test_size = test_size)\n",
    "print('Split X', len(x), 'rows into train with', len(xTrain), 'and test with', len(xTest))\n",
    "print('Split Y', len(y), 'rows into train with', len(yTrain), 'and test with', len(yTest))\n",
    "\n",
    "yTrain = yTrain.reshape(-1,1)\n",
    "yTest = yTest.reshape(-1,1)\n",
    "\n",
    "print('xTrain shape:',np.shape(xTrain), 'yTrain shape:', np.shape(yTrain))\n",
    "print('xTest shape:', np.shape(xTest), 'yTest shape:', np.shape(yTest))"
   ]
  },
  {
   "cell_type": "markdown",
   "metadata": {},
   "source": [
    "## 3. Gradient Descent algorithm\n",
    "\n",
    "As we learnt from previous lesson, the Gradient Descent (GD) consists in two main steps:\n",
    "\n",
    "1. Calculate the gradient\n",
    "2. Update the W values\n",
    "\n",
    "We will add the cost calculation to evaluate the algorithm performance and W convergence.\n",
    "\n",
    "The LoR algorithm will be implemented using the number of iterarions as the while condition ends.\n",
    "\n",
    "We will define four functios to implement the GD algorithm:\n",
    "\n",
    "1. Logistic: h(  )\n",
    "2. Cost: cost(  )\n",
    "3. Gradient: grad(  ) \n",
    "4. Gradient Descent: GD(  )"
   ]
  },
  {
   "cell_type": "markdown",
   "metadata": {},
   "source": [
    "### 3.1 Logistic function \n",
    "\n",
    "The logistic function is implemented using the formula:\n",
    "$$h(w, x) = \\frac{1}{1+e^{-w^Tx}}$$\n"
   ]
  },
  {
   "cell_type": "code",
   "execution_count": 5,
   "metadata": {},
   "outputs": [],
   "source": [
    "# 3.1 Logistic function\n",
    "def h(x, w):\n",
    "    wx = np.dot(x, w.T)\n",
    "    z = 1 / (1 + np.exp(-wx))\n",
    "    return z"
   ]
  },
  {
   "cell_type": "markdown",
   "metadata": {},
   "source": [
    "### 3.2 Cost function\n",
    "\n",
    "The cost function is defined by: \n",
    "\n",
    "$$\n",
    "J(w) = -\\frac{1}{m}\\left(\\sum_{i=1}^{m}y_i\\ log[h(x_i, w)] + (1 - y_i)\\ log[1 - h(x_i, w)] \\right)\n",
    "$$"
   ]
  },
  {
   "cell_type": "code",
   "execution_count": 6,
   "metadata": {},
   "outputs": [],
   "source": [
    "# 3.2 Cost function\n",
    "def cost(x, y, w):\n",
    "    m, n = np.shape(x)\n",
    "    c = (-1 / m)*np.sum(y * np.log(h(x, w)) + (1 - y) * np.log((1 - h(x, w))))\n",
    "    return c"
   ]
  },
  {
   "cell_type": "markdown",
   "metadata": {},
   "source": [
    "### 3.3 Gradient function\n",
    "\n",
    "The gradient function is defined by:\n",
    "\n",
    "$$\n",
    "\\frac{\\partial J(w)}{\\partial w_j} = \\frac{1}{m} \\sum_{i=1}^{m} (h(x_i, w) - y_i) x_i[j] \n",
    "$$\n",
    "\n",
    "The gradient for the vector form is: \n",
    "\n",
    "\n",
    "$$\n",
    "\\frac{\\partial J(\\mathbf{w})}{\\partial \\mathbf{w}} = \\frac{1}{m} X^T(h(X, w) - y) \n",
    "$$\n"
   ]
  },
  {
   "cell_type": "code",
   "execution_count": 7,
   "metadata": {},
   "outputs": [],
   "source": [
    "# 3.3 Gradient function\n",
    "def grad(x, y, w):\n",
    "    m, n = np.shape(x)\n",
    "    g = (1 / m) * np.dot(x.T,(h(x, w)-y))\n",
    "    return g"
   ]
  },
  {
   "cell_type": "markdown",
   "metadata": {},
   "source": [
    "### 3.4 Gradient Descent function\n",
    "\n",
    "The GD function will be define with the next steps.\n",
    "\n",
    "1. Initialize variables: it, costo, and J\n",
    "2. While the actual iteration (it) is less than iterations:\n",
    "    - Calculate the gradient\n",
    "    - Calculate the cost\n",
    "    - Update W\n",
    "    - Store the cost in J\n",
    "3. The GD function will return the W vector and J"
   ]
  },
  {
   "cell_type": "code",
   "execution_count": 8,
   "metadata": {},
   "outputs": [],
   "source": [
    "# 3.4 Gradient Descent function\n",
    "def gd(x, y, w, alpha = 0.001, its = 1000):\n",
    "    it = 0\n",
    "    costo = 0\n",
    "    J = {}\n",
    "    while it < its:\n",
    "        # Gradient\n",
    "        gradiente = grad(x, y, w)\n",
    "            \n",
    "        # Cost function\n",
    "        costo = cost(x, y, w)\n",
    "            \n",
    "        # Updating w\n",
    "        w = w - alpha * gradiente.T\n",
    "                \n",
    "        # Storing cost\n",
    "        J[it] = costo\n",
    "   \n",
    "        it += 1\n",
    "              \n",
    "    return w, J"
   ]
  },
  {
   "cell_type": "markdown",
   "metadata": {},
   "source": [
    "## Testing the Gradient Descent "
   ]
  },
  {
   "cell_type": "code",
   "execution_count": 9,
   "metadata": {},
   "outputs": [
    {
     "name": "stdout",
     "output_type": "stream",
     "text": [
      "Initial Cost (training data): 0.6931471805599454\n",
      "Cost after training (training data): 0.5299510966934848\n",
      "Cost after training (testing data): 0.5654218587058961\n",
      "W: [[-1.10404504  0.26296547 -0.11303     0.63609293]]\n"
     ]
    },
    {
     "data": {
      "image/png": "[encoded data removed]",
      "text/plain": [
       "<Figure size 432x288 with 1 Axes>"
      ]
     },
     "metadata": {
      "needs_background": "light"
     },
     "output_type": "display_data"
    }
   ],
   "source": [
    "# Test the gradient descent\n",
    "alpha = 0.1\n",
    "its = 1000\n",
    "\n",
    "m, n = np.shape(x)\n",
    "w = np.zeros((1, n))\n",
    "\n",
    "print('Initial Cost (training data):', cost(xTrain, yTrain, w))\n",
    "\n",
    "# Gradient\n",
    "w, J = gd(xTrain, yTrain, w, alpha, its)\n",
    "\n",
    "print('Cost after training (training data):', cost(xTrain, yTrain, w))\n",
    "print('Cost after training (testing data):', cost(xTest, yTest, w))\n",
    "\n",
    "print('W:',w)\n",
    "\n",
    "# Plot the cost over the iterations\n",
    "plt.plot(J.keys(), J.values())\n",
    "plt.xlabel('Iterations')\n",
    "plt.ylabel('Cost');"
   ]
  },
  {
   "cell_type": "markdown",
   "metadata": {},
   "source": [
    "## 4. Performance Measurement\n",
    "\n",
    "### 4.1 Accuracy\n",
    "\n",
    "The accuracy for LoR is defined by:\n",
    "\n",
    "$$ Acc = \\frac{TP + TN}{m} $$\n"
   ]
  },
  {
   "cell_type": "code",
   "execution_count": 10,
   "metadata": {},
   "outputs": [
    {
     "name": "stdout",
     "output_type": "stream",
     "text": [
      "Training accuracy: 0.75 183 out of 244\n",
      "Testing accuracy: 0.7419354838709677 46 out of 62\n"
     ]
    }
   ],
   "source": [
    "# 4.1 Accuracy\n",
    "\n",
    "def accuracy(x, y, w):\n",
    "    \n",
    "    Ynew = list(map(lambda x: 1 if x >= 0.5 else 0, h(x, w)))\n",
    "               \n",
    "    Ynew = np.array(Ynew)\n",
    "    Ynew = Ynew.reshape(-1,1)\n",
    "    suma = (y == Ynew).sum()\n",
    "    \n",
    "    a = suma/len(y)\n",
    "    \n",
    "    return a, suma\n",
    "\n",
    "accTrain, tptnTrain = accuracy(xTrain, yTrain, w)\n",
    "accTest, tptnTest = accuracy(xTest, yTest, w)\n",
    "print('Training accuracy:', accTrain, tptnTrain, 'out of', len(yTrain))\n",
    "print('Testing accuracy:', accTest, tptnTest, 'out of', len(yTest))"
   ]
  },
  {
   "cell_type": "markdown",
   "metadata": {},
   "source": [
    "### 4.2 Sensitivity and Specificity (FPR and TPR)\n",
    "\n",
    "Sensitivity (Recall, true positive rate (TPR): $$ TPR = \\frac{TP}{TP + FN} $$\n",
    "Specificity: $$ S_p = \\frac{TN}{TN + FP} $$\n",
    "False positive rate (FPR, 1 - Specificity): $$ FPR = \\frac{FP}{FP + TN} $$"
   ]
  },
  {
   "cell_type": "code",
   "execution_count": 11,
   "metadata": {},
   "outputs": [
    {
     "name": "stdout",
     "output_type": "stream",
     "text": [
      "Prediction shape:  (306,)\n",
      "Values:  {'TP': 5, 'TN': 167, 'FN': 59, 'FP': 13}\n",
      "Sensitivity (TPR): 0.08 portion were correctly classified as TP\n",
      "FPR: 0.07 portion were classified as FP\n"
     ]
    }
   ],
   "source": [
    "# 4.2 Obtain TPR and FPR\n",
    "\n",
    "# a) Define the prediction function for a variable threshold\n",
    "def predict(p, threshold):\n",
    "    return list(map(lambda x: 1 if x >= threshold else 0, p))\n",
    "\n",
    "# b) Define the values function, where you can count the tp, tn, fp, and fn\n",
    "def values(y, pred):\n",
    "    tp = tn = fn = fp = 0\n",
    "    \n",
    "    for i in range(len(y)):\n",
    "        tp += 1 if (y[i] and pred[i]) else 0\n",
    "        fp += 1 if (not y[i] and pred[i]) else 0\n",
    "        tn += 1 if (not y[i] and not pred[i]) else 0\n",
    "        fn += 1 if (y[i] and not pred[i]) else 0\n",
    "    \n",
    "    V = {'TP': tp, 'TN': tn, 'FN': fn, 'FP': fp}\n",
    "    return V\n",
    "\n",
    "# c) Define the TPR function\n",
    "def tpr(V):\n",
    "    return V['TP'] / (V['TP'] + V['FN'])\n",
    "\n",
    "# d) Define the FPR function\n",
    "def fpr(V):    \n",
    "    return V['FP'] / (V['FP'] + V['TN'])\n",
    "\n",
    "# Test your functions\n",
    "pred = predict(h(x, w), 0.5)\n",
    "Val = values(yTrain, pred)\n",
    "print('Prediction shape: ', np.shape(pred))\n",
    "print('Values: ',Val)\n",
    "\n",
    "print('Sensitivity (TPR): %.2F'% tpr(Val), 'portion were correctly classified as TP')\n",
    "print('FPR: %.2F'% fpr(Val), 'portion were classified as FP')"
   ]
  },
  {
   "cell_type": "markdown",
   "metadata": {},
   "source": [
    "### 4.3 ROC Curve\n",
    "\n",
    "\n",
    "The ROC Curve is calculated using the TPR (True Positive Rate) or Sensitivity and FPR (False Positive Rate) or (1 - Specificity).\n",
    "\n",
    "In order to obtain different values of TPR and FPR, it is important to calculate them with different thresholds in the prediction. In this case we will calculate TPR and FPR with ten different thresholds, from 0.0 to 1.0, with a step of 0.005.\n",
    "\n",
    "So the prediction must obtain different values of the output with different thresholds."
   ]
  },
  {
   "cell_type": "code",
   "execution_count": 12,
   "metadata": {},
   "outputs": [
    {
     "data": {
      "image/png": "[encoded data removed]",
      "text/plain": [
       "<Figure size 432x288 with 1 Axes>"
      ]
     },
     "metadata": {
      "needs_background": "light"
     },
     "output_type": "display_data"
    }
   ],
   "source": [
    "# p = h(x, w)\n",
    "# i it's each threshold value\n",
    "\n",
    "def ROC(y, p):\n",
    "    thrs = np.arange(0, 1, 0.005)\n",
    "    TPR = np.zeros(len(thrs))\n",
    "    FPR = np.zeros(len(thrs))\n",
    "    \n",
    "    for i in range(len(thrs)):\n",
    "        pred = predict(p, thrs[i])\n",
    "        TPR[i] = tpr(values(y, pred))\n",
    "        FPR[i] = fpr(values(y, pred))\n",
    "    \n",
    "    return TPR, FPR\n",
    "\n",
    "#ROC curve for Training\n",
    "Tpr, Fpr = ROC(yTrain, h(xTrain, w))\n",
    "plt.plot([0, 1], [0, 1], 'k--')\n",
    "plt.plot(Fpr, Tpr, '-', label = \"Train\")\n",
    "\n",
    "#ROC curve for Testing\n",
    "Tpr1, Fpr1 = ROC(yTest, h(xTest, w))\n",
    "plt.plot(Fpr1, Tpr1, '-', label = \"Test\")\n",
    "\n",
    "#Plot the curves\n",
    "plt.xlabel('FPR')\n",
    "plt.ylabel('TPR');\n",
    "plt.legend()\n",
    "plt.title('Receiver Operating Characteristic');"
   ]
  },
  {
   "cell_type": "code",
   "execution_count": 13,
   "metadata": {},
   "outputs": [
    {
     "name": "stdout",
     "output_type": "stream",
     "text": [
      "AUC Training:  0.7055555555555555\n",
      "AUC Testing:  0.664052287581699\n"
     ]
    }
   ],
   "source": [
    "# AUC (Area under curve) calculus\n",
    "rectangle_roc = 0 # Training\n",
    "rectangle_roc1 = 0 # Testing\n",
    "\n",
    "# AUC for Training\n",
    "for i in range(len(Tpr) - 1):\n",
    "    rectangle_roc += (Fpr[i] - Fpr[i + 1]) * Tpr[i]\n",
    "else:\n",
    "    print('AUC Training: ', rectangle_roc)\n",
    "\n",
    "# AUC for Testing\n",
    "for i in range(len(Tpr) - 1):\n",
    "    rectangle_roc1 += (Fpr1[i] - Fpr1[i + 1]) * Tpr1[i]\n",
    "else:\n",
    "    print('AUC Testing: ', rectangle_roc1)"
   ]
  },
  {
   "cell_type": "code",
   "execution_count": 14,
   "metadata": {},
   "outputs": [
    {
     "data": {
      "text/plain": [
       "[<matplotlib.lines.Line2D at 0x2701e773580>]"
      ]
     },
     "execution_count": 14,
     "metadata": {},
     "output_type": "execute_result"
    },
    {
     "data": {
      "image/png": "[encoded data removed]",
      "text/plain": [
       "<Figure size 432x288 with 1 Axes>"
      ]
     },
     "metadata": {
      "needs_background": "light"
     },
     "output_type": "display_data"
    }
   ],
   "source": [
    "# Specificity and Sensitivity behaviour\n",
    "thrs = np.arange(0, 1, 0.005)\n",
    "plt.plot(thrs, Tpr)\n",
    "plt.plot(thrs, 1 - Fpr)"
   ]
  },
  {
   "cell_type": "markdown",
   "metadata": {},
   "source": [
    "### 4. 4 Confusion Matrix"
   ]
  },
  {
   "cell_type": "markdown",
   "metadata": {},
   "source": [
    "The Confusion matrix is a table that is often used to describe the performance of a classification model.\n",
    "\n",
    "We will use a function already defined in the sklearn library:"
   ]
  },
  {
   "cell_type": "code",
   "execution_count": 15,
   "metadata": {},
   "outputs": [
    {
     "name": "stdout",
     "output_type": "stream",
     "text": [
      "[[172   8]\n",
      " [ 53  11]]\n"
     ]
    }
   ],
   "source": [
    "from sklearn.metrics import confusion_matrix\n",
    "\n",
    "pred = predict(h(xTrain, w), 0.5)\n",
    "cm = confusion_matrix(yTrain, pred)\n",
    "print(cm)"
   ]
  },
  {
   "cell_type": "markdown",
   "metadata": {},
   "source": [
    "For plotting the Confusion Matrix we will use the next function:"
   ]
  },
  {
   "cell_type": "code",
   "execution_count": 16,
   "metadata": {},
   "outputs": [
    {
     "data": {
      "image/png": "[encoded data removed]",
      "text/plain": [
       "<Figure size 360x360 with 2 Axes>"
      ]
     },
     "metadata": {
      "needs_background": "light"
     },
     "output_type": "display_data"
    }
   ],
   "source": [
    "def plot_confusion_matrix(values, classes):\n",
    "    import itertools\n",
    "    m, n = values.shape\n",
    "\n",
    "    accuracy = np.trace(values) / float(np.sum(values))\n",
    "    misclass = 1 - accuracy\n",
    "\n",
    "    plt.figure(figsize=(5, 5))\n",
    "    plt.imshow(values, interpolation='nearest', cmap=plt.get_cmap('Blues'))\n",
    "    plt.title('Confusion matrix')\n",
    "    plt.colorbar()\n",
    "\n",
    "    marks = np.arange(len(classes))\n",
    "    plt.xticks(marks, classes, rotation=45)\n",
    "    plt.yticks(marks, classes)\n",
    "\n",
    "    thresh = values.max() / 2\n",
    "    for i, j in itertools.product(range(m), range(n)):\n",
    "        plt.text(j, i, \"{:,}\".format(values[i, j]),\n",
    "                 horizontalalignment=\"center\",\n",
    "                 color=\"white\" if values[i, j] > thresh else \"black\")\n",
    "    plt.tight_layout()\n",
    "    plt.ylabel('Predicted label')\n",
    "    plt.xlabel('True label\\naccuracy={:0.4f}; misclass={:0.4f}'.format(accuracy, misclass))\n",
    "    plt.show()\n",
    "    \n",
    "# Testing the function\n",
    "plot_confusion_matrix(values = cm, classes = ['0', '1'])"
   ]
  },
  {
   "cell_type": "code",
   "execution_count": null,
   "metadata": {},
   "outputs": [],
   "source": []
  }
 ],
 "metadata": {
  "kernelspec": {
   "display_name": "Python 3 (ipykernel)",
   "language": "python",
   "name": "python3"
  },
  "language_info": {
   "codemirror_mode": {
    "name": "ipython",
    "version": 3
   },
   "file_extension": ".py",
   "mimetype": "text/x-python",
   "name": "python",
   "nbconvert_exporter": "python",
   "pygments_lexer": "ipython3",
   "version": "3.9.12"
  }
 },
 "nbformat": 4,
 "nbformat_minor": 2
}
