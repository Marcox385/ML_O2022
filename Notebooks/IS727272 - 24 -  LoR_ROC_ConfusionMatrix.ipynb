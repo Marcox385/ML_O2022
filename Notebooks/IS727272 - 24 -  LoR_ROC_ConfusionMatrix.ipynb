{
 "cells": [
  {
   "cell_type": "markdown",
   "id": "dd156c8a",
   "metadata": {},
   "source": [
    "### IS727272 - Cordero Hernández, Marco Ricardo"
   ]
  },
  {
   "cell_type": "markdown",
   "id": "e4c151bd",
   "metadata": {},
   "source": [
    "## Banknote dataset\n",
    "\n",
    "Obtain the Accuracy, the Specificity and Sensitivity, the ROC Curve, AUC, and Confusion Matrix for the Banknote dataset."
   ]
  },
  {
   "cell_type": "code",
   "execution_count": 1,
   "id": "8bc81c03",
   "metadata": {},
   "outputs": [],
   "source": [
    "# Import libraries\n",
    "import numpy as np\n",
    "import pandas as pd\n",
    "from sklearn.model_selection import train_test_split\n",
    "import matplotlib.pyplot as plt"
   ]
  },
  {
   "cell_type": "code",
   "execution_count": 2,
   "id": "2c1d3a3b",
   "metadata": {},
   "outputs": [
    {
     "name": "stdout",
     "output_type": "stream",
     "text": [
      "Rows: 1372 Columns: 5\n",
      "x: (1372, 4)\n",
      "y: (1372, 1)\n"
     ]
    }
   ],
   "source": [
    "# 1. Load dataset\n",
    "data = pd.read_csv('./Datasets/data_banknote_authentication.csv', header = None)\n",
    "data.head()\n",
    "\n",
    "dataset = np.array(data)\n",
    "m, n = np.shape(dataset)\n",
    "print('Rows:', m, 'Columns:', n)\n",
    "\n",
    "x = dataset[:, : n - 1]\n",
    "y = dataset[:, -1]\n",
    "y = y.reshape(-1, 1)\n",
    "print('x:', np.shape(x))\n",
    "print('y:', np.shape(y))"
   ]
  },
  {
   "cell_type": "code",
   "execution_count": 3,
   "id": "8b5120b8",
   "metadata": {},
   "outputs": [],
   "source": [
    "# Normalize\n",
    "def normalize(x):\n",
    "    x_norm = (x - np.mean(x, axis=0)) / np.std(x,axis=0)\n",
    "    return x_norm\n",
    "\n",
    "X_norm = normalize(x)"
   ]
  },
  {
   "cell_type": "code",
   "execution_count": 4,
   "id": "2844cefc",
   "metadata": {},
   "outputs": [
    {
     "name": "stdout",
     "output_type": "stream",
     "text": [
      "(1372, 4)\n",
      "x shape:  (1372, 5)\n",
      "Split X 1372 rows into train with 1097 and test with 275\n",
      "Split Y 1372 rows into train with 1097 and test with 275\n",
      "xTrain shape: (1097, 5) yTrain shape: (1097, 1)\n",
      "xTest shape: (275, 5) yTest shape: (275, 1)\n"
     ]
    }
   ],
   "source": [
    "# 2. Prepare data: add Bias and split dataset\n",
    "\n",
    "print(np.shape(X_norm))\n",
    "\n",
    "def Bias(X):\n",
    "    ones = np.ones((len(X),1))\n",
    "    X1 = np.concatenate((ones, X), axis=1)\n",
    "    return X1\n",
    "\n",
    "x = Bias(X_norm)\n",
    "\n",
    "print('x shape: ', np.shape(x))\n",
    "\n",
    "test_size = 0.2\n",
    "xTrain, xTest, yTrain, yTest = train_test_split(x, y,test_size = test_size)\n",
    "print('Split X', len(x), 'rows into train with', len(xTrain), 'and test with', len(xTest))\n",
    "print('Split Y', len(y), 'rows into train with', len(yTrain), 'and test with', len(yTest))\n",
    "\n",
    "yTrain = yTrain.reshape(-1,1)\n",
    "yTest = yTest.reshape(-1,1)\n",
    "\n",
    "print('xTrain shape:',np.shape(xTrain), 'yTrain shape:', np.shape(yTrain))\n",
    "print('xTest shape:', np.shape(xTest), 'yTest shape:', np.shape(yTest))"
   ]
  },
  {
   "cell_type": "code",
   "execution_count": 5,
   "id": "7fd8f33b",
   "metadata": {},
   "outputs": [],
   "source": [
    "# 3.1 Logistic function\n",
    "def h(x, w):\n",
    "    wx = np.dot(x, w.T)\n",
    "    z = 1 / (1 + np.exp(-wx))\n",
    "    return z"
   ]
  },
  {
   "cell_type": "code",
   "execution_count": 6,
   "id": "1ec70833",
   "metadata": {},
   "outputs": [],
   "source": [
    "# 3.2 Cost function\n",
    "def cost(x, y, w):\n",
    "    m, n = np.shape(x)\n",
    "    c = (-1 / m)*np.sum(y * np.log(h(x, w)) + (1 - y) * np.log((1 - h(x, w))))\n",
    "    return c"
   ]
  },
  {
   "cell_type": "code",
   "execution_count": 7,
   "id": "48905d2e",
   "metadata": {},
   "outputs": [],
   "source": [
    "# 3.3 Gradient function\n",
    "def grad(x, y, w):\n",
    "    m, n = np.shape(x)\n",
    "    g = (1 / m) * np.dot(x.T,(h(x, w)-y))\n",
    "    return g"
   ]
  },
  {
   "cell_type": "code",
   "execution_count": 8,
   "id": "aadd9f43",
   "metadata": {},
   "outputs": [],
   "source": [
    "# 3.4 Gradient Descent function\n",
    "def gd(x, y, w, alpha = 0.001, its = 1000):\n",
    "    it = 0\n",
    "    costo = 0\n",
    "    J = {}\n",
    "    while it < its:\n",
    "        # Gradient\n",
    "        gradiente = grad(x, y, w)\n",
    "            \n",
    "        # Cost function\n",
    "        costo = cost(x, y, w)\n",
    "            \n",
    "        # Updating w\n",
    "        w = w - alpha * gradiente.T\n",
    "                \n",
    "        # Storing cost\n",
    "        J[it] = costo\n",
    "   \n",
    "        it += 1\n",
    "              \n",
    "    return w, J"
   ]
  },
  {
   "cell_type": "code",
   "execution_count": 9,
   "id": "8cb5d007",
   "metadata": {},
   "outputs": [
    {
     "name": "stdout",
     "output_type": "stream",
     "text": [
      "Initial Cost (training data): 0.6931471805599453\n",
      "Cost after training (training data): 0.08062053617951113\n",
      "Cost after training (testing data): 0.08890997191082502\n",
      "W: [[-0.74481665 -3.55171875 -2.90065918 -2.6934041   0.2494614 ]]\n"
     ]
    },
    {
     "data": {
      "image/png": "[encoded data removed]",
      "text/plain": [
       "<Figure size 432x288 with 1 Axes>"
      ]
     },
     "metadata": {
      "needs_background": "light"
     },
     "output_type": "display_data"
    }
   ],
   "source": [
    "# Test the gradient descent\n",
    "alpha = 0.1\n",
    "its = 1000\n",
    "\n",
    "m, n = np.shape(x)\n",
    "w = np.zeros((1, n))\n",
    "\n",
    "print('Initial Cost (training data):', cost(xTrain, yTrain, w))\n",
    "\n",
    "# Gradient\n",
    "w, J = gd(xTrain, yTrain, w, alpha, its)\n",
    "\n",
    "print('Cost after training (training data):', cost(xTrain, yTrain, w))\n",
    "print('Cost after training (testing data):', cost(xTest, yTest, w))\n",
    "\n",
    "print('W:',w)\n",
    "\n",
    "# Plot the cost over the iterations\n",
    "plt.plot(J.keys(), J.values())\n",
    "plt.xlabel('Iterations')\n",
    "plt.ylabel('Cost');"
   ]
  },
  {
   "cell_type": "code",
   "execution_count": 10,
   "id": "2a48716b",
   "metadata": {},
   "outputs": [
    {
     "name": "stdout",
     "output_type": "stream",
     "text": [
      "Training accuracy: 0.9762989972652689 1071 out of 1097\n",
      "Testing accuracy: 0.9781818181818182 269 out of 275\n"
     ]
    }
   ],
   "source": [
    "# 4.1 Accuracy\n",
    "\n",
    "def accuracy(x, y, w):\n",
    "    \n",
    "    Ynew = list(map(lambda x: 1 if x >= 0.5 else 0, h(x, w)))\n",
    "               \n",
    "    Ynew = np.array(Ynew)\n",
    "    Ynew = Ynew.reshape(-1,1)\n",
    "    suma = (y == Ynew).sum()\n",
    "    \n",
    "    a = suma/len(y)\n",
    "    \n",
    "    return a, suma\n",
    "\n",
    "accTrain, tptnTrain = accuracy(xTrain, yTrain, w)\n",
    "accTest, tptnTest = accuracy(xTest, yTest, w)\n",
    "print('Training accuracy:', accTrain, tptnTrain, 'out of', len(yTrain))\n",
    "print('Testing accuracy:', accTest, tptnTest, 'out of', len(yTest))"
   ]
  },
  {
   "cell_type": "code",
   "execution_count": 11,
   "id": "e693ae81",
   "metadata": {},
   "outputs": [
    {
     "name": "stdout",
     "output_type": "stream",
     "text": [
      "Prediction shape:  (1372,)\n",
      "Values:  {'TP': 169, 'TN': 410, 'FN': 326, 'FP': 192}\n",
      "Sensitivity (TPR): 0.34 portion were correctly classified as TP\n",
      "FPR: 0.32 portion were classified as FP\n"
     ]
    }
   ],
   "source": [
    "# 4.2 Obtain TPR and FPR\n",
    "\n",
    "# a) Define the prediction function for a variable threshold\n",
    "def predict(p, threshold):\n",
    "    return list(map(lambda x: 1 if x >= threshold else 0, p))\n",
    "\n",
    "# b) Define the values function, where you can count the tp, tn, fp, and fn\n",
    "def values(y, pred):\n",
    "    tp = tn = fn = fp = 0\n",
    "    \n",
    "    for i in range(len(y)):\n",
    "        tp += 1 if (y[i] and pred[i]) else 0\n",
    "        fp += 1 if (not y[i] and pred[i]) else 0\n",
    "        tn += 1 if (not y[i] and not pred[i]) else 0\n",
    "        fn += 1 if (y[i] and not pred[i]) else 0\n",
    "    \n",
    "    V = {'TP': tp, 'TN': tn, 'FN': fn, 'FP': fp}\n",
    "    return V\n",
    "\n",
    "# c) Define the TPR function\n",
    "def tpr(V):\n",
    "    return V['TP'] / (V['TP'] + V['FN'])\n",
    "\n",
    "# d) Define the FPR function\n",
    "def fpr(V):    \n",
    "    return V['FP'] / (V['FP'] + V['TN'])\n",
    "\n",
    "# Test your functions\n",
    "pred = predict(h(x, w), 0.5)\n",
    "Val = values(yTrain, pred)\n",
    "print('Prediction shape: ', np.shape(pred))\n",
    "print('Values: ',Val)\n",
    "\n",
    "print('Sensitivity (TPR): %.2F'% tpr(Val), 'portion were correctly classified as TP')\n",
    "print('FPR: %.2F'% fpr(Val), 'portion were classified as FP')"
   ]
  },
  {
   "cell_type": "code",
   "execution_count": 12,
   "id": "37e2b469",
   "metadata": {},
   "outputs": [
    {
     "data": {
      "image/png": "[encoded data removed]",
      "text/plain": [
       "<Figure size 432x288 with 1 Axes>"
      ]
     },
     "metadata": {
      "needs_background": "light"
     },
     "output_type": "display_data"
    }
   ],
   "source": [
    "# p = h(x, w)\n",
    "# i it's each threshold value\n",
    "\n",
    "def ROC(y, p):\n",
    "    thrs = np.arange(0, 1, 0.005)\n",
    "    TPR = np.zeros(len(thrs))\n",
    "    FPR = np.zeros(len(thrs))\n",
    "    \n",
    "    for i in range(len(thrs)):\n",
    "        pred = predict(p, thrs[i])\n",
    "        TPR[i] = tpr(values(y, pred))\n",
    "        FPR[i] = fpr(values(y, pred))\n",
    "    \n",
    "    return TPR, FPR\n",
    "\n",
    "#ROC curve for Training\n",
    "Tpr, Fpr = ROC(yTrain, h(xTrain, w))\n",
    "plt.plot([0, 1], [0, 1], 'k--')\n",
    "plt.plot(Fpr, Tpr, '-', label = \"Train\")\n",
    "\n",
    "#ROC curve for Testing\n",
    "Tpr1, Fpr1 = ROC(yTest, h(xTest, w))\n",
    "plt.plot(Fpr1, Tpr1, '-', label = \"Test\")\n",
    "\n",
    "#Plot the curves\n",
    "plt.xlabel('FPR')\n",
    "plt.ylabel('TPR');\n",
    "plt.legend()\n",
    "plt.title('Receiver Operating Characteristic');"
   ]
  },
  {
   "cell_type": "code",
   "execution_count": 13,
   "id": "9dbe3049",
   "metadata": {},
   "outputs": [
    {
     "name": "stdout",
     "output_type": "stream",
     "text": [
      "AUC Training:  0.9991878922111481\n",
      "AUC Testing:  0.9990217391304347\n"
     ]
    }
   ],
   "source": [
    "# AUC (Area under curve) calculus\n",
    "rectangle_roc = 0 # Training\n",
    "rectangle_roc1 = 0 # Testing\n",
    "\n",
    "# AUC for Training\n",
    "for i in range(len(Tpr) - 1):\n",
    "    rectangle_roc += (Fpr[i] - Fpr[i + 1]) * Tpr[i]\n",
    "else:\n",
    "    print('AUC Training: ', rectangle_roc)\n",
    "\n",
    "# AUC for Testing\n",
    "for i in range(len(Tpr) - 1):\n",
    "    rectangle_roc1 += (Fpr1[i] - Fpr1[i + 1]) * Tpr1[i]\n",
    "else:\n",
    "    print('AUC Testing: ', rectangle_roc1)"
   ]
  },
  {
   "cell_type": "code",
   "execution_count": 14,
   "id": "6761343f",
   "metadata": {},
   "outputs": [
    {
     "data": {
      "text/plain": [
       "[<matplotlib.lines.Line2D at 0x27dc770ab50>]"
      ]
     },
     "execution_count": 14,
     "metadata": {},
     "output_type": "execute_result"
    },
    {
     "data": {
      "image/png": "[encoded data removed]",
      "text/plain": [
       "<Figure size 432x288 with 1 Axes>"
      ]
     },
     "metadata": {
      "needs_background": "light"
     },
     "output_type": "display_data"
    }
   ],
   "source": [
    "# Specificity and Sensitivity behaviour\n",
    "thrs = np.arange(0, 1, 0.005)\n",
    "plt.plot(thrs, Tpr)\n",
    "plt.plot(thrs, 1 - Fpr)"
   ]
  },
  {
   "cell_type": "code",
   "execution_count": 15,
   "id": "00fe8e91",
   "metadata": {},
   "outputs": [
    {
     "name": "stdout",
     "output_type": "stream",
     "text": [
      "[[578  24]\n",
      " [  2 493]]\n"
     ]
    }
   ],
   "source": [
    "from sklearn.metrics import confusion_matrix\n",
    "\n",
    "pred = predict(h(xTrain, w), 0.5)\n",
    "cm = confusion_matrix(yTrain, pred)\n",
    "print(cm)"
   ]
  },
  {
   "cell_type": "code",
   "execution_count": 16,
   "id": "393fd526",
   "metadata": {},
   "outputs": [
    {
     "data": {
      "image/png": "[encoded data removed]",
      "text/plain": [
       "<Figure size 360x360 with 2 Axes>"
      ]
     },
     "metadata": {
      "needs_background": "light"
     },
     "output_type": "display_data"
    }
   ],
   "source": [
    "def plot_confusion_matrix(values, classes):\n",
    "    import itertools\n",
    "    m, n = values.shape\n",
    "\n",
    "    accuracy = np.trace(values) / float(np.sum(values))\n",
    "    misclass = 1 - accuracy\n",
    "\n",
    "    plt.figure(figsize=(5, 5))\n",
    "    plt.imshow(values, interpolation='nearest', cmap=plt.get_cmap('Blues'))\n",
    "    plt.title('Confusion matrix')\n",
    "    plt.colorbar()\n",
    "\n",
    "    marks = np.arange(len(classes))\n",
    "    plt.xticks(marks, classes, rotation=45)\n",
    "    plt.yticks(marks, classes)\n",
    "\n",
    "    thresh = values.max() / 2\n",
    "    for i, j in itertools.product(range(m), range(n)):\n",
    "        plt.text(j, i, \"{:,}\".format(values[i, j]),\n",
    "                 horizontalalignment=\"center\",\n",
    "                 color=\"white\" if values[i, j] > thresh else \"black\")\n",
    "    plt.tight_layout()\n",
    "    plt.ylabel('Predicted label')\n",
    "    plt.xlabel('True label\\naccuracy={:0.4f}; misclass={:0.4f}'.format(accuracy, misclass))\n",
    "    plt.show()\n",
    "    \n",
    "# Testing the function\n",
    "plot_confusion_matrix(values = cm, classes = ['0', '1'])"
   ]
  }
 ],
 "metadata": {
  "kernelspec": {
   "display_name": "Python 3 (ipykernel)",
   "language": "python",
   "name": "python3"
  },
  "language_info": {
   "codemirror_mode": {
    "name": "ipython",
    "version": 3
   },
   "file_extension": ".py",
   "mimetype": "text/x-python",
   "name": "python",
   "nbconvert_exporter": "python",
   "pygments_lexer": "ipython3",
   "version": "3.9.12"
  }
 },
 "nbformat": 4,
 "nbformat_minor": 5
}
