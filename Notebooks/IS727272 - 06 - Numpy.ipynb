{
 "cells": [
  {
   "cell_type": "markdown",
   "metadata": {},
   "source": [
    "### IS727272 - Cordero Hernández, Marco Ricardo"
   ]
  },
  {
   "cell_type": "markdown",
   "metadata": {},
   "source": [
    "# 6. Numpy\n",
    "\n",
    "Numpy es un paquete que provee a Python con arreglos multidimensionales (vectores o matrices) de alta eficiencia y diseñados para cálculo científico.\n",
    "\n",
    "https://numpy.org/\n",
    "\n",
    "Para utilizar este módulo es necesario importarlo:"
   ]
  },
  {
   "cell_type": "code",
   "execution_count": 1,
   "metadata": {},
   "outputs": [],
   "source": [
    "import numpy as np"
   ]
  },
  {
   "cell_type": "code",
   "execution_count": 2,
   "metadata": {},
   "outputs": [
    {
     "name": "stdout",
     "output_type": "stream",
     "text": [
      "[0 0 0 0 0 0 0 0 0 0 0 0 0 0 0 0 0 0 0 0]\n"
     ]
    }
   ],
   "source": [
    "#Array de Zeros\n",
    "print(np.zeros(20, dtype=int))"
   ]
  },
  {
   "cell_type": "code",
   "execution_count": 3,
   "metadata": {},
   "outputs": [
    {
     "name": "stdout",
     "output_type": "stream",
     "text": [
      "[1 1 1 1 1 1 1 1 1 1 1 1 1 1 1 1 1 1 1 1]\n"
     ]
    }
   ],
   "source": [
    "#Array de unos\n",
    "print(np.ones(20, dtype=int))"
   ]
  },
  {
   "cell_type": "code",
   "execution_count": 4,
   "metadata": {},
   "outputs": [
    {
     "name": "stdout",
     "output_type": "stream",
     "text": [
      "[0 1 2 3 4 5 6 7 8 9]\n"
     ]
    }
   ],
   "source": [
    "#Array de numeros consecutivos que inicien con 0\n",
    "print(np.arange(10))"
   ]
  },
  {
   "cell_type": "code",
   "execution_count": 5,
   "metadata": {},
   "outputs": [
    {
     "name": "stdout",
     "output_type": "stream",
     "text": [
      "[ 2  5  8 11 14 17 20]\n"
     ]
    }
   ],
   "source": [
    "#Array de numeros que inicien en 2 finalicen en 20 y vayan de 3 en 3\n",
    "print(np.arange(2, 21, 3))"
   ]
  },
  {
   "cell_type": "code",
   "execution_count": 6,
   "metadata": {},
   "outputs": [
    {
     "name": "stdout",
     "output_type": "stream",
     "text": [
      "[ 0  1  2  3  4  5  6  7  8  9 10 11 12 13 14 15 16 17 18 19 20]\n"
     ]
    }
   ],
   "source": [
    "#Array a partir de una lista\n",
    "lista = list(range(21))\n",
    "print(np.array(lista))"
   ]
  },
  {
   "cell_type": "code",
   "execution_count": 7,
   "metadata": {},
   "outputs": [
    {
     "name": "stdout",
     "output_type": "stream",
     "text": [
      "[[ 0  1  2  3  4  5  6  7  8  9 10 11 12 13 14 15 16 17 18 19 20]\n",
      " [20 19 18 17 16 15 14 13 12 11 10  9  8  7  6  5  4  3  2  1  0]]\n"
     ]
    }
   ],
   "source": [
    "#Array doble o matriz\n",
    "l = [[i for i in range(21)], [j for j in range(20, -1, -1)]]\n",
    "arr = np.array(l)\n",
    "matr = np.asmatrix(arr)\n",
    "\n",
    "print(matr)"
   ]
  },
  {
   "cell_type": "code",
   "execution_count": 8,
   "metadata": {},
   "outputs": [
    {
     "name": "stdout",
     "output_type": "stream",
     "text": [
      "(2, 21)\n"
     ]
    }
   ],
   "source": [
    "#Imprimir las dimensiones del array o la matriz\n",
    "# print(matr.ndim)\n",
    "print(matr.shape)"
   ]
  },
  {
   "cell_type": "code",
   "execution_count": 9,
   "metadata": {},
   "outputs": [
    {
     "name": "stdout",
     "output_type": "stream",
     "text": [
      "<class 'numpy.matrix'>\n"
     ]
    }
   ],
   "source": [
    "#Imprimir el tipo del array\n",
    "print(type(matr))"
   ]
  },
  {
   "cell_type": "markdown",
   "metadata": {},
   "source": [
    "## 6.2 Operaciones con arrays"
   ]
  },
  {
   "cell_type": "code",
   "execution_count": 10,
   "metadata": {},
   "outputs": [
    {
     "name": "stdout",
     "output_type": "stream",
     "text": [
      "[0 1 2 3]\n",
      "[4 5 6 7]\n"
     ]
    }
   ],
   "source": [
    "#Crear dos arrays de dimensión (1,4) de numeros consecutivos\n",
    "dim_arr = np.arange(4) #.reshape((1,4))\n",
    "dim_arr_2 = np.arange(4, 8) #.reshape((1,4))\n",
    "\n",
    "print(dim_arr, dim_arr_2, sep='\\n')"
   ]
  },
  {
   "cell_type": "code",
   "execution_count": 11,
   "metadata": {},
   "outputs": [
    {
     "name": "stdout",
     "output_type": "stream",
     "text": [
      "[0 3 6 9]\n"
     ]
    }
   ],
   "source": [
    "#Multiplicar el array por una constante\n",
    "print(np.multiply(dim_arr, 3))\n",
    "# dim_arr * n es equivalente"
   ]
  },
  {
   "cell_type": "code",
   "execution_count": 12,
   "metadata": {},
   "outputs": [
    {
     "name": "stdout",
     "output_type": "stream",
     "text": [
      "[20 21 22 23]\n"
     ]
    }
   ],
   "source": [
    "#Sumarle al array una constante a todos los elementos\n",
    "print(np.add(dim_arr, 20))"
   ]
  },
  {
   "cell_type": "code",
   "execution_count": 13,
   "metadata": {},
   "outputs": [
    {
     "name": "stdout",
     "output_type": "stream",
     "text": [
      "[[  0  35  70 105]\n",
      " [140 175 210 245]]\n"
     ]
    }
   ],
   "source": [
    "#Formar una matriz con los dos arrays y multiplicarle una constante\n",
    "#dim_arr_res = np.array([dim_arr, dim_arr_2])\n",
    "dim_mat = np.matrix([dim_arr, dim_arr_2])\n",
    "\n",
    "print(np.multiply(dim_mat, 35))"
   ]
  },
  {
   "cell_type": "markdown",
   "metadata": {},
   "source": [
    "## 6.3 Indexación \n"
   ]
  },
  {
   "cell_type": "code",
   "execution_count": 14,
   "metadata": {},
   "outputs": [
    {
     "name": "stdout",
     "output_type": "stream",
     "text": [
      "[ 0  1  2  3  4  5  6  7  8  9 10]\n"
     ]
    }
   ],
   "source": [
    "#Crear un array de (0,10) de numeros consecutivos\n",
    "arr1 = np.arange(11)\n",
    "print(arr1)"
   ]
  },
  {
   "cell_type": "code",
   "execution_count": 15,
   "metadata": {},
   "outputs": [
    {
     "name": "stdout",
     "output_type": "stream",
     "text": [
      "[0 1 2]\n"
     ]
    }
   ],
   "source": [
    "#Separar los primeros tres elementos del array (slicing)\n",
    "print(arr1[:3])"
   ]
  },
  {
   "cell_type": "code",
   "execution_count": 16,
   "metadata": {},
   "outputs": [
    {
     "name": "stdout",
     "output_type": "stream",
     "text": [
      "[2 3 4]\n"
     ]
    }
   ],
   "source": [
    "#Separa del segundo al cuarto elemento del array\n",
    "print(arr1[2:5])"
   ]
  },
  {
   "cell_type": "code",
   "execution_count": 17,
   "metadata": {},
   "outputs": [
    {
     "name": "stdout",
     "output_type": "stream",
     "text": [
      "[ 0  1  2  3  4  5  6  7  8  9 10]\n"
     ]
    }
   ],
   "source": [
    "#Hacer una copia del array\n",
    "arr_copy = arr1.copy()\n",
    "\n",
    "print(arr_copy)"
   ]
  },
  {
   "cell_type": "code",
   "execution_count": 18,
   "metadata": {},
   "outputs": [
    {
     "name": "stdout",
     "output_type": "stream",
     "text": [
      "[20 20 20  3  4  5  6  7  8  9 10]\n"
     ]
    }
   ],
   "source": [
    "#Asignar el número 20 a los primero 3 elementos del array\n",
    "arr1[0:3] = 20\n",
    "\n",
    "print(arr1)"
   ]
  },
  {
   "cell_type": "code",
   "execution_count": 19,
   "metadata": {},
   "outputs": [
    {
     "name": "stdout",
     "output_type": "stream",
     "text": [
      "(3, 3)\n"
     ]
    }
   ],
   "source": [
    "#Hacer una matriz de 3 x 3 e imprimir sus dimensiones\n",
    "# arr_mult_3 = np.matrix([[1, 2, 3], [4, 5, 6], [7, 8, 9]])\n",
    "arr_mult_3 = np.array([[1, 2, 3], [4, 5, 6], [7, 8, 9]])\n",
    "\n",
    "# print(arr_mult_3.ndim)\n",
    "print(arr_mult_3.shape)"
   ]
  },
  {
   "cell_type": "code",
   "execution_count": 20,
   "metadata": {},
   "outputs": [
    {
     "name": "stdout",
     "output_type": "stream",
     "text": [
      "[4 5 6]\n"
     ]
    }
   ],
   "source": [
    "#Imprimir la segunda fila de la matriz\n",
    "print(arr_mult_3[1])"
   ]
  },
  {
   "cell_type": "code",
   "execution_count": 21,
   "metadata": {},
   "outputs": [
    {
     "name": "stdout",
     "output_type": "stream",
     "text": [
      "5\n"
     ]
    }
   ],
   "source": [
    "#Imprimir el elemento (1,1) de la matriz\n",
    "print(arr_mult_3[1][1])"
   ]
  },
  {
   "cell_type": "markdown",
   "metadata": {},
   "source": [
    "## 6.4 Transponer matrices"
   ]
  },
  {
   "cell_type": "code",
   "execution_count": 22,
   "metadata": {},
   "outputs": [
    {
     "name": "stdout",
     "output_type": "stream",
     "text": [
      "[[1 4 7]\n",
      " [2 5 8]\n",
      " [3 6 9]]\n"
     ]
    }
   ],
   "source": [
    "#Transponer la matriz utilizada en el ejercicio anterior\n",
    "array_T = arr_mult_3.T\n",
    "print(array_T)"
   ]
  },
  {
   "cell_type": "markdown",
   "metadata": {},
   "source": [
    "## 6.5 Funciones con arrays\n",
    "\n",
    "- Raíz cuadrada\n",
    "- Números aleatorios\n",
    "- Suma de vectores\n"
   ]
  },
  {
   "cell_type": "code",
   "execution_count": 23,
   "metadata": {},
   "outputs": [
    {
     "name": "stdout",
     "output_type": "stream",
     "text": [
      "[[1.         1.41421356 1.73205081]\n",
      " [2.         2.23606798 2.44948974]\n",
      " [2.64575131 2.82842712 3.        ]]\n"
     ]
    }
   ],
   "source": [
    "# Raíz cuadrada\n",
    "array_raiz = np.sqrt(arr_mult_3)\n",
    "\n",
    "print(array_raiz)"
   ]
  },
  {
   "cell_type": "code",
   "execution_count": 24,
   "metadata": {},
   "outputs": [
    {
     "name": "stdout",
     "output_type": "stream",
     "text": [
      "[[0.07716542 0.98509275 0.84617261 0.69656483 0.94070702]\n",
      " [0.54517095 0.73498841 0.79868697 0.48695764 0.28206482]\n",
      " [0.77110995 0.81874619 0.86813891 0.06371143 0.10578533]]\n"
     ]
    }
   ],
   "source": [
    "# Números aleatorios\n",
    "array_random = np.random.rand(3, 5)\n",
    "\n",
    "print(array_random)"
   ]
  },
  {
   "cell_type": "code",
   "execution_count": 25,
   "metadata": {},
   "outputs": [
    {
     "name": "stdout",
     "output_type": "stream",
     "text": [
      "[[ 0  1  2  3  4]\n",
      " [ 5  6  7  8  9]\n",
      " [10 11 12 13 14]]\n",
      "[[ 0.07716542  1.98509275  2.84617261  3.69656483  4.94070702]\n",
      " [ 5.54517095  6.73498841  7.79868697  8.48695764  9.28206482]\n",
      " [10.77110995 11.81874619 12.86813891 13.06371143 14.10578533]]\n"
     ]
    }
   ],
   "source": [
    "#Suma de vectores o matrices\n",
    "array_1 = np.arange(15).reshape((3, 5))\n",
    "print(array_1)\n",
    "\n",
    "suma = np.add(array_1, array_random)\n",
    "print(suma)"
   ]
  },
  {
   "cell_type": "markdown",
   "metadata": {},
   "source": [
    "## Ejercicio adicional: multiplicación de matrices"
   ]
  },
  {
   "cell_type": "code",
   "execution_count": 26,
   "metadata": {},
   "outputs": [
    {
     "name": "stdout",
     "output_type": "stream",
     "text": [
      "[[ 8.52996055  4.92149453  3.1692996 ]\n",
      " [26.25847368 19.16083848 16.30675863]\n",
      " [43.98698682 33.40018242 29.44421765]]\n"
     ]
    }
   ],
   "source": [
    "# Multiplicar matrices\n",
    "m = np.matmul(array_1, array_random.T)\n",
    "print(m)"
   ]
  },
  {
   "cell_type": "markdown",
   "metadata": {},
   "source": [
    "## Ejercicio 1\n",
    "\n",
    "Crear la funcion \"pares\" que devuelva un array o vector de números pares entre dos valores que serán parámetros de la función (inicio, fin)\n",
    "\n",
    "Probar la función \"pares\" con los números 1 y 30\n",
    "Probar la función \"pares\" con los números 2 y 40\n"
   ]
  },
  {
   "cell_type": "code",
   "execution_count": 27,
   "metadata": {},
   "outputs": [],
   "source": [
    "#Función pares\n",
    "def pares(inicio, fin):\n",
    "    try:\n",
    "        if(inicio % 2 != 0 or inicio >= fin):\n",
    "            raise ValueError(\"Error en parámetros\")\n",
    "        else:\n",
    "            return np.arange(inicio, fin + 1, 2)\n",
    "    except ValueError:\n",
    "        return 'Intenta de nuevo'"
   ]
  },
  {
   "cell_type": "code",
   "execution_count": null,
   "metadata": {},
   "outputs": [],
   "source": [
    "print(pares(1, 30))\n",
    "print(pares(2, 40))"
   ]
  }
 ],
 "metadata": {
  "kernelspec": {
   "display_name": "Python 3 (ipykernel)",
   "language": "python",
   "name": "python3"
  },
  "language_info": {
   "codemirror_mode": {
    "name": "ipython",
    "version": 3
   },
   "file_extension": ".py",
   "mimetype": "text/x-python",
   "name": "python",
   "nbconvert_exporter": "python",
   "pygments_lexer": "ipython3",
   "version": "3.9.12"
  },
  "vscode": {
   "interpreter": {
    "hash": "25c031c7aab7e36635991e7ba80cf462d31ba160a9b819b372f38ccfad64a56c"
   }
  }
 },
 "nbformat": 4,
 "nbformat_minor": 2
}
