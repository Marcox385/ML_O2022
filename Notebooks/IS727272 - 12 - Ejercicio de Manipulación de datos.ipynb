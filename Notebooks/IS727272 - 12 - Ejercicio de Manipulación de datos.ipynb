{
 "cells": [
  {
   "cell_type": "markdown",
   "metadata": {},
   "source": [
    "### IS727272 - Cordero Hernández, Marco Ricardo"
   ]
  },
  {
   "cell_type": "markdown",
   "metadata": {},
   "source": [
    "# 12. Ejercicio de Manipulación de datos\n",
    "\n",
    "### Filtrar datos de un dataframe.\n",
    "\n",
    "    1. Crear una lista de 50 valores aleatorios entre los valores de 0 a 100\n",
    "    2. Convertir esa lista en un dataframe de 5 filas por 10 columnas\n",
    "    3. Filtrar los datos del dataframe para visualizar solo los valores mayores de 50"
   ]
  },
  {
   "cell_type": "code",
   "execution_count": 1,
   "metadata": {},
   "outputs": [],
   "source": [
    "#Importar librerías\n",
    "import numpy as np\n",
    "import pandas as pd"
   ]
  },
  {
   "cell_type": "code",
   "execution_count": 2,
   "metadata": {},
   "outputs": [
    {
     "data": {
      "text/plain": [
       "array([ 86,  57,  43,  51,  59,  21,  18,  33,  59,   6,  27,  56, 100,\n",
       "        34,  61,  57,  91,  70,  51,  10,  82,  39,  37,   9,  59,  51,\n",
       "        73,   8,  12,  94,  52,  75,  15,  51,  93,  22,   4,  11,  53,\n",
       "        51,   4,  46,  47,  27,  56,  64,   2,  91,  13,  23])"
      ]
     },
     "execution_count": 2,
     "metadata": {},
     "output_type": "execute_result"
    }
   ],
   "source": [
    "#1. Crear una lista de 50 valores aleatorios entre los valores de 0 a 100\n",
    "\n",
    "lst_rand_50 = np.random.randint(0, 101, 50)\n",
    "lst_rand_50"
   ]
  },
  {
   "cell_type": "code",
   "execution_count": 3,
   "metadata": {},
   "outputs": [
    {
     "data": {
      "text/plain": [
       "array([[ 86,  57,  43,  51,  59,  21,  18,  33,  59,   6],\n",
       "       [ 27,  56, 100,  34,  61,  57,  91,  70,  51,  10],\n",
       "       [ 82,  39,  37,   9,  59,  51,  73,   8,  12,  94],\n",
       "       [ 52,  75,  15,  51,  93,  22,   4,  11,  53,  51],\n",
       "       [  4,  46,  47,  27,  56,  64,   2,  91,  13,  23]])"
      ]
     },
     "execution_count": 3,
     "metadata": {},
     "output_type": "execute_result"
    }
   ],
   "source": [
    "#Función reshape no modifica la variable\n",
    "\n",
    "lst_rand_50 = lst_rand_50.reshape(5, 10)\n",
    "lst_rand_50"
   ]
  },
  {
   "cell_type": "code",
   "execution_count": 4,
   "metadata": {},
   "outputs": [
    {
     "data": {
      "text/html": [
       "<div>\n",
       "<style scoped>\n",
       "    .dataframe tbody tr th:only-of-type {\n",
       "        vertical-align: middle;\n",
       "    }\n",
       "\n",
       "    .dataframe tbody tr th {\n",
       "        vertical-align: top;\n",
       "    }\n",
       "\n",
       "    .dataframe thead th {\n",
       "        text-align: right;\n",
       "    }\n",
       "</style>\n",
       "<table border=\"1\" class=\"dataframe\">\n",
       "  <thead>\n",
       "    <tr style=\"text-align: right;\">\n",
       "      <th></th>\n",
       "      <th>0</th>\n",
       "      <th>1</th>\n",
       "      <th>2</th>\n",
       "      <th>3</th>\n",
       "      <th>4</th>\n",
       "      <th>5</th>\n",
       "      <th>6</th>\n",
       "      <th>7</th>\n",
       "      <th>8</th>\n",
       "      <th>9</th>\n",
       "    </tr>\n",
       "  </thead>\n",
       "  <tbody>\n",
       "    <tr>\n",
       "      <th>0</th>\n",
       "      <td>86</td>\n",
       "      <td>57</td>\n",
       "      <td>43</td>\n",
       "      <td>51</td>\n",
       "      <td>59</td>\n",
       "      <td>21</td>\n",
       "      <td>18</td>\n",
       "      <td>33</td>\n",
       "      <td>59</td>\n",
       "      <td>6</td>\n",
       "    </tr>\n",
       "    <tr>\n",
       "      <th>1</th>\n",
       "      <td>27</td>\n",
       "      <td>56</td>\n",
       "      <td>100</td>\n",
       "      <td>34</td>\n",
       "      <td>61</td>\n",
       "      <td>57</td>\n",
       "      <td>91</td>\n",
       "      <td>70</td>\n",
       "      <td>51</td>\n",
       "      <td>10</td>\n",
       "    </tr>\n",
       "    <tr>\n",
       "      <th>2</th>\n",
       "      <td>82</td>\n",
       "      <td>39</td>\n",
       "      <td>37</td>\n",
       "      <td>9</td>\n",
       "      <td>59</td>\n",
       "      <td>51</td>\n",
       "      <td>73</td>\n",
       "      <td>8</td>\n",
       "      <td>12</td>\n",
       "      <td>94</td>\n",
       "    </tr>\n",
       "    <tr>\n",
       "      <th>3</th>\n",
       "      <td>52</td>\n",
       "      <td>75</td>\n",
       "      <td>15</td>\n",
       "      <td>51</td>\n",
       "      <td>93</td>\n",
       "      <td>22</td>\n",
       "      <td>4</td>\n",
       "      <td>11</td>\n",
       "      <td>53</td>\n",
       "      <td>51</td>\n",
       "    </tr>\n",
       "    <tr>\n",
       "      <th>4</th>\n",
       "      <td>4</td>\n",
       "      <td>46</td>\n",
       "      <td>47</td>\n",
       "      <td>27</td>\n",
       "      <td>56</td>\n",
       "      <td>64</td>\n",
       "      <td>2</td>\n",
       "      <td>91</td>\n",
       "      <td>13</td>\n",
       "      <td>23</td>\n",
       "    </tr>\n",
       "  </tbody>\n",
       "</table>\n",
       "</div>"
      ],
      "text/plain": [
       "    0   1    2   3   4   5   6   7   8   9\n",
       "0  86  57   43  51  59  21  18  33  59   6\n",
       "1  27  56  100  34  61  57  91  70  51  10\n",
       "2  82  39   37   9  59  51  73   8  12  94\n",
       "3  52  75   15  51  93  22   4  11  53  51\n",
       "4   4  46   47  27  56  64   2  91  13  23"
      ]
     },
     "execution_count": 4,
     "metadata": {},
     "output_type": "execute_result"
    }
   ],
   "source": [
    "#2. Convertir esa lista en un dataframe de 5 filas por 10 columnas\n",
    "\n",
    "df_lst = pd.DataFrame(lst_rand_50)\n",
    "df_lst"
   ]
  },
  {
   "cell_type": "code",
   "execution_count": 5,
   "metadata": {},
   "outputs": [
    {
     "data": {
      "text/plain": [
       "0    86\n",
       "2    82\n",
       "3    52\n",
       "Name: 0, dtype: int32"
      ]
     },
     "execution_count": 5,
     "metadata": {},
     "output_type": "execute_result"
    }
   ],
   "source": [
    "#3. Filtrar los datos del dataframe para visualizar solo los valores mayores de 50\n",
    "\n",
    "# Para primera columna\n",
    "col0 = df_lst[0]\n",
    "col0[col0 > 50]"
   ]
  },
  {
   "cell_type": "code",
   "execution_count": 6,
   "metadata": {},
   "outputs": [
    {
     "data": {
      "text/html": [
       "<div>\n",
       "<style scoped>\n",
       "    .dataframe tbody tr th:only-of-type {\n",
       "        vertical-align: middle;\n",
       "    }\n",
       "\n",
       "    .dataframe tbody tr th {\n",
       "        vertical-align: top;\n",
       "    }\n",
       "\n",
       "    .dataframe thead th {\n",
       "        text-align: right;\n",
       "    }\n",
       "</style>\n",
       "<table border=\"1\" class=\"dataframe\">\n",
       "  <thead>\n",
       "    <tr style=\"text-align: right;\">\n",
       "      <th></th>\n",
       "      <th>0</th>\n",
       "      <th>1</th>\n",
       "      <th>2</th>\n",
       "      <th>3</th>\n",
       "      <th>4</th>\n",
       "      <th>5</th>\n",
       "      <th>6</th>\n",
       "      <th>7</th>\n",
       "      <th>8</th>\n",
       "      <th>9</th>\n",
       "    </tr>\n",
       "  </thead>\n",
       "  <tbody>\n",
       "    <tr>\n",
       "      <th>0</th>\n",
       "      <td>86.0</td>\n",
       "      <td>57.0</td>\n",
       "      <td>NaN</td>\n",
       "      <td>51.0</td>\n",
       "      <td>59</td>\n",
       "      <td>NaN</td>\n",
       "      <td>NaN</td>\n",
       "      <td>NaN</td>\n",
       "      <td>59.0</td>\n",
       "      <td>NaN</td>\n",
       "    </tr>\n",
       "    <tr>\n",
       "      <th>1</th>\n",
       "      <td>NaN</td>\n",
       "      <td>56.0</td>\n",
       "      <td>100.0</td>\n",
       "      <td>NaN</td>\n",
       "      <td>61</td>\n",
       "      <td>57.0</td>\n",
       "      <td>91.0</td>\n",
       "      <td>70.0</td>\n",
       "      <td>51.0</td>\n",
       "      <td>NaN</td>\n",
       "    </tr>\n",
       "    <tr>\n",
       "      <th>2</th>\n",
       "      <td>82.0</td>\n",
       "      <td>NaN</td>\n",
       "      <td>NaN</td>\n",
       "      <td>NaN</td>\n",
       "      <td>59</td>\n",
       "      <td>51.0</td>\n",
       "      <td>73.0</td>\n",
       "      <td>NaN</td>\n",
       "      <td>NaN</td>\n",
       "      <td>94.0</td>\n",
       "    </tr>\n",
       "    <tr>\n",
       "      <th>3</th>\n",
       "      <td>52.0</td>\n",
       "      <td>75.0</td>\n",
       "      <td>NaN</td>\n",
       "      <td>51.0</td>\n",
       "      <td>93</td>\n",
       "      <td>NaN</td>\n",
       "      <td>NaN</td>\n",
       "      <td>NaN</td>\n",
       "      <td>53.0</td>\n",
       "      <td>51.0</td>\n",
       "    </tr>\n",
       "    <tr>\n",
       "      <th>4</th>\n",
       "      <td>NaN</td>\n",
       "      <td>NaN</td>\n",
       "      <td>NaN</td>\n",
       "      <td>NaN</td>\n",
       "      <td>56</td>\n",
       "      <td>64.0</td>\n",
       "      <td>NaN</td>\n",
       "      <td>91.0</td>\n",
       "      <td>NaN</td>\n",
       "      <td>NaN</td>\n",
       "    </tr>\n",
       "  </tbody>\n",
       "</table>\n",
       "</div>"
      ],
      "text/plain": [
       "      0     1      2     3   4     5     6     7     8     9\n",
       "0  86.0  57.0    NaN  51.0  59   NaN   NaN   NaN  59.0   NaN\n",
       "1   NaN  56.0  100.0   NaN  61  57.0  91.0  70.0  51.0   NaN\n",
       "2  82.0   NaN    NaN   NaN  59  51.0  73.0   NaN   NaN  94.0\n",
       "3  52.0  75.0    NaN  51.0  93   NaN   NaN   NaN  53.0  51.0\n",
       "4   NaN   NaN    NaN   NaN  56  64.0   NaN  91.0   NaN   NaN"
      ]
     },
     "execution_count": 6,
     "metadata": {},
     "output_type": "execute_result"
    }
   ],
   "source": [
    "# Para dataframe entero\n",
    "df_lst[df_lst > 50]"
   ]
  },
  {
   "cell_type": "code",
   "execution_count": 7,
   "metadata": {},
   "outputs": [
    {
     "name": "stdout",
     "output_type": "stream",
     "text": [
      "Mínimos columna 0\n",
      "0    86\n",
      "2    82\n",
      "3    52\n",
      "Name: 0, dtype: int32\n",
      "\n",
      "Mínimos columna 1\n",
      "0    57\n",
      "1    56\n",
      "3    75\n",
      "Name: 1, dtype: int32\n",
      "\n",
      "Mínimos columna 2\n",
      "1    100\n",
      "Name: 2, dtype: int32\n",
      "\n",
      "Mínimos columna 3\n",
      "0    51\n",
      "3    51\n",
      "Name: 3, dtype: int32\n",
      "\n",
      "Mínimos columna 4\n",
      "0    59\n",
      "1    61\n",
      "2    59\n",
      "3    93\n",
      "4    56\n",
      "Name: 4, dtype: int32\n",
      "\n",
      "Mínimos columna 5\n",
      "1    57\n",
      "2    51\n",
      "4    64\n",
      "Name: 5, dtype: int32\n",
      "\n",
      "Mínimos columna 6\n",
      "1    91\n",
      "2    73\n",
      "Name: 6, dtype: int32\n",
      "\n",
      "Mínimos columna 7\n",
      "1    70\n",
      "4    91\n",
      "Name: 7, dtype: int32\n",
      "\n",
      "Mínimos columna 8\n",
      "0    59\n",
      "1    51\n",
      "3    53\n",
      "Name: 8, dtype: int32\n",
      "\n",
      "Mínimos columna 9\n",
      "2    94\n",
      "3    51\n",
      "Name: 9, dtype: int32\n",
      "\n"
     ]
    }
   ],
   "source": [
    "# Por columnas\n",
    "for c in df_lst:\n",
    "    col_c = df_lst[c]\n",
    "    print(f'Mínimos columna {c}', col_c[col_c > 50], sep='\\n', end='\\n\\n')"
   ]
  }
 ],
 "metadata": {
  "kernelspec": {
   "display_name": "Python 3 (ipykernel)",
   "language": "python",
   "name": "python3"
  },
  "language_info": {
   "codemirror_mode": {
    "name": "ipython",
    "version": 3
   },
   "file_extension": ".py",
   "mimetype": "text/x-python",
   "name": "python",
   "nbconvert_exporter": "python",
   "pygments_lexer": "ipython3",
   "version": "3.9.12"
  }
 },
 "nbformat": 4,
 "nbformat_minor": 2
}
