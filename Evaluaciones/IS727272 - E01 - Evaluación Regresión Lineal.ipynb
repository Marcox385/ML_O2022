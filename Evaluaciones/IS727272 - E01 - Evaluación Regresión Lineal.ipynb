{
 "cells": [
  {
   "cell_type": "markdown",
   "id": "03b51e95",
   "metadata": {},
   "source": [
    "### IS727272 - Cordero Hernández, Marco Ricardo"
   ]
  },
  {
   "cell_type": "markdown",
   "id": "036bb818",
   "metadata": {},
   "source": [
    "# Evaluación de Regresión Lineal\n",
    "\n",
    "Fred is a very predictable man. For instance, when he uses his laptop, all he does is watch TV shows. He keeps on watching TV shows until his battery dies. Also, he is a very meticulous man, i.e. he pays great attention to minute details. He has been keeping logs of every time he charged his laptop, which includes how long he charged his laptop for and after that how long was he able to watch the TV. Now, Fred wants to use this log to predict how long will he be able to watch TV for when he starts so that he can plan his activities after watching his TV shows accordingly.\n",
    "\n",
    "Challenge\n",
    "\n",
    "You are given access to Fred’s laptop charging log by reading from the file “trainingdata.csv”. The training data file will consist of 100 lines, each with 2 comma-separated numbers.\n",
    "\n",
    "The first number denotes the amount of time the laptop was charged.\n",
    "The second number denotes the amount of time the battery lasted.\n",
    "\n",
    "Sample Input\n",
    "\n",
    "1.50\n",
    "\n",
    "Sample Output\n",
    "\n",
    "3.00\n",
    "\n",
    "Scoring\n",
    "\n",
    "Use the MSE score and R2 score. Compare these numbers and conclude how efficient is your model (W).\n",
    "\n",
    "NOTE: Do not use the regression library from sklearn. Use the Gradient Descent algorithm, you can add polinomials grades.\n",
    "\n",
    "* This problem was obtained from hackerrank: https://www.hackerrank.com/challenges/battery/problem?isFullScreen=true"
   ]
  },
  {
   "cell_type": "code",
   "execution_count": 1,
   "id": "4682bb13",
   "metadata": {},
   "outputs": [],
   "source": [
    "# Import libraries\n",
    "import math\n",
    "import pandas as pd\n",
    "import numpy as np\n",
    "from sklearn.model_selection import train_test_split\n",
    "import matplotlib.pyplot as plt"
   ]
  },
  {
   "cell_type": "code",
   "execution_count": 2,
   "id": "3483ef1c",
   "metadata": {},
   "outputs": [
    {
     "name": "stdout",
     "output_type": "stream",
     "text": [
      "X size: (100, 1)  Y size: (100, 1)\n"
     ]
    }
   ],
   "source": [
    "# 1. Read the data\n",
    "def load_csv(filename):\n",
    "    ds = pd.read_csv(filename, header = None)\n",
    "    x = np.array(ds[0])\n",
    "    y = np.array(ds[1])\n",
    "    x = np.reshape(x, (len(x), 1))\n",
    "    y = np.reshape(y, (len(y), 1))\n",
    "    \n",
    "    return x, y\n",
    "\n",
    "x, y = load_csv('./Datasets/01 - trainingdata.csv')\n",
    "print(f'X size: {np.shape(x)}  Y size: {np.shape(y)}')"
   ]
  },
  {
   "cell_type": "code",
   "execution_count": 3,
   "id": "fa6bdadb",
   "metadata": {},
   "outputs": [],
   "source": [
    "def display(data): # For better result displaying\n",
    "    print(data[:20])"
   ]
  },
  {
   "cell_type": "code",
   "execution_count": 4,
   "id": "2296a477",
   "metadata": {},
   "outputs": [
    {
     "name": "stdout",
     "output_type": "stream",
     "text": [
      "(100, 1)\n",
      "[[-0.6354013 ]\n",
      " [ 0.92517024]\n",
      " [-0.66783812]\n",
      " [-0.25336762]\n",
      " [-0.96337361]\n",
      " [ 1.17024845]\n",
      " [ 0.88192115]\n",
      " [ 0.33409927]\n",
      " [ 1.6495926 ]\n",
      " [ 0.10704151]\n",
      " [ 1.26395483]\n",
      " [ 0.362932  ]\n",
      " [ 1.64238441]\n",
      " [-1.59769368]\n",
      " [-0.9273327 ]\n",
      " [ 0.32328699]\n",
      " [-1.35982365]\n",
      " [-0.07316305]\n",
      " [ 0.26562153]\n",
      " [-1.64815096]]\n"
     ]
    }
   ],
   "source": [
    "# 2. Normalize\n",
    "def normalize(x):\n",
    "    return (x - np.mean(x, axis = 0)) / (np.ndarray.std(x, axis = 0))\n",
    "\n",
    "X_norm = normalize(x)\n",
    "\n",
    "print(np.shape(X_norm))\n",
    "display(X_norm[:20])"
   ]
  },
  {
   "cell_type": "code",
   "execution_count": 5,
   "id": "02af403f",
   "metadata": {},
   "outputs": [
    {
     "name": "stdout",
     "output_type": "stream",
     "text": [
      "(100, 2)\n",
      "[[ 1.         -0.6354013 ]\n",
      " [ 1.          0.92517024]\n",
      " [ 1.         -0.66783812]\n",
      " [ 1.         -0.25336762]\n",
      " [ 1.         -0.96337361]\n",
      " [ 1.          1.17024845]\n",
      " [ 1.          0.88192115]\n",
      " [ 1.          0.33409927]\n",
      " [ 1.          1.6495926 ]\n",
      " [ 1.          0.10704151]\n",
      " [ 1.          1.26395483]\n",
      " [ 1.          0.362932  ]\n",
      " [ 1.          1.64238441]\n",
      " [ 1.         -1.59769368]\n",
      " [ 1.         -0.9273327 ]\n",
      " [ 1.          0.32328699]\n",
      " [ 1.         -1.35982365]\n",
      " [ 1.         -0.07316305]\n",
      " [ 1.          0.26562153]\n",
      " [ 1.         -1.64815096]]\n"
     ]
    }
   ],
   "source": [
    "# 3. Add ones\n",
    "def add_ones(X):\n",
    "    ones = np.ones((len(X), 1))\n",
    "    X1 = np.concatenate((ones, X), axis = 1)\n",
    "\n",
    "    return X1\n",
    "\n",
    "x = add_ones(X_norm)\n",
    "print(np.shape(x))\n",
    "display(x)"
   ]
  },
  {
   "cell_type": "code",
   "execution_count": 6,
   "id": "307dc793",
   "metadata": {},
   "outputs": [
    {
     "name": "stdout",
     "output_type": "stream",
     "text": [
      "Shape of Training data:  (67, 2) (67, 1)\n",
      "Shape of Testing data:  (33, 2) (33, 1)\n"
     ]
    }
   ],
   "source": [
    "# 4. Split dataset\n",
    "X_train, X_test, y_train, y_test = train_test_split(x, y, test_size = 0.33, random_state = 1)\n",
    "print('Shape of Training data: ', np.shape(X_train), np.shape(y_train))\n",
    "print('Shape of Testing data: ', np.shape(X_test), np.shape(y_test))"
   ]
  },
  {
   "cell_type": "code",
   "execution_count": 7,
   "id": "085ed720",
   "metadata": {},
   "outputs": [],
   "source": [
    "# 5.1 Cost Function GD\n",
    "def mse(Y, Yt):\n",
    "    residual = Y - Yt\n",
    "    cost = np.dot(residual.T, residual) / len(Y)\n",
    "    return cost"
   ]
  },
  {
   "cell_type": "code",
   "execution_count": 8,
   "id": "ced40813",
   "metadata": {},
   "outputs": [],
   "source": [
    "# 5.2 Gradient Function GD\n",
    "def gradient(X, Y, W):\n",
    "    error = Y - np.dot(X, W.T)\n",
    "    grad = -2 * np.dot(X.T, error)\n",
    "    \n",
    "    return grad"
   ]
  },
  {
   "cell_type": "code",
   "execution_count": 9,
   "id": "54080fb6",
   "metadata": {},
   "outputs": [],
   "source": [
    "# 5.3 Gradient Descent Function GD\n",
    "def GD(X, Y, W, alpha, epsilon, iterations):\n",
    "    grad = gradient(X, Y, W)\n",
    "    gradnorm = np.linalg.norm(grad)\n",
    "    it = 0\n",
    "    J = []\n",
    "    \n",
    "    while gradnorm > epsilon and it < iterations:\n",
    "        grad = gradient(X, Y, W)\n",
    "        gradnorm = np.linalg.norm(grad)\n",
    "        W -= np.dot(alpha, grad.T)\n",
    "        it += 1\n",
    "        Yt = np.dot(X, W.T)\n",
    "        J.append(float(mse(Y, Yt)))\n",
    "    \n",
    "    return W, it, J"
   ]
  },
  {
   "cell_type": "code",
   "execution_count": 10,
   "id": "89e56e77",
   "metadata": {},
   "outputs": [
    {
     "name": "stdout",
     "output_type": "stream",
     "text": [
      "[[6.20679995 2.0242435 ]] 9336\n"
     ]
    },
    {
     "data": {
      "text/plain": [
       "[<matplotlib.lines.Line2D at 0x1c9ef881e50>]"
      ]
     },
     "execution_count": 10,
     "metadata": {},
     "output_type": "execute_result"
    },
    {
     "data": {
      "image/png": "[encoded data removed]",
      "text/plain": [
       "<Figure size 432x288 with 1 Axes>"
      ]
     },
     "metadata": {
      "needs_background": "light"
     },
     "output_type": "display_data"
    }
   ],
   "source": [
    "# 6. Execute GD and plot Cost\n",
    "m, n = np.shape(x)\n",
    "initw = np.zeros((1, n))\n",
    "\n",
    "w, iterations, J = GD(x, y, initw, 0.00001, 0.00001, 10000)\n",
    "original_w = w.copy()\n",
    "print(w, iterations)\n",
    "\n",
    "yt = np.dot(x, w.T)\n",
    "\n",
    "plt.plot(J)"
   ]
  },
  {
   "cell_type": "code",
   "execution_count": 11,
   "id": "0c92caeb",
   "metadata": {},
   "outputs": [
    {
     "name": "stdout",
     "output_type": "stream",
     "text": [
      "(67, 1) (33, 1)\n",
      "[[1.92843886]]\n"
     ]
    }
   ],
   "source": [
    "# 7. Make predictions\n",
    "yt = np.dot(X_test, w.T)\n",
    "costo = mse(y_test, yt)\n",
    "original_cost = costo.copy()\n",
    "\n",
    "print(np.shape(y_train), np.shape(yt))\n",
    "print(costo)"
   ]
  },
  {
   "cell_type": "code",
   "execution_count": 12,
   "id": "dcd7d12e",
   "metadata": {},
   "outputs": [
    {
     "name": "stdout",
     "output_type": "stream",
     "text": [
      "[[0.53314489]]\n"
     ]
    },
    {
     "data": {
      "text/plain": [
       "[<matplotlib.lines.Line2D at 0x1c9ef7fa5e0>]"
      ]
     },
     "execution_count": 12,
     "metadata": {},
     "output_type": "execute_result"
    },
    {
     "data": {
      "image/png": "[encoded data removed]",
      "text/plain": [
       "<Figure size 432x288 with 1 Axes>"
      ]
     },
     "metadata": {
      "needs_background": "light"
     },
     "output_type": "display_data"
    }
   ],
   "source": [
    "# 8. Add Polynomials\n",
    "\n",
    "# Read CSV\n",
    "x, y = load_csv('./Datasets/01 - trainingdata.csv')\n",
    "\n",
    "# Add polynomials\n",
    "x = np.concatenate((x, x*x, x**3), axis = 1)\n",
    "x = np.array(x)\n",
    "\n",
    "# Normalize\n",
    "X_norm = normalize(x)\n",
    "\n",
    "# Add ones\n",
    "x = add_ones(X_norm)\n",
    "\n",
    "m, n = np.shape(x)\n",
    "\n",
    "# Initialize w\n",
    "initw = np.zeros((1, n))\n",
    "\n",
    "# GD\n",
    "w, iterations, J = GD(x, y, initw, 0.00001, 0.00001, 10000)\n",
    "\n",
    "# Cost\n",
    "yt = np.dot(x, w.T)\n",
    "costo = mse(y, yt)\n",
    "\n",
    "print(costo)\n",
    "\n",
    "# Graph\n",
    "plt.plot(J)"
   ]
  },
  {
   "cell_type": "code",
   "execution_count": 13,
   "id": "27a39101",
   "metadata": {},
   "outputs": [
    {
     "name": "stdout",
     "output_type": "stream",
     "text": [
      "Cost with MSE: 1.9284388584247587\n",
      "Cost with MSE (polynomial): 0.5331448879274633\n",
      "Cost with R2: 0.6570822187530067\n"
     ]
    }
   ],
   "source": [
    "# 9. Conclusions\n",
    "\n",
    "# Comparison between costs\n",
    "def r2(Y, Yt):\n",
    "    error = Y - Yt\n",
    "    varianza = (Y - np.average(Y)) ** 2\n",
    "    cost = 1 - (np.sum(error ** 2)) / np.sum(varianza)\n",
    "    \n",
    "    return cost\n",
    "\n",
    "print(f'Cost with MSE: {original_cost[0][0]}')\n",
    "print(f'Cost with MSE (polynomial): {costo[0][0]}')\n",
    "\n",
    "yt = np.dot(original_w, X_test.T).T\n",
    "\n",
    "print(f'Cost with R2: {r2(y_test, yt)}')"
   ]
  },
  {
   "cell_type": "markdown",
   "id": "5d4580bd",
   "metadata": {},
   "source": [
    "Given the computed costs, it can be observed that adding more polynomials (capped at $x^3$ for this case) will result in better costs, meaning lower values.\n",
    "With R2, considering that resides between \\[0, 1\\] being 1 a perfect score, it can be concluded that this model it's not bad at all, but it can definetely be improve with some tweaks, like iteration or fine grained algorithms."
   ]
  }
 ],
 "metadata": {
  "kernelspec": {
   "display_name": "Python 3 (ipykernel)",
   "language": "python",
   "name": "python3"
  },
  "language_info": {
   "codemirror_mode": {
    "name": "ipython",
    "version": 3
   },
   "file_extension": ".py",
   "mimetype": "text/x-python",
   "name": "python",
   "nbconvert_exporter": "python",
   "pygments_lexer": "ipython3",
   "version": "3.9.12"
  }
 },
 "nbformat": 4,
 "nbformat_minor": 5
}
